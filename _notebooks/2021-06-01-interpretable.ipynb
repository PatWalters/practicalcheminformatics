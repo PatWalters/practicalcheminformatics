{
 "cells": [
  {
   "cell_type": "markdown",
   "id": "ahead-letters",
   "metadata": {},
   "source": [
    "# Assessing Model Interpretablity\n",
    "> Understanding and comparing the rationale behind machine learning model predictions\n",
    "\n",
    "- toc: true\n",
    "- branch: master\n",
    "- badges: true\n",
    "- comments: true\n",
    "- categories: [jupyter, ML, interpretability]\n",
    "- image: images/blog/interpret_blog.png\n",
    "- hide: false\n",
    "- search_exclude: false"
   ]
  },
  {
   "attachments": {},
   "cell_type": "markdown",
   "id": "satisfied-healing",
   "metadata": {},
   "source": [
    "### Introduction\n",
    "Given the recent uptick in the number of papers on interpretable models, I thought it would be interesting to create a simple example showing how one can highlight atoms that are predicted to be critical to a particular property or activity.  This example is motivated by the recent paper [Benchmarks for interpretation of QSAR models](https://jcheminf.biomedcentral.com/articles/10.1186/s13321-021-00519-x) by Mariia Matveieva and Pavel Polishchuk.  In this paper, the authors lay out benchmark datasets and evaluation metrics for model interpretability. In this post, we'll build a simple machine learning model and use some techniques implemented in the RDKit to evaluate the contributions of specific atoms in a molecule to a particular activity.  \n",
    "\n",
    "One of the things I like about the paper by Matveieva and Polishchuk is that it defines some simple cases where the answer is known, and the activity should be explainable.  We will consider the simplest case where we create a model to predict the number of nitrogen atoms in a molecule.  Once we've defined the model, we can systematically remove the contributions of one atom at a time, predict the activity of the modified molecule and see if the predicted activity changes.   The atoms whose absence brings about the largest changes are considered to be the most important."
   ]
  },
  {
   "cell_type": "markdown",
   "id": "alone-kidney",
   "metadata": {},
   "source": [
    "We begin by importing the necessary Python libraries."
   ]
  },
  {
   "cell_type": "code",
   "execution_count": 1,
   "id": "convertible-trademark",
   "metadata": {},
   "outputs": [],
   "source": [
    "import pandas as pd\n",
    "from rdkit import Chem\n",
    "from rdkit.Chem import Draw\n",
    "from rdkit.Chem import PandasTools\n",
    "from rdkit.Chem import AllChem\n",
    "from rdkit.Chem.Draw import SimilarityMaps\n",
    "from xgboost import XGBRegressor\n",
    "from tqdm.notebook import tqdm\n",
    "import numpy as np\n",
    "import seaborn as sns\n",
    "import io\n",
    "from PIL import Image\n",
    "from sklearn.metrics import roc_curve, roc_auc_score\n",
    "from rdkit.Chem.Draw import rdMolDraw2D\n",
    "from IPython.display import SVG\n",
    "from collections import defaultdict"
   ]
  },
  {
   "cell_type": "markdown",
   "id": "saved-picking",
   "metadata": {},
   "source": [
    "### Loading the Data\n",
    "The [GitHub repo](https://github.com/ci-lab-cz/ibenchmark) for the paper above contains several example datasets. The file N_train_lbl.sdf contains a set of molecules with a data field \"activity\" containing the number of nitrogen atoms in the molecule.  We will use this as the y value for our predictive model.  It also has a field, \"lbls\", containing a list of 1 and 0 values, with 1 for nitrogen atoms and 0 for other elements.  We will use this field to evaluate the validity of the importance measures. "
   ]
  },
  {
   "cell_type": "markdown",
   "id": "athletic-great",
   "metadata": {},
   "source": [
    "To start, we'll read the training data, convert the \"activity\" field to an integer, and add a fingerprint column."
   ]
  },
  {
   "cell_type": "code",
   "execution_count": 2,
   "id": "nervous-mailing",
   "metadata": {},
   "outputs": [
    {
     "data": {
      "application/vnd.jupyter.widget-view+json": {
       "model_id": "cffdf4a0b38c4fb4b0744a96a575a9cb",
       "version_major": 2,
       "version_minor": 0
      },
      "text/plain": [
       "  0%|          | 0/6995 [00:00<?, ?it/s]"
      ]
     },
     "metadata": {},
     "output_type": "display_data"
    }
   ],
   "source": [
    "df_train = PandasTools.LoadSDF(\"data/N_train_lbl.sdf.gz\")\n",
    "df_train.activity = df_train.activity.astype(int)\n",
    "df_train['fp'] = [AllChem.GetMorganFingerprintAsBitVect(x, 2) for x in tqdm(df_train.ROMol)]"
   ]
  },
  {
   "cell_type": "code",
   "execution_count": 3,
   "id": "standard-vertical",
   "metadata": {},
   "outputs": [
    {
     "data": {
      "text/html": [
       "<div>\n",
       "<style scoped>\n",
       "    .dataframe tbody tr th:only-of-type {\n",
       "        vertical-align: middle;\n",
       "    }\n",
       "\n",
       "    .dataframe tbody tr th {\n",
       "        vertical-align: top;\n",
       "    }\n",
       "\n",
       "    .dataframe thead th {\n",
       "        text-align: right;\n",
       "    }\n",
       "</style>\n",
       "<table border=\"1\" class=\"dataframe\">\n",
       "  <thead>\n",
       "    <tr style=\"text-align: right;\">\n",
       "      <th></th>\n",
       "      <th>N</th>\n",
       "      <th>ids</th>\n",
       "      <th>activity</th>\n",
       "      <th>lbls</th>\n",
       "      <th>ID</th>\n",
       "      <th>ROMol</th>\n",
       "      <th>fp</th>\n",
       "    </tr>\n",
       "  </thead>\n",
       "  <tbody>\n",
       "    <tr>\n",
       "      <th>0</th>\n",
       "      <td>2</td>\n",
       "      <td>19,23</td>\n",
       "      <td>2</td>\n",
       "      <td>0,0,0,0,0,0,0,0,0,0,0,0,0,0,0,0,0,0,1,0,0,0,1,...</td>\n",
       "      <td>CHEMBL379993</td>\n",
       "      <td><img data-content=\"rdkit/molecule\" src=\"data:image/png;base64,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\" alt=\"Mol\"/></td>\n",
       "      <td>[0, 0, 0, 0, 0, 0, 0, 0, 0, 0, 0, 0, 0, 0, 0, ...</td>\n",
       "    </tr>\n",
       "  </tbody>\n",
       "</table>\n",
       "</div>"
      ],
      "text/plain": [
       "   N    ids  activity                                               lbls  \\\n",
       "0  2  19,23         2  0,0,0,0,0,0,0,0,0,0,0,0,0,0,0,0,0,0,1,0,0,0,1,...   \n",
       "\n",
       "             ID                                              ROMol  \\\n",
       "0  CHEMBL379993  <img data-content=\"rdkit/molecule\" src=\"data:i...   \n",
       "\n",
       "                                                  fp  \n",
       "0  [0, 0, 0, 0, 0, 0, 0, 0, 0, 0, 0, 0, 0, 0, 0, ...  "
      ]
     },
     "execution_count": 3,
     "metadata": {},
     "output_type": "execute_result"
    }
   ],
   "source": [
    "df_train.head(1)"
   ]
  },
  {
   "cell_type": "markdown",
   "id": "private-democrat",
   "metadata": {},
   "source": [
    "In a similar fashion, we can read the test data, convert the \"activity\" field to an integer and add a fingerprint column"
   ]
  },
  {
   "cell_type": "code",
   "execution_count": 4,
   "id": "wired-advancement",
   "metadata": {},
   "outputs": [
    {
     "data": {
      "application/vnd.jupyter.widget-view+json": {
       "model_id": "31a251cb40094f9a847eec20374d1ba0",
       "version_major": 2,
       "version_minor": 0
      },
      "text/plain": [
       "  0%|          | 0/2999 [00:00<?, ?it/s]"
      ]
     },
     "metadata": {},
     "output_type": "display_data"
    }
   ],
   "source": [
    "df_test = PandasTools.LoadSDF(\"data/N_test_lbl.sdf.gz\")\n",
    "df_test.activity = df_test.activity.astype(int)\n",
    "df_test['fp'] = [AllChem.GetMorganFingerprintAsBitVect(x, 2) for x in tqdm(df_test.ROMol)]"
   ]
  },
  {
   "cell_type": "markdown",
   "id": "coated-centre",
   "metadata": {},
   "source": [
    "In order to build a model, we need to extract the X and y variables from the training dataframe."
   ]
  },
  {
   "cell_type": "code",
   "execution_count": 5,
   "id": "residential-macintosh",
   "metadata": {},
   "outputs": [],
   "source": [
    "t.rain_X = np.asarray(list(df_train.fp.values))\n",
    "train_y = df_train.activity.values"
   ]
  },
  {
   "cell_type": "markdown",
   "id": "supreme-bernard",
   "metadata": {},
   "source": [
    "### Building a Simple Machine Learning Model\n",
    "With a few lines of code, we can build an XGBoost regression model. "
   ]
  },
  {
   "cell_type": "code",
   "execution_count": 6,
   "id": "animated-taxation",
   "metadata": {},
   "outputs": [],
   "source": [
    "xgb = XGBRegressor()"
   ]
  },
  {
   "cell_type": "code",
   "execution_count": 7,
   "id": "reliable-reliance",
   "metadata": {},
   "outputs": [
    {
     "data": {
      "text/plain": [
       "XGBRegressor(base_score=0.5, booster='gbtree', colsample_bylevel=1,\n",
       "             colsample_bynode=1, colsample_bytree=1, gamma=0, gpu_id=-1,\n",
       "             importance_type='gain', interaction_constraints='',\n",
       "             learning_rate=0.300000012, max_delta_step=0, max_depth=6,\n",
       "             min_child_weight=1, missing=nan, monotone_constraints='()',\n",
       "             n_estimators=100, n_jobs=16, num_parallel_tree=1, random_state=0,\n",
       "             reg_alpha=0, reg_lambda=1, scale_pos_weight=1, subsample=1,\n",
       "             tree_method='exact', validate_parameters=1, verbosity=None)"
      ]
     },
     "execution_count": 7,
     "metadata": {},
     "output_type": "execute_result"
    }
   ],
   "source": [
    "xgb.fit(train_X,train_y)"
   ]
  },
  {
   "cell_type": "markdown",
   "id": "grateful-relationship",
   "metadata": {},
   "source": [
    "Extract the X and y variables from the test dataframe."
   ]
  },
  {
   "cell_type": "code",
   "execution_count": 8,
   "id": "diagnostic-theta",
   "metadata": {},
   "outputs": [],
   "source": [
    "test_X = np.asarray(list(df_test.fp.values))\n",
    "test_y = df_test.activity.values"
   ]
  },
  {
   "cell_type": "markdown",
   "id": "nominated-incident",
   "metadata": {},
   "source": [
    "Predict on the test set"
   ]
  },
  {
   "cell_type": "code",
   "execution_count": 9,
   "id": "proprietary-humor",
   "metadata": {},
   "outputs": [],
   "source": [
    "test_pred = xgb.predict(test_X)"
   ]
  },
  {
   "cell_type": "markdown",
   "id": "adjustable-credits",
   "metadata": {},
   "source": [
    "Plot the predictions as a violinplot. We could do this as a scatterplot, but a lot of points would be superimposed and it would be difficult to understand the spread of the predictions."
   ]
  },
  {
   "cell_type": "code",
   "execution_count": 10,
   "id": "tired-count",
   "metadata": {},
   "outputs": [
    {
     "data": {
      "image/png": "[encoded data removed]",
      "text/plain": [
       "<Figure size 432x288 with 1 Axes>"
      ]
     },
     "metadata": {
      "needs_background": "light"
     },
     "output_type": "display_data"
    }
   ],
   "source": [
    "sns.violinplot(x=test_y, y=test_pred);"
   ]
  },
  {
   "cell_type": "markdown",
   "id": "ultimate-poultry",
   "metadata": {},
   "source": [
    "### Intepreting the Model\n",
    "Now that we've built a model, we will take a look at one way that we can interpret the model.  We'll start by grabbing the first molecule in the training set.  We notice this molecule has 2 nitrogen atoms, with indices 18 and 22. "
   ]
  },
  {
   "cell_type": "code",
   "execution_count": 11,
   "id": "different-spectrum",
   "metadata": {},
   "outputs": [
    {
     "data": {
      "image/svg+xml": [
       "<svg xmlns=\"http://www.w3.org/2000/svg\" xmlns:rdkit=\"http://www.rdkit.org/xml\" xmlns:xlink=\"http://www.w3.org/1999/xlink\" version=\"1.1\" baseProfile=\"full\" xml:space=\"preserve\" width=\"500px\" height=\"500px\" viewBox=\"0 0 500 500\">\n",
       "<!-- END OF HEADER -->\n",
       "<rect style=\"opacity:1.0;fill:#FFFFFF;stroke:none\" width=\"500\" height=\"500\" x=\"0\" y=\"0\"> </rect>\n",
       "<path class=\"bond-0\" d=\"M 470.697,312.467 L 461.578,296.673\" style=\"fill:none;fill-rule:evenodd;stroke:#000000;stroke-width:2.0px;stroke-linecap:butt;stroke-linejoin:miter;stroke-opacity:1\"/>\n",
       "<path class=\"bond-0\" d=\"M 461.578,296.673 L 452.459,280.878\" style=\"fill:none;fill-rule:evenodd;stroke:#FF0000;stroke-width:2.0px;stroke-linecap:butt;stroke-linejoin:miter;stroke-opacity:1\"/>\n",
       "<path class=\"bond-1\" d=\"M 440.858,273.015 L 421.61,273.015\" style=\"fill:none;fill-rule:evenodd;stroke:#FF0000;stroke-width:2.0px;stroke-linecap:butt;stroke-linejoin:miter;stroke-opacity:1\"/>\n",
       "<path class=\"bond-1\" d=\"M 421.61,273.015 L 402.363,273.015\" style=\"fill:none;fill-rule:evenodd;stroke:#000000;stroke-width:2.0px;stroke-linecap:butt;stroke-linejoin:miter;stroke-opacity:1\"/>\n",
       "<path class=\"bond-2\" d=\"M 402.363,273.015 L 379.585,312.467\" style=\"fill:none;fill-rule:evenodd;stroke:#000000;stroke-width:2.0px;stroke-linecap:butt;stroke-linejoin:miter;stroke-opacity:1\"/>\n",
       "<path class=\"bond-2\" d=\"M 391.056,274.377 L 375.111,301.993\" style=\"fill:none;fill-rule:evenodd;stroke:#000000;stroke-width:2.0px;stroke-linecap:butt;stroke-linejoin:miter;stroke-opacity:1\"/>\n",
       "<path class=\"bond-29\" d=\"M 402.363,273.015 L 379.585,233.563\" style=\"fill:none;fill-rule:evenodd;stroke:#000000;stroke-width:2.0px;stroke-linecap:butt;stroke-linejoin:miter;stroke-opacity:1\"/>\n",
       "<path class=\"bond-3\" d=\"M 379.585,312.467 L 334.028,312.467\" style=\"fill:none;fill-rule:evenodd;stroke:#000000;stroke-width:2.0px;stroke-linecap:butt;stroke-linejoin:miter;stroke-opacity:1\"/>\n",
       "<path class=\"bond-4\" d=\"M 334.028,312.467 L 311.25,273.015\" style=\"fill:none;fill-rule:evenodd;stroke:#000000;stroke-width:2.0px;stroke-linecap:butt;stroke-linejoin:miter;stroke-opacity:1\"/>\n",
       "<path class=\"bond-4\" d=\"M 338.502,301.993 L 322.558,274.377\" style=\"fill:none;fill-rule:evenodd;stroke:#000000;stroke-width:2.0px;stroke-linecap:butt;stroke-linejoin:miter;stroke-opacity:1\"/>\n",
       "<path class=\"bond-32\" d=\"M 334.028,312.467 L 311.25,351.922\" style=\"fill:none;fill-rule:evenodd;stroke:#000000;stroke-width:2.0px;stroke-linecap:butt;stroke-linejoin:miter;stroke-opacity:1\"/>\n",
       "<path class=\"bond-5\" d=\"M 311.25,273.015 L 334.028,233.563\" style=\"fill:none;fill-rule:evenodd;stroke:#000000;stroke-width:2.0px;stroke-linecap:butt;stroke-linejoin:miter;stroke-opacity:1\"/>\n",
       "<path class=\"bond-9\" d=\"M 311.25,273.015 L 265.694,273.015\" style=\"fill:none;fill-rule:evenodd;stroke:#000000;stroke-width:2.0px;stroke-linecap:butt;stroke-linejoin:miter;stroke-opacity:1\"/>\n",
       "<path class=\"bond-6\" d=\"M 334.028,233.563 L 379.585,233.563\" style=\"fill:none;fill-rule:evenodd;stroke:#000000;stroke-width:2.0px;stroke-linecap:butt;stroke-linejoin:miter;stroke-opacity:1\"/>\n",
       "<path class=\"bond-6\" d=\"M 340.862,242.675 L 372.751,242.675\" style=\"fill:none;fill-rule:evenodd;stroke:#000000;stroke-width:2.0px;stroke-linecap:butt;stroke-linejoin:miter;stroke-opacity:1\"/>\n",
       "<path class=\"bond-7\" d=\"M 379.585,233.563 L 388.704,217.768\" style=\"fill:none;fill-rule:evenodd;stroke:#000000;stroke-width:2.0px;stroke-linecap:butt;stroke-linejoin:miter;stroke-opacity:1\"/>\n",
       "<path class=\"bond-7\" d=\"M 388.704,217.768 L 397.823,201.972\" style=\"fill:none;fill-rule:evenodd;stroke:#FF0000;stroke-width:2.0px;stroke-linecap:butt;stroke-linejoin:miter;stroke-opacity:1\"/>\n",
       "<path class=\"bond-8\" d=\"M 397.939,186.446 L 388.762,170.552\" style=\"fill:none;fill-rule:evenodd;stroke:#FF0000;stroke-width:2.0px;stroke-linecap:butt;stroke-linejoin:miter;stroke-opacity:1\"/>\n",
       "<path class=\"bond-8\" d=\"M 388.762,170.552 L 379.585,154.657\" style=\"fill:none;fill-rule:evenodd;stroke:#000000;stroke-width:2.0px;stroke-linecap:butt;stroke-linejoin:miter;stroke-opacity:1\"/>\n",
       "<path class=\"bond-10\" d=\"M 265.694,273.015 L 242.916,233.563\" style=\"fill:none;fill-rule:evenodd;stroke:#000000;stroke-width:2.0px;stroke-linecap:butt;stroke-linejoin:miter;stroke-opacity:1\"/>\n",
       "<path class=\"bond-17\" d=\"M 265.694,273.015 L 256.496,288.946\" style=\"fill:none;fill-rule:evenodd;stroke:#000000;stroke-width:2.0px;stroke-linecap:butt;stroke-linejoin:miter;stroke-opacity:1\"/>\n",
       "<path class=\"bond-17\" d=\"M 256.496,288.946 L 247.298,304.877\" style=\"fill:none;fill-rule:evenodd;stroke:#0000FF;stroke-width:2.0px;stroke-linecap:butt;stroke-linejoin:miter;stroke-opacity:1\"/>\n",
       "<path class=\"bond-11\" d=\"M 242.916,233.563 L 265.694,194.109\" style=\"fill:none;fill-rule:evenodd;stroke:#000000;stroke-width:2.0px;stroke-linecap:butt;stroke-linejoin:miter;stroke-opacity:1\"/>\n",
       "<path class=\"bond-11\" d=\"M 238.442,223.09 L 254.387,195.471\" style=\"fill:none;fill-rule:evenodd;stroke:#000000;stroke-width:2.0px;stroke-linecap:butt;stroke-linejoin:miter;stroke-opacity:1\"/>\n",
       "<path class=\"bond-30\" d=\"M 242.916,233.563 L 197.36,233.563\" style=\"fill:none;fill-rule:evenodd;stroke:#000000;stroke-width:2.0px;stroke-linecap:butt;stroke-linejoin:miter;stroke-opacity:1\"/>\n",
       "<path class=\"bond-12\" d=\"M 265.694,194.109 L 242.916,154.657\" style=\"fill:none;fill-rule:evenodd;stroke:#000000;stroke-width:2.0px;stroke-linecap:butt;stroke-linejoin:miter;stroke-opacity:1\"/>\n",
       "<path class=\"bond-13\" d=\"M 242.916,154.657 L 197.36,154.657\" style=\"fill:none;fill-rule:evenodd;stroke:#000000;stroke-width:2.0px;stroke-linecap:butt;stroke-linejoin:miter;stroke-opacity:1\"/>\n",
       "<path class=\"bond-13\" d=\"M 236.082,163.768 L 204.193,163.768\" style=\"fill:none;fill-rule:evenodd;stroke:#000000;stroke-width:2.0px;stroke-linecap:butt;stroke-linejoin:miter;stroke-opacity:1\"/>\n",
       "<path class=\"bond-14\" d=\"M 197.36,154.657 L 188.161,138.724\" style=\"fill:none;fill-rule:evenodd;stroke:#000000;stroke-width:2.0px;stroke-linecap:butt;stroke-linejoin:miter;stroke-opacity:1\"/>\n",
       "<path class=\"bond-14\" d=\"M 188.161,138.724 L 178.963,122.792\" style=\"fill:none;fill-rule:evenodd;stroke:#33CCCC;stroke-width:2.0px;stroke-linecap:butt;stroke-linejoin:miter;stroke-opacity:1\"/>\n",
       "<path class=\"bond-15\" d=\"M 197.36,154.657 L 174.582,194.109\" style=\"fill:none;fill-rule:evenodd;stroke:#000000;stroke-width:2.0px;stroke-linecap:butt;stroke-linejoin:miter;stroke-opacity:1\"/>\n",
       "<path class=\"bond-16\" d=\"M 174.582,194.109 L 197.36,233.563\" style=\"fill:none;fill-rule:evenodd;stroke:#000000;stroke-width:2.0px;stroke-linecap:butt;stroke-linejoin:miter;stroke-opacity:1\"/>\n",
       "<path class=\"bond-16\" d=\"M 185.889,195.471 L 201.834,223.09\" style=\"fill:none;fill-rule:evenodd;stroke:#000000;stroke-width:2.0px;stroke-linecap:butt;stroke-linejoin:miter;stroke-opacity:1\"/>\n",
       "<path class=\"bond-18\" d=\"M 236.884,312.467 L 217.122,312.467\" style=\"fill:none;fill-rule:evenodd;stroke:#0000FF;stroke-width:2.0px;stroke-linecap:butt;stroke-linejoin:miter;stroke-opacity:1\"/>\n",
       "<path class=\"bond-18\" d=\"M 217.122,312.467 L 197.36,312.467\" style=\"fill:none;fill-rule:evenodd;stroke:#000000;stroke-width:2.0px;stroke-linecap:butt;stroke-linejoin:miter;stroke-opacity:1\"/>\n",
       "<path class=\"bond-27\" d=\"M 247.298,320.057 L 256.496,335.989\" style=\"fill:none;fill-rule:evenodd;stroke:#0000FF;stroke-width:2.0px;stroke-linecap:butt;stroke-linejoin:miter;stroke-opacity:1\"/>\n",
       "<path class=\"bond-27\" d=\"M 256.496,335.989 L 265.694,351.922\" style=\"fill:none;fill-rule:evenodd;stroke:#000000;stroke-width:2.0px;stroke-linecap:butt;stroke-linejoin:miter;stroke-opacity:1\"/>\n",
       "<path class=\"bond-19\" d=\"M 201.305,310.189 L 192.186,294.395\" style=\"fill:none;fill-rule:evenodd;stroke:#000000;stroke-width:2.0px;stroke-linecap:butt;stroke-linejoin:miter;stroke-opacity:1\"/>\n",
       "<path class=\"bond-19\" d=\"M 192.186,294.395 L 183.067,278.6\" style=\"fill:none;fill-rule:evenodd;stroke:#FF0000;stroke-width:2.0px;stroke-linecap:butt;stroke-linejoin:miter;stroke-opacity:1\"/>\n",
       "<path class=\"bond-19\" d=\"M 193.414,314.745 L 184.295,298.95\" style=\"fill:none;fill-rule:evenodd;stroke:#000000;stroke-width:2.0px;stroke-linecap:butt;stroke-linejoin:miter;stroke-opacity:1\"/>\n",
       "<path class=\"bond-19\" d=\"M 184.295,298.95 L 175.176,283.156\" style=\"fill:none;fill-rule:evenodd;stroke:#FF0000;stroke-width:2.0px;stroke-linecap:butt;stroke-linejoin:miter;stroke-opacity:1\"/>\n",
       "<path class=\"bond-20\" d=\"M 197.36,312.467 L 174.582,351.922\" style=\"fill:none;fill-rule:evenodd;stroke:#000000;stroke-width:2.0px;stroke-linecap:butt;stroke-linejoin:miter;stroke-opacity:1\"/>\n",
       "<path class=\"bond-21\" d=\"M 174.582,351.922 L 154.819,351.922\" style=\"fill:none;fill-rule:evenodd;stroke:#000000;stroke-width:2.0px;stroke-linecap:butt;stroke-linejoin:miter;stroke-opacity:1\"/>\n",
       "<path class=\"bond-21\" d=\"M 154.819,351.922 L 135.057,351.922\" style=\"fill:none;fill-rule:evenodd;stroke:#0000FF;stroke-width:2.0px;stroke-linecap:butt;stroke-linejoin:miter;stroke-opacity:1\"/>\n",
       "<path class=\"bond-22\" d=\"M 124.644,344.332 L 115.445,328.399\" style=\"fill:none;fill-rule:evenodd;stroke:#0000FF;stroke-width:2.0px;stroke-linecap:butt;stroke-linejoin:miter;stroke-opacity:1\"/>\n",
       "<path class=\"bond-22\" d=\"M 115.445,328.399 L 106.247,312.467\" style=\"fill:none;fill-rule:evenodd;stroke:#000000;stroke-width:2.0px;stroke-linecap:butt;stroke-linejoin:miter;stroke-opacity:1\"/>\n",
       "<path class=\"bond-31\" d=\"M 124.643,359.511 L 115.445,375.442\" style=\"fill:none;fill-rule:evenodd;stroke:#0000FF;stroke-width:2.0px;stroke-linecap:butt;stroke-linejoin:miter;stroke-opacity:1\"/>\n",
       "<path class=\"bond-31\" d=\"M 115.445,375.442 L 106.247,391.373\" style=\"fill:none;fill-rule:evenodd;stroke:#000000;stroke-width:2.0px;stroke-linecap:butt;stroke-linejoin:miter;stroke-opacity:1\"/>\n",
       "<path class=\"bond-23\" d=\"M 106.247,312.467 L 60.6908,312.467\" style=\"fill:none;fill-rule:evenodd;stroke:#000000;stroke-width:2.0px;stroke-linecap:butt;stroke-linejoin:miter;stroke-opacity:1\"/>\n",
       "<path class=\"bond-24\" d=\"M 60.6908,312.467 L 51.5137,328.363\" style=\"fill:none;fill-rule:evenodd;stroke:#000000;stroke-width:2.0px;stroke-linecap:butt;stroke-linejoin:miter;stroke-opacity:1\"/>\n",
       "<path class=\"bond-24\" d=\"M 51.5137,328.363 L 42.3365,344.259\" style=\"fill:none;fill-rule:evenodd;stroke:#FF0000;stroke-width:2.0px;stroke-linecap:butt;stroke-linejoin:miter;stroke-opacity:1\"/>\n",
       "<path class=\"bond-25\" d=\"M 42.4525,359.785 L 51.5717,375.579\" style=\"fill:none;fill-rule:evenodd;stroke:#FF0000;stroke-width:2.0px;stroke-linecap:butt;stroke-linejoin:miter;stroke-opacity:1\"/>\n",
       "<path class=\"bond-25\" d=\"M 51.5717,375.579 L 60.6908,391.373\" style=\"fill:none;fill-rule:evenodd;stroke:#000000;stroke-width:2.0px;stroke-linecap:butt;stroke-linejoin:miter;stroke-opacity:1\"/>\n",
       "<path class=\"bond-26\" d=\"M 60.6908,391.373 L 106.247,391.373\" style=\"fill:none;fill-rule:evenodd;stroke:#000000;stroke-width:2.0px;stroke-linecap:butt;stroke-linejoin:miter;stroke-opacity:1\"/>\n",
       "<path class=\"bond-28\" d=\"M 265.694,351.922 L 311.25,351.922\" style=\"fill:none;fill-rule:evenodd;stroke:#000000;stroke-width:2.0px;stroke-linecap:butt;stroke-linejoin:miter;stroke-opacity:1\"/>\n",
       "<path class=\"atom-1\" d=\"M 441.997 273.052 Q 441.997 269.954, 443.528 268.223 Q 445.058 266.492, 447.919 266.492 Q 450.78 266.492, 452.311 268.223 Q 453.841 269.954, 453.841 273.052 Q 453.841 276.186, 452.293 277.972 Q 450.744 279.739, 447.919 279.739 Q 445.076 279.739, 443.528 277.972 Q 441.997 276.204, 441.997 273.052 M 447.919 278.281 Q 449.887 278.281, 450.944 276.969 Q 452.019 275.639, 452.019 273.052 Q 452.019 270.519, 450.944 269.243 Q 449.887 267.949, 447.919 267.949 Q 445.951 267.949, 444.876 269.225 Q 443.819 270.5, 443.819 273.052 Q 443.819 275.657, 444.876 276.969 Q 445.951 278.281, 447.919 278.281 \" fill=\"#FF0000\"/>\n",
       "<path class=\"atom-8\" d=\"M 396.441 194.145 Q 396.441 191.047, 397.971 189.316 Q 399.502 187.585, 402.363 187.585 Q 405.224 187.585, 406.755 189.316 Q 408.285 191.047, 408.285 194.145 Q 408.285 197.279, 406.736 199.065 Q 405.187 200.833, 402.363 200.833 Q 399.52 200.833, 397.971 199.065 Q 396.441 197.298, 396.441 194.145 M 402.363 199.375 Q 404.331 199.375, 405.388 198.063 Q 406.463 196.733, 406.463 194.145 Q 406.463 191.612, 405.388 190.337 Q 404.331 189.043, 402.363 189.043 Q 400.395 189.043, 399.32 190.318 Q 398.263 191.594, 398.263 194.145 Q 398.263 196.751, 399.32 198.063 Q 400.395 199.375, 402.363 199.375 \" fill=\"#FF0000\"/>\n",
       "<path class=\"atom-15\" d=\"M 170.746 108.751 L 178.417 108.751 L 178.417 110.227 L 172.477 110.227 L 172.477 114.145 L 177.761 114.145 L 177.761 115.64 L 172.477 115.64 L 172.477 121.653 L 170.746 121.653 L 170.746 108.751 \" fill=\"#33CCCC\"/>\n",
       "<path class=\"atom-18\" d=\"M 240.064 306.016 L 244.292 312.85 Q 244.711 313.524, 245.385 314.745 Q 246.059 315.966, 246.096 316.039 L 246.096 306.016 L 247.809 306.016 L 247.809 318.918 L 246.041 318.918 L 241.504 311.446 Q 240.975 310.572, 240.41 309.57 Q 239.864 308.567, 239.7 308.258 L 239.7 318.918 L 238.023 318.918 L 238.023 306.016 L 240.064 306.016 \" fill=\"#0000FF\"/>\n",
       "<path class=\"atom-20\" d=\"M 168.659 273.052 Q 168.659 269.954, 170.19 268.223 Q 171.721 266.492, 174.582 266.492 Q 177.442 266.492, 178.973 268.223 Q 180.504 269.954, 180.504 273.052 Q 180.504 276.186, 178.955 277.972 Q 177.406 279.739, 174.582 279.739 Q 171.739 279.739, 170.19 277.972 Q 168.659 276.204, 168.659 273.052 M 174.582 278.281 Q 176.55 278.281, 177.606 276.969 Q 178.682 275.639, 178.682 273.052 Q 178.682 270.519, 177.606 269.243 Q 176.55 267.949, 174.582 267.949 Q 172.613 267.949, 171.538 269.225 Q 170.481 270.5, 170.481 273.052 Q 170.481 275.657, 171.538 276.969 Q 172.613 278.281, 174.582 278.281 \" fill=\"#FF0000\"/>\n",
       "<path class=\"atom-22\" d=\"M 126.173 345.471 L 130.401 352.304 Q 130.82 352.979, 131.494 354.2 Q 132.169 355.42, 132.205 355.493 L 132.205 345.471 L 133.918 345.471 L 133.918 358.372 L 132.15 358.372 L 127.613 350.901 Q 127.085 350.027, 126.52 349.024 Q 125.973 348.022, 125.809 347.712 L 125.809 358.372 L 124.133 358.372 L 124.133 345.471 L 126.173 345.471 \" fill=\"#0000FF\"/>\n",
       "<path class=\"atom-25\" d=\"M 31.9904 351.958 Q 31.9904 348.86, 33.5211 347.129 Q 35.0518 345.398, 37.9127 345.398 Q 40.7736 345.398, 42.3043 347.129 Q 43.835 348.86, 43.835 351.958 Q 43.835 355.092, 42.2861 356.878 Q 40.7372 358.646, 37.9127 358.646 Q 35.07 358.646, 33.5211 356.878 Q 31.9904 355.111, 31.9904 351.958 M 37.9127 357.188 Q 39.8807 357.188, 40.9376 355.876 Q 42.0128 354.546, 42.0128 351.958 Q 42.0128 349.425, 40.9376 348.15 Q 39.8807 346.856, 37.9127 346.856 Q 35.9447 346.856, 34.8695 348.131 Q 33.8126 349.407, 33.8126 351.958 Q 33.8126 354.564, 34.8695 355.876 Q 35.9447 357.188, 37.9127 357.188 \" fill=\"#FF0000\"/>\n",
       "<path class=\"note\" d=\"M 477.273 312.005 Q 476.088 312.005, 475.496 311.131 Q 474.913 310.256, 474.913 308.698 Q 474.913 307.14, 475.496 306.274 Q 476.079 305.409, 477.273 305.409 Q 478.466 305.409, 479.049 306.274 Q 479.633 307.14, 479.633 308.698 Q 479.633 310.256, 479.04 311.131 Q 478.457 312.005, 477.273 312.005 M 477.273 311.276 Q 477.974 311.276, 478.348 310.629 Q 478.721 309.973, 478.721 308.698 Q 478.721 307.431, 478.348 306.784 Q 477.974 306.138, 477.273 306.138 Q 476.58 306.138, 476.198 306.784 Q 475.824 307.431, 475.824 308.698 Q 475.824 309.973, 476.198 310.629 Q 476.58 311.276, 477.273 311.276 \" fill=\"#000000\"/>\n",
       "<path class=\"note\" d=\"M 453.922 262.379 L 455.334 262.379 L 455.334 257.559 L 453.776 258.042 L 453.567 257.504 L 455.544 256.621 L 456.191 256.73 L 456.191 262.379 L 457.457 262.379 L 457.457 263.108 L 453.922 263.108 L 453.922 262.379 \" fill=\"#000000\"/>\n",
       "<path class=\"note\" d=\"M 404.004 277.623 Q 404.241 277.012, 404.806 276.675 Q 405.371 276.329, 406.155 276.329 Q 407.13 276.329, 407.676 276.857 Q 408.223 277.386, 408.223 278.324 Q 408.223 279.281, 407.512 280.174 Q 406.811 281.067, 405.353 282.124 L 408.332 282.124 L 408.332 282.853 L 403.986 282.853 L 403.986 282.242 Q 405.189 281.386, 405.9 280.748 Q 406.619 280.11, 406.966 279.536 Q 407.312 278.962, 407.312 278.37 Q 407.312 277.75, 407.002 277.404 Q 406.692 277.058, 406.155 277.058 Q 405.635 277.058, 405.289 277.267 Q 404.943 277.477, 404.697 277.942 L 404.004 277.623 \" fill=\"#000000\"/>\n",
       "<path class=\"note\" d=\"M 384.31 318.906 Q 384.939 319.088, 385.24 319.498 Q 385.55 319.899, 385.55 320.537 Q 385.55 321.083, 385.276 321.512 Q 385.003 321.931, 384.502 322.168 Q 384.001 322.395, 383.345 322.395 Q 382.652 322.395, 382.133 322.158 Q 381.623 321.912, 381.213 321.42 L 381.732 320.892 Q 382.133 321.329, 382.47 321.502 Q 382.807 321.666, 383.345 321.666 Q 383.928 321.666, 384.283 321.357 Q 384.638 321.038, 384.638 320.528 Q 384.638 319.872, 384.265 319.58 Q 383.9 319.279, 383.108 319.279 L 382.643 319.279 L 382.643 318.623 L 383.053 318.623 Q 383.755 318.614, 384.128 318.314 Q 384.502 318.004, 384.502 317.43 Q 384.502 317.011, 384.192 316.765 Q 383.882 316.51, 383.354 316.51 Q 382.816 316.51, 382.479 316.701 Q 382.151 316.892, 381.896 317.375 L 381.267 317.038 Q 381.495 316.5, 382.042 316.145 Q 382.588 315.781, 383.354 315.781 Q 384.301 315.781, 384.857 316.227 Q 385.413 316.674, 385.413 317.43 Q 385.413 317.949, 385.13 318.323 Q 384.848 318.696, 384.31 318.906 \" fill=\"#000000\"/>\n",
       "<path class=\"note\" d=\"M 328.144 313.478 L 328.919 313.478 L 328.919 314.207 L 328.144 314.207 L 328.144 315.692 L 327.288 315.692 L 327.288 314.207 L 323.953 314.207 L 323.953 313.633 L 326.777 309.242 L 328.144 309.242 L 328.144 313.478 M 325.01 313.478 L 327.288 313.478 L 327.288 309.825 L 325.01 313.478 \" fill=\"#000000\"/>\n",
       "<path class=\"note\" d=\"M 319.002 272.204 Q 319.567 272.204, 320.032 272.45 Q 320.497 272.687, 320.761 273.143 Q 321.025 273.589, 321.025 274.2 Q 321.025 274.865, 320.697 275.348 Q 320.378 275.821, 319.85 276.067 Q 319.321 276.313, 318.72 276.313 Q 318.128 276.313, 317.581 276.095 Q 317.034 275.876, 316.661 275.457 L 317.208 274.892 Q 317.508 275.22, 317.918 275.402 Q 318.328 275.575, 318.747 275.575 Q 319.321 275.575, 319.713 275.22 Q 320.114 274.865, 320.114 274.218 Q 320.114 273.535, 319.713 273.216 Q 319.321 272.888, 318.693 272.888 Q 318.128 272.888, 317.499 273.134 L 316.998 272.897 L 317.308 269.79 L 320.624 269.79 L 320.533 270.519 L 318.055 270.519 L 317.864 272.432 Q 318.438 272.204, 319.002 272.204 \" fill=\"#000000\"/>\n",
       "<path class=\"note\" d=\"M 330.519 226.223 Q 331.084 226.223, 331.531 226.469 Q 331.977 226.715, 332.223 227.161 Q 332.469 227.608, 332.469 228.172 Q 332.469 228.801, 332.187 229.293 Q 331.913 229.776, 331.421 230.049 Q 330.929 230.323, 330.3 230.323 Q 329.152 230.323, 328.569 229.548 Q 327.995 228.765, 327.995 227.216 Q 327.995 225.503, 328.706 224.619 Q 329.426 223.726, 330.802 223.726 Q 331.203 223.726, 331.54 223.817 Q 331.886 223.908, 332.214 224.1 L 331.859 224.71 Q 331.385 224.455, 330.811 224.455 Q 329.9 224.455, 329.435 225.047 Q 328.97 225.63, 328.916 226.842 Q 329.244 226.542, 329.654 226.387 Q 330.073 226.223, 330.519 226.223 M 330.31 229.576 Q 330.656 229.576, 330.938 229.393 Q 331.23 229.211, 331.394 228.892 Q 331.558 228.573, 331.558 228.182 Q 331.558 227.608, 331.239 227.28 Q 330.92 226.952, 330.355 226.952 Q 329.963 226.952, 329.572 227.116 Q 329.189 227.27, 328.916 227.544 Q 328.952 228.61, 329.289 229.093 Q 329.626 229.576, 330.31 229.576 \" fill=\"#000000\"/>\n",
       "<path class=\"note\" d=\"M 377.027 224.492 L 373.647 224.492 L 373.647 223.763 L 377.929 223.763 L 377.929 224.41 L 375.324 230.213 L 374.449 230.213 L 377.027 224.492 \" fill=\"#000000\"/>\n",
       "<path class=\"note\" d=\"M 418.56 193.954 Q 419.152 194.209, 419.489 194.591 Q 419.826 194.965, 419.826 195.603 Q 419.826 196.149, 419.544 196.578 Q 419.261 196.997, 418.751 197.234 Q 418.25 197.461, 417.585 197.461 Q 416.51 197.461, 415.89 196.969 Q 415.27 196.468, 415.27 195.603 Q 415.27 195.074, 415.544 194.682 Q 415.817 194.282, 416.382 193.981 Q 415.963 193.744, 415.735 193.398 Q 415.507 193.042, 415.507 192.496 Q 415.507 191.74, 416.054 191.293 Q 416.61 190.847, 417.548 190.847 Q 418.487 190.847, 419.033 191.293 Q 419.589 191.74, 419.589 192.496 Q 419.589 192.97, 419.325 193.325 Q 419.07 193.671, 418.56 193.954 M 417.548 191.53 Q 417.011 191.53, 416.71 191.785 Q 416.419 192.04, 416.419 192.496 Q 416.419 192.833, 416.619 193.061 Q 416.819 193.279, 417.102 193.407 Q 417.393 193.534, 417.949 193.726 Q 418.341 193.452, 418.505 193.161 Q 418.678 192.869, 418.678 192.496 Q 418.678 192.04, 418.377 191.785 Q 418.086 191.53, 417.548 191.53 M 417.585 196.778 Q 418.186 196.778, 418.551 196.459 Q 418.915 196.131, 418.915 195.594 Q 418.915 195.247, 418.724 195.029 Q 418.532 194.81, 418.241 194.682 Q 417.958 194.555, 417.448 194.391 L 417.038 194.254 Q 416.583 194.528, 416.382 194.856 Q 416.182 195.174, 416.182 195.594 Q 416.182 196.131, 416.564 196.459 Q 416.947 196.778, 417.585 196.778 \" fill=\"#000000\"/>\n",
       "<path class=\"note\" d=\"M 372.941 155.192 Q 374.089 155.192, 374.663 155.975 Q 375.246 156.75, 375.246 158.299 Q 375.246 160.011, 374.526 160.904 Q 373.816 161.788, 372.44 161.788 Q 372.039 161.788, 371.693 161.697 Q 371.356 161.606, 371.028 161.415 L 371.383 160.804 Q 371.857 161.059, 372.431 161.059 Q 373.342 161.059, 373.807 160.476 Q 374.271 159.884, 374.326 158.672 Q 373.998 158.973, 373.579 159.137 Q 373.169 159.292, 372.722 159.292 Q 372.157 159.292, 371.711 159.046 Q 371.265 158.8, 371.019 158.353 Q 370.773 157.907, 370.773 157.342 Q 370.773 156.713, 371.046 156.23 Q 371.328 155.738, 371.82 155.465 Q 372.312 155.192, 372.941 155.192 M 371.684 157.333 Q 371.684 157.907, 372.003 158.235 Q 372.321 158.563, 372.886 158.563 Q 373.278 158.563, 373.661 158.408 Q 374.053 158.244, 374.326 157.97 Q 374.289 156.904, 373.952 156.422 Q 373.615 155.939, 372.932 155.939 Q 372.586 155.939, 372.294 156.121 Q 372.012 156.303, 371.848 156.622 Q 371.684 156.941, 371.684 157.333 \" fill=\"#000000\"/>\n",
       "<path class=\"note\" d=\"M 251.928 275.548 L 253.341 275.548 L 253.341 270.728 L 251.783 271.211 L 251.573 270.674 L 253.55 269.79 L 254.197 269.899 L 254.197 275.548 L 255.464 275.548 L 255.464 276.277 L 251.928 276.277 L 251.928 275.548 \" fill=\"#000000\"/>\n",
       "<path class=\"note\" d=\"M 258.379 276.35 Q 257.195 276.35, 256.603 275.475 Q 256.019 274.601, 256.019 273.043 Q 256.019 271.485, 256.603 270.619 Q 257.186 269.753, 258.379 269.753 Q 259.573 269.753, 260.156 270.619 Q 260.739 271.485, 260.739 273.043 Q 260.739 274.601, 260.147 275.475 Q 259.564 276.35, 258.379 276.35 M 258.379 275.621 Q 259.081 275.621, 259.454 274.974 Q 259.828 274.318, 259.828 273.043 Q 259.828 271.776, 259.454 271.129 Q 259.081 270.482, 258.379 270.482 Q 257.687 270.482, 257.304 271.129 Q 256.931 271.776, 256.931 273.043 Q 256.931 274.318, 257.304 274.974 Q 257.687 275.621, 258.379 275.621 \" fill=\"#000000\"/>\n",
       "<path class=\"note\" d=\"M 233.393 242.654 L 234.806 242.654 L 234.806 237.834 L 233.247 238.317 L 233.038 237.779 L 235.015 236.895 L 235.662 237.005 L 235.662 242.654 L 236.928 242.654 L 236.928 243.383 L 233.393 243.383 L 233.393 242.654 \" fill=\"#000000\"/>\n",
       "<path class=\"note\" d=\"M 237.776 242.654 L 239.188 242.654 L 239.188 237.834 L 237.63 238.317 L 237.42 237.779 L 239.398 236.895 L 240.044 237.005 L 240.044 242.654 L 241.311 242.654 L 241.311 243.383 L 237.776 243.383 L 237.776 242.654 \" fill=\"#000000\"/>\n",
       "<path class=\"note\" d=\"M 267.351 196.641 L 268.763 196.641 L 268.763 191.822 L 267.205 192.305 L 266.995 191.767 L 268.973 190.883 L 269.619 190.993 L 269.619 196.641 L 270.886 196.641 L 270.886 197.37 L 267.351 197.37 L 267.351 196.641 \" fill=\"#000000\"/>\n",
       "<path class=\"note\" d=\"M 271.36 192.141 Q 271.597 191.53, 272.162 191.193 Q 272.726 190.847, 273.51 190.847 Q 274.485 190.847, 275.032 191.375 Q 275.578 191.904, 275.578 192.842 Q 275.578 193.799, 274.868 194.692 Q 274.166 195.585, 272.708 196.641 L 275.688 196.641 L 275.688 197.37 L 271.342 197.37 L 271.342 196.76 Q 272.544 195.903, 273.255 195.266 Q 273.975 194.628, 274.321 194.054 Q 274.667 193.48, 274.667 192.888 Q 274.667 192.268, 274.357 191.922 Q 274.048 191.576, 273.51 191.576 Q 272.991 191.576, 272.644 191.785 Q 272.298 191.995, 272.052 192.459 L 271.36 192.141 \" fill=\"#000000\"/>\n",
       "<path class=\"note\" d=\"M 240.817 150.614 L 242.23 150.614 L 242.23 145.795 L 240.671 146.277 L 240.462 145.74 L 242.439 144.856 L 243.086 144.965 L 243.086 150.614 L 244.352 150.614 L 244.352 151.343 L 240.817 151.343 L 240.817 150.614 \" fill=\"#000000\"/>\n",
       "<path class=\"note\" d=\"M 247.833 147.945 Q 248.462 148.127, 248.762 148.537 Q 249.072 148.938, 249.072 149.576 Q 249.072 150.122, 248.799 150.551 Q 248.525 150.97, 248.024 151.207 Q 247.523 151.434, 246.867 151.434 Q 246.175 151.434, 245.655 151.198 Q 245.145 150.951, 244.735 150.459 L 245.254 149.931 Q 245.655 150.368, 245.992 150.541 Q 246.33 150.705, 246.867 150.705 Q 247.45 150.705, 247.806 150.396 Q 248.161 150.077, 248.161 149.567 Q 248.161 148.911, 247.787 148.619 Q 247.423 148.318, 246.63 148.318 L 246.166 148.318 L 246.166 147.662 L 246.576 147.662 Q 247.277 147.653, 247.651 147.353 Q 248.024 147.043, 248.024 146.469 Q 248.024 146.05, 247.714 145.804 Q 247.405 145.549, 246.876 145.549 Q 246.339 145.549, 246.002 145.74 Q 245.674 145.931, 245.418 146.414 L 244.79 146.077 Q 245.018 145.539, 245.564 145.184 Q 246.111 144.82, 246.876 144.82 Q 247.824 144.82, 248.38 145.266 Q 248.935 145.713, 248.935 146.469 Q 248.935 146.988, 248.653 147.362 Q 248.37 147.735, 247.833 147.945 \" fill=\"#000000\"/>\n",
       "<path class=\"note\" d=\"M 183.612 157.172 L 185.025 157.172 L 185.025 152.352 L 183.467 152.835 L 183.257 152.297 L 185.234 151.413 L 185.881 151.523 L 185.881 157.172 L 187.147 157.172 L 187.147 157.9 L 183.612 157.9 L 183.612 157.172 \" fill=\"#000000\"/>\n",
       "<path class=\"note\" d=\"M 191.612 155.686 L 192.386 155.686 L 192.386 156.415 L 191.612 156.415 L 191.612 157.9 L 190.756 157.9 L 190.756 156.415 L 187.421 156.415 L 187.421 155.841 L 190.245 151.45 L 191.612 151.45 L 191.612 155.686 M 188.478 155.686 L 190.756 155.686 L 190.756 152.033 L 188.478 155.686 \" fill=\"#000000\"/>\n",
       "<path class=\"note\" d=\"M 161.062 104.566 L 162.474 104.566 L 162.474 99.7459 L 160.916 100.229 L 160.707 99.6913 L 162.684 98.8075 L 163.331 98.9168 L 163.331 104.566 L 164.597 104.566 L 164.597 105.295 L 161.062 105.295 L 161.062 104.566 \" fill=\"#000000\"/>\n",
       "<path class=\"note\" d=\"M 167.358 101.258 Q 167.923 101.258, 168.388 101.504 Q 168.852 101.741, 169.117 102.197 Q 169.381 102.643, 169.381 103.254 Q 169.381 103.919, 169.053 104.402 Q 168.734 104.876, 168.205 105.122 Q 167.677 105.368, 167.076 105.368 Q 166.483 105.368, 165.937 105.149 Q 165.39 104.93, 165.016 104.511 L 165.563 103.946 Q 165.864 104.274, 166.274 104.456 Q 166.684 104.63, 167.103 104.63 Q 167.677 104.63, 168.069 104.274 Q 168.47 103.919, 168.47 103.272 Q 168.47 102.589, 168.069 102.27 Q 167.677 101.942, 167.048 101.942 Q 166.483 101.942, 165.855 102.188 L 165.354 101.951 L 165.663 98.8439 L 168.98 98.8439 L 168.889 99.5728 L 166.411 99.5728 L 166.219 101.486 Q 166.793 101.258, 167.358 101.258 \" fill=\"#000000\"/>\n",
       "<path class=\"note\" d=\"M 160.907 196.641 L 162.319 196.641 L 162.319 191.822 L 160.761 192.305 L 160.552 191.767 L 162.529 190.883 L 163.176 190.993 L 163.176 196.641 L 164.442 196.641 L 164.442 197.37 L 160.907 197.37 L 160.907 196.641 \" fill=\"#000000\"/>\n",
       "<path class=\"note\" d=\"M 167.586 193.343 Q 168.15 193.343, 168.597 193.589 Q 169.043 193.835, 169.289 194.282 Q 169.535 194.728, 169.535 195.293 Q 169.535 195.922, 169.253 196.414 Q 168.98 196.897, 168.488 197.17 Q 167.996 197.443, 167.367 197.443 Q 166.219 197.443, 165.636 196.669 Q 165.062 195.885, 165.062 194.336 Q 165.062 192.623, 165.772 191.74 Q 166.492 190.847, 167.868 190.847 Q 168.269 190.847, 168.606 190.938 Q 168.952 191.029, 169.28 191.22 L 168.925 191.831 Q 168.451 191.576, 167.877 191.576 Q 166.966 191.576, 166.501 192.168 Q 166.037 192.751, 165.982 193.963 Q 166.31 193.662, 166.72 193.507 Q 167.139 193.343, 167.586 193.343 M 167.376 196.696 Q 167.722 196.696, 168.005 196.514 Q 168.296 196.332, 168.46 196.013 Q 168.624 195.694, 168.624 195.302 Q 168.624 194.728, 168.305 194.4 Q 167.986 194.072, 167.422 194.072 Q 167.03 194.072, 166.638 194.236 Q 166.255 194.391, 165.982 194.664 Q 166.018 195.73, 166.356 196.213 Q 166.693 196.696, 167.376 196.696 \" fill=\"#000000\"/>\n",
       "<path class=\"note\" d=\"M 187.805 242.654 L 189.217 242.654 L 189.217 237.834 L 187.659 238.317 L 187.45 237.779 L 189.427 236.895 L 190.074 237.005 L 190.074 242.654 L 191.34 242.654 L 191.34 243.383 L 187.805 243.383 L 187.805 242.654 \" fill=\"#000000\"/>\n",
       "<path class=\"note\" d=\"M 194.884 237.661 L 191.504 237.661 L 191.504 236.932 L 195.786 236.932 L 195.786 237.579 L 193.181 243.383 L 192.306 243.383 L 194.884 237.661 \" fill=\"#000000\"/>\n",
       "<path class=\"note\" d=\"M 229.228 301.849 L 230.64 301.849 L 230.64 297.029 L 229.082 297.512 L 228.873 296.974 L 230.85 296.091 L 231.497 296.2 L 231.497 301.849 L 232.763 301.849 L 232.763 302.578 L 229.228 302.578 L 229.228 301.849 \" fill=\"#000000\"/>\n",
       "<path class=\"note\" d=\"M 236.617 299.161 Q 237.209 299.416, 237.546 299.799 Q 237.884 300.172, 237.884 300.81 Q 237.884 301.357, 237.601 301.785 Q 237.319 302.204, 236.808 302.441 Q 236.307 302.669, 235.642 302.669 Q 234.567 302.669, 233.947 302.177 Q 233.328 301.676, 233.328 300.81 Q 233.328 300.282, 233.601 299.89 Q 233.875 299.489, 234.44 299.188 Q 234.02 298.951, 233.793 298.605 Q 233.565 298.25, 233.565 297.703 Q 233.565 296.947, 234.112 296.501 Q 234.667 296.054, 235.606 296.054 Q 236.544 296.054, 237.091 296.501 Q 237.647 296.947, 237.647 297.703 Q 237.647 298.177, 237.382 298.532 Q 237.127 298.879, 236.617 299.161 M 235.606 296.737 Q 235.068 296.737, 234.768 296.993 Q 234.476 297.248, 234.476 297.703 Q 234.476 298.04, 234.676 298.268 Q 234.877 298.487, 235.159 298.614 Q 235.451 298.742, 236.007 298.933 Q 236.398 298.66, 236.562 298.368 Q 236.736 298.077, 236.736 297.703 Q 236.736 297.248, 236.435 296.993 Q 236.143 296.737, 235.606 296.737 M 235.642 301.986 Q 236.244 301.986, 236.608 301.667 Q 236.972 301.339, 236.972 300.801 Q 236.972 300.455, 236.781 300.236 Q 236.59 300.017, 236.298 299.89 Q 236.016 299.762, 235.506 299.598 L 235.096 299.462 Q 234.64 299.735, 234.44 300.063 Q 234.239 300.382, 234.239 300.801 Q 234.239 301.339, 234.622 301.667 Q 235.004 301.986, 235.642 301.986 \" fill=\"#000000\"/>\n",
       "<path class=\"note\" d=\"M 176.152 315 L 177.564 315 L 177.564 310.18 L 176.006 310.663 L 175.796 310.125 L 177.773 309.242 L 178.42 309.351 L 178.42 315 L 179.687 315 L 179.687 315.729 L 176.152 315.729 L 176.152 315 \" fill=\"#000000\"/>\n",
       "<path class=\"note\" d=\"M 182.356 309.205 Q 183.504 309.205, 184.078 309.989 Q 184.662 310.763, 184.662 312.312 Q 184.662 314.025, 183.942 314.918 Q 183.231 315.802, 181.855 315.802 Q 181.454 315.802, 181.108 315.711 Q 180.771 315.62, 180.443 315.428 L 180.798 314.818 Q 181.272 315.073, 181.846 315.073 Q 182.757 315.073, 183.222 314.49 Q 183.687 313.897, 183.741 312.686 Q 183.413 312.986, 182.994 313.15 Q 182.584 313.305, 182.138 313.305 Q 181.573 313.305, 181.126 313.059 Q 180.68 312.813, 180.434 312.367 Q 180.188 311.92, 180.188 311.355 Q 180.188 310.727, 180.461 310.244 Q 180.744 309.752, 181.236 309.479 Q 181.728 309.205, 182.356 309.205 M 181.099 311.346 Q 181.099 311.92, 181.418 312.248 Q 181.737 312.576, 182.302 312.576 Q 182.694 312.576, 183.076 312.421 Q 183.468 312.257, 183.741 311.984 Q 183.705 310.918, 183.368 310.435 Q 183.031 309.952, 182.347 309.952 Q 182.001 309.952, 181.71 310.135 Q 181.427 310.317, 181.263 310.636 Q 181.099 310.955, 181.099 311.346 \" fill=\"#000000\"/>\n",
       "<path class=\"note\" d=\"M 160.023 257.896 Q 160.26 257.286, 160.825 256.949 Q 161.39 256.602, 162.173 256.602 Q 163.148 256.602, 163.695 257.131 Q 164.242 257.659, 164.242 258.598 Q 164.242 259.555, 163.531 260.447 Q 162.829 261.34, 161.372 262.397 L 164.351 262.397 L 164.351 263.126 L 160.005 263.126 L 160.005 262.516 Q 161.208 261.659, 161.918 261.021 Q 162.638 260.384, 162.984 259.81 Q 163.33 259.236, 163.33 258.643 Q 163.33 258.024, 163.021 257.678 Q 162.711 257.331, 162.173 257.331 Q 161.654 257.331, 161.308 257.541 Q 160.962 257.751, 160.716 258.215 L 160.023 257.896 \" fill=\"#000000\"/>\n",
       "<path class=\"note\" d=\"M 167.267 263.199 Q 166.082 263.199, 165.49 262.324 Q 164.907 261.45, 164.907 259.892 Q 164.907 258.334, 165.49 257.468 Q 166.073 256.602, 167.267 256.602 Q 168.46 256.602, 169.043 257.468 Q 169.626 258.334, 169.626 259.892 Q 169.626 261.45, 169.034 262.324 Q 168.451 263.199, 167.267 263.199 M 167.267 262.47 Q 167.968 262.47, 168.342 261.823 Q 168.715 261.167, 168.715 259.892 Q 168.715 258.625, 168.342 257.978 Q 167.968 257.331, 167.267 257.331 Q 166.574 257.331, 166.191 257.978 Q 165.818 258.625, 165.818 259.892 Q 165.818 261.167, 166.191 261.823 Q 166.574 262.47, 167.267 262.47 \" fill=\"#000000\"/>\n",
       "<path class=\"note\" d=\"M 171.859 356.529 Q 172.096 355.919, 172.661 355.582 Q 173.226 355.235, 174.009 355.235 Q 174.984 355.235, 175.531 355.764 Q 176.077 356.292, 176.077 357.231 Q 176.077 358.187, 175.367 359.08 Q 174.665 359.973, 173.207 361.03 L 176.187 361.03 L 176.187 361.759 L 171.841 361.759 L 171.841 361.149 Q 173.043 360.292, 173.754 359.654 Q 174.474 359.016, 174.82 358.442 Q 175.166 357.868, 175.166 357.276 Q 175.166 356.657, 174.856 356.31 Q 174.547 355.964, 174.009 355.964 Q 173.49 355.964, 173.144 356.174 Q 172.797 356.383, 172.551 356.848 L 171.859 356.529 \" fill=\"#000000\"/>\n",
       "<path class=\"note\" d=\"M 177.034 361.03 L 178.446 361.03 L 178.446 356.21 L 176.888 356.693 L 176.679 356.156 L 178.656 355.272 L 179.303 355.381 L 179.303 361.03 L 180.569 361.03 L 180.569 361.759 L 177.034 361.759 L 177.034 361.03 \" fill=\"#000000\"/>\n",
       "<path class=\"note\" d=\"M 129.889 336.803 Q 130.126 336.192, 130.691 335.855 Q 131.256 335.509, 132.04 335.509 Q 133.015 335.509, 133.561 336.037 Q 134.108 336.566, 134.108 337.504 Q 134.108 338.461, 133.397 339.354 Q 132.696 340.247, 131.238 341.304 L 134.217 341.304 L 134.217 342.033 L 129.871 342.033 L 129.871 341.422 Q 131.074 340.566, 131.785 339.928 Q 132.504 339.29, 132.851 338.716 Q 133.197 338.142, 133.197 337.55 Q 133.197 336.93, 132.887 336.584 Q 132.577 336.238, 132.04 336.238 Q 131.52 336.238, 131.174 336.447 Q 130.828 336.657, 130.582 337.122 L 129.889 336.803 \" fill=\"#000000\"/>\n",
       "<path class=\"note\" d=\"M 134.691 336.803 Q 134.928 336.192, 135.493 335.855 Q 136.058 335.509, 136.841 335.509 Q 137.816 335.509, 138.363 336.037 Q 138.91 336.566, 138.91 337.504 Q 138.91 338.461, 138.199 339.354 Q 137.497 340.247, 136.04 341.304 L 139.019 341.304 L 139.019 342.033 L 134.673 342.033 L 134.673 341.422 Q 135.876 340.566, 136.586 339.928 Q 137.306 339.29, 137.652 338.716 Q 137.998 338.142, 137.998 337.55 Q 137.998 336.93, 137.689 336.584 Q 137.379 336.238, 136.841 336.238 Q 136.322 336.238, 135.976 336.447 Q 135.63 336.657, 135.384 337.122 L 134.691 336.803 \" fill=\"#000000\"/>\n",
       "<path class=\"note\" d=\"M 103.356 303.923 Q 103.593 303.313, 104.158 302.976 Q 104.723 302.63, 105.506 302.63 Q 106.481 302.63, 107.028 303.158 Q 107.574 303.687, 107.574 304.625 Q 107.574 305.582, 106.864 306.475 Q 106.162 307.368, 104.704 308.424 L 107.684 308.424 L 107.684 309.153 L 103.338 309.153 L 103.338 308.543 Q 104.54 307.686, 105.251 307.049 Q 105.971 306.411, 106.317 305.837 Q 106.663 305.263, 106.663 304.671 Q 106.663 304.051, 106.353 303.705 Q 106.044 303.359, 105.506 303.359 Q 104.987 303.359, 104.641 303.568 Q 104.294 303.778, 104.048 304.242 L 103.356 303.923 \" fill=\"#000000\"/>\n",
       "<path class=\"note\" d=\"M 111.164 305.755 Q 111.793 305.937, 112.094 306.347 Q 112.403 306.748, 112.403 307.386 Q 112.403 307.932, 112.13 308.361 Q 111.857 308.78, 111.356 309.017 Q 110.854 309.244, 110.198 309.244 Q 109.506 309.244, 108.987 309.008 Q 108.476 308.762, 108.066 308.27 L 108.586 307.741 Q 108.987 308.178, 109.324 308.352 Q 109.661 308.516, 110.198 308.516 Q 110.782 308.516, 111.137 308.206 Q 111.492 307.887, 111.492 307.377 Q 111.492 306.721, 111.119 306.429 Q 110.754 306.128, 109.962 306.128 L 109.497 306.128 L 109.497 305.472 L 109.907 305.472 Q 110.608 305.463, 110.982 305.163 Q 111.356 304.853, 111.356 304.279 Q 111.356 303.86, 111.046 303.614 Q 110.736 303.359, 110.208 303.359 Q 109.67 303.359, 109.333 303.55 Q 109.005 303.741, 108.75 304.224 L 108.121 303.887 Q 108.349 303.349, 108.896 302.994 Q 109.442 302.63, 110.208 302.63 Q 111.155 302.63, 111.711 303.076 Q 112.267 303.523, 112.267 304.279 Q 112.267 304.798, 111.984 305.172 Q 111.702 305.545, 111.164 305.755 \" fill=\"#000000\"/>\n",
       "<path class=\"note\" d=\"M 49.9471 303.923 Q 50.184 303.313, 50.7489 302.976 Q 51.3138 302.63, 52.0973 302.63 Q 53.0722 302.63, 53.6189 303.158 Q 54.1656 303.687, 54.1656 304.625 Q 54.1656 305.582, 53.4549 306.475 Q 52.7533 307.368, 51.2955 308.424 L 54.2749 308.424 L 54.2749 309.153 L 49.9289 309.153 L 49.9289 308.543 Q 51.1315 307.686, 51.8422 307.049 Q 52.562 306.411, 52.9082 305.837 Q 53.2545 305.263, 53.2545 304.671 Q 53.2545 304.051, 52.9447 303.705 Q 52.6349 303.359, 52.0973 303.359 Q 51.578 303.359, 51.2318 303.568 Q 50.8855 303.778, 50.6395 304.242 L 49.9471 303.923 \" fill=\"#000000\"/>\n",
       "<path class=\"note\" d=\"M 58.7394 306.939 L 59.5139 306.939 L 59.5139 307.668 L 58.7394 307.668 L 58.7394 309.153 L 57.883 309.153 L 57.883 307.668 L 54.5483 307.668 L 54.5483 307.094 L 57.3728 302.703 L 58.7394 302.703 L 58.7394 306.939 M 55.6052 306.939 L 57.883 306.939 L 57.883 303.286 L 55.6052 306.939 \" fill=\"#000000\"/>\n",
       "<path class=\"note\" d=\"M 16.0077 349.954 Q 16.2446 349.343, 16.8095 349.006 Q 17.3744 348.66, 18.158 348.66 Q 19.1329 348.66, 19.6796 349.189 Q 20.2262 349.717, 20.2262 350.655 Q 20.2262 351.612, 19.5156 352.505 Q 18.814 353.398, 17.3562 354.455 L 20.3356 354.455 L 20.3356 355.184 L 15.9895 355.184 L 15.9895 354.573 Q 17.1922 353.717, 17.9029 353.079 Q 18.6227 352.441, 18.9689 351.867 Q 19.3151 351.293, 19.3151 350.701 Q 19.3151 350.081, 19.0053 349.735 Q 18.6955 349.389, 18.158 349.389 Q 17.6386 349.389, 17.2924 349.599 Q 16.9462 349.808, 16.7002 350.273 L 16.0077 349.954 \" fill=\"#000000\"/>\n",
       "<path class=\"note\" d=\"M 23.0963 351.147 Q 23.6612 351.147, 24.1259 351.393 Q 24.5905 351.63, 24.8548 352.086 Q 25.119 352.532, 25.119 353.143 Q 25.119 353.808, 24.791 354.291 Q 24.4721 354.765, 23.9436 355.011 Q 23.4152 355.257, 22.8138 355.257 Q 22.2216 355.257, 21.6749 355.038 Q 21.1282 354.819, 20.7547 354.4 L 21.3014 353.835 Q 21.602 354.163, 22.012 354.346 Q 22.422 354.519, 22.8412 354.519 Q 23.4152 354.519, 23.807 354.163 Q 24.2079 353.808, 24.2079 353.161 Q 24.2079 352.478, 23.807 352.159 Q 23.4152 351.831, 22.7865 351.831 Q 22.2216 351.831, 21.5929 352.077 L 21.0918 351.84 L 21.4016 348.733 L 24.7181 348.733 L 24.627 349.462 L 22.1487 349.462 L 21.9574 351.375 Q 22.5314 351.147, 23.0963 351.147 \" fill=\"#000000\"/>\n",
       "<path class=\"note\" d=\"M 50.0201 395.981 Q 50.257 395.37, 50.8219 395.033 Q 51.3868 394.687, 52.1703 394.687 Q 53.1452 394.687, 53.6919 395.216 Q 54.2386 395.744, 54.2386 396.682 Q 54.2386 397.639, 53.5279 398.532 Q 52.8263 399.425, 51.3685 400.482 L 54.3479 400.482 L 54.3479 401.211 L 50.0019 401.211 L 50.0019 400.6 Q 51.2045 399.744, 51.9152 399.106 Q 52.635 398.468, 52.9812 397.894 Q 53.3275 397.32, 53.3275 396.728 Q 53.3275 396.108, 53.0177 395.762 Q 52.7079 395.416, 52.1703 395.416 Q 51.651 395.416, 51.3048 395.626 Q 50.9585 395.835, 50.7125 396.3 L 50.0201 395.981 \" fill=\"#000000\"/>\n",
       "<path class=\"note\" d=\"M 57.4913 397.184 Q 58.0562 397.184, 58.5027 397.43 Q 58.9491 397.676, 59.1951 398.122 Q 59.4411 398.568, 59.4411 399.133 Q 59.4411 399.762, 59.1587 400.254 Q 58.8853 400.737, 58.3933 401.01 Q 57.9013 401.284, 57.2726 401.284 Q 56.1246 401.284, 55.5415 400.509 Q 54.9675 399.726, 54.9675 398.177 Q 54.9675 396.464, 55.6782 395.58 Q 56.398 394.687, 57.7738 394.687 Q 58.1747 394.687, 58.5118 394.778 Q 58.858 394.869, 59.186 395.061 L 58.8307 395.671 Q 58.3569 395.416, 57.7829 395.416 Q 56.8717 395.416, 56.4071 396.008 Q 55.9424 396.591, 55.8877 397.803 Q 56.2157 397.502, 56.6257 397.348 Q 57.0449 397.184, 57.4913 397.184 M 57.2817 400.537 Q 57.628 400.537, 57.9104 400.354 Q 58.202 400.172, 58.366 399.853 Q 58.53 399.534, 58.53 399.143 Q 58.53 398.568, 58.2111 398.24 Q 57.8922 397.912, 57.3273 397.912 Q 56.9355 397.912, 56.5437 398.076 Q 56.1611 398.231, 55.8877 398.505 Q 55.9242 399.571, 56.2613 400.054 Q 56.5984 400.537, 57.2817 400.537 \" fill=\"#000000\"/>\n",
       "<path class=\"note\" d=\"M 103.492 395.981 Q 103.729 395.37, 104.294 395.033 Q 104.859 394.687, 105.643 394.687 Q 106.618 394.687, 107.164 395.216 Q 107.711 395.744, 107.711 396.682 Q 107.711 397.639, 107 398.532 Q 106.299 399.425, 104.841 400.482 L 107.82 400.482 L 107.82 401.211 L 103.474 401.211 L 103.474 400.6 Q 104.677 399.744, 105.388 399.106 Q 106.107 398.468, 106.454 397.894 Q 106.8 397.32, 106.8 396.728 Q 106.8 396.108, 106.49 395.762 Q 106.18 395.416, 105.643 395.416 Q 105.123 395.416, 104.777 395.626 Q 104.431 395.835, 104.185 396.3 L 103.492 395.981 \" fill=\"#000000\"/>\n",
       "<path class=\"note\" d=\"M 111.365 395.489 L 107.984 395.489 L 107.984 394.76 L 112.267 394.76 L 112.267 395.407 L 109.661 401.211 L 108.786 401.211 L 111.365 395.489 \" fill=\"#000000\"/>\n",
       "<path class=\"note\" d=\"M 255.01 356.529 Q 255.246 355.919, 255.811 355.582 Q 256.376 355.235, 257.16 355.235 Q 258.135 355.235, 258.681 355.764 Q 259.228 356.292, 259.228 357.231 Q 259.228 358.187, 258.517 359.08 Q 257.816 359.973, 256.358 361.03 L 259.337 361.03 L 259.337 361.759 L 254.991 361.759 L 254.991 361.149 Q 256.194 360.292, 256.905 359.654 Q 257.624 359.016, 257.971 358.442 Q 258.317 357.868, 258.317 357.276 Q 258.317 356.657, 258.007 356.31 Q 257.697 355.964, 257.16 355.964 Q 256.64 355.964, 256.294 356.174 Q 255.948 356.383, 255.702 356.848 L 255.01 356.529 \" fill=\"#000000\"/>\n",
       "<path class=\"note\" d=\"M 263.191 358.342 Q 263.784 358.597, 264.121 358.98 Q 264.458 359.354, 264.458 359.991 Q 264.458 360.538, 264.175 360.966 Q 263.893 361.385, 263.383 361.622 Q 262.882 361.85, 262.217 361.85 Q 261.141 361.85, 260.522 361.358 Q 259.902 360.857, 259.902 359.991 Q 259.902 359.463, 260.176 359.071 Q 260.449 358.67, 261.014 358.37 Q 260.595 358.133, 260.367 357.786 Q 260.139 357.431, 260.139 356.884 Q 260.139 356.128, 260.686 355.682 Q 261.242 355.235, 262.18 355.235 Q 263.119 355.235, 263.665 355.682 Q 264.221 356.128, 264.221 356.884 Q 264.221 357.358, 263.957 357.714 Q 263.702 358.06, 263.191 358.342 M 262.18 355.919 Q 261.643 355.919, 261.342 356.174 Q 261.05 356.429, 261.05 356.884 Q 261.05 357.222, 261.251 357.449 Q 261.451 357.668, 261.734 357.796 Q 262.025 357.923, 262.581 358.114 Q 262.973 357.841, 263.137 357.55 Q 263.31 357.258, 263.31 356.884 Q 263.31 356.429, 263.009 356.174 Q 262.718 355.919, 262.18 355.919 M 262.217 361.167 Q 262.818 361.167, 263.182 360.848 Q 263.547 360.52, 263.547 359.982 Q 263.547 359.636, 263.355 359.417 Q 263.164 359.199, 262.873 359.071 Q 262.59 358.944, 262.08 358.78 L 261.67 358.643 Q 261.214 358.916, 261.014 359.244 Q 260.813 359.563, 260.813 359.982 Q 260.813 360.52, 261.196 360.848 Q 261.579 361.167, 262.217 361.167 \" fill=\"#000000\"/>\n",
       "<path class=\"note\" d=\"M 308.232 356.529 Q 308.468 355.919, 309.033 355.582 Q 309.598 355.235, 310.382 355.235 Q 311.357 355.235, 311.903 355.764 Q 312.45 356.292, 312.45 357.231 Q 312.45 358.187, 311.739 359.08 Q 311.038 359.973, 309.58 361.03 L 312.559 361.03 L 312.559 361.759 L 308.213 361.759 L 308.213 361.149 Q 309.416 360.292, 310.127 359.654 Q 310.846 359.016, 311.193 358.442 Q 311.539 357.868, 311.539 357.276 Q 311.539 356.657, 311.229 356.31 Q 310.919 355.964, 310.382 355.964 Q 309.862 355.964, 309.516 356.174 Q 309.17 356.383, 308.924 356.848 L 308.232 356.529 \" fill=\"#000000\"/>\n",
       "<path class=\"note\" d=\"M 315.229 355.235 Q 316.377 355.235, 316.951 356.019 Q 317.534 356.793, 317.534 358.342 Q 317.534 360.055, 316.814 360.948 Q 316.104 361.832, 314.728 361.832 Q 314.327 361.832, 313.981 361.741 Q 313.644 361.65, 313.316 361.458 L 313.671 360.848 Q 314.145 361.103, 314.719 361.103 Q 315.63 361.103, 316.095 360.52 Q 316.559 359.928, 316.614 358.716 Q 316.286 359.016, 315.867 359.18 Q 315.457 359.335, 315.01 359.335 Q 314.445 359.335, 313.999 359.089 Q 313.553 358.843, 313.307 358.397 Q 313.061 357.95, 313.061 357.386 Q 313.061 356.757, 313.334 356.274 Q 313.616 355.782, 314.108 355.509 Q 314.6 355.235, 315.229 355.235 M 313.972 357.376 Q 313.972 357.95, 314.291 358.278 Q 314.609 358.606, 315.174 358.606 Q 315.566 358.606, 315.949 358.452 Q 316.341 358.288, 316.614 358.014 Q 316.577 356.948, 316.24 356.465 Q 315.903 355.982, 315.22 355.982 Q 314.874 355.982, 314.582 356.165 Q 314.3 356.347, 314.136 356.666 Q 313.972 356.985, 313.972 357.376 \" fill=\"#000000\"/>\n",
       "</svg>"
      ],
      "text/plain": [
       "<IPython.core.display.SVG object>"
      ]
     },
     "execution_count": 11,
     "metadata": {},
     "output_type": "execute_result"
    }
   ],
   "source": [
    "example_mol = Chem.Mol(df_train.ROMol.values[0])\n",
    "d2d = rdMolDraw2D.MolDraw2DSVG(500,500)\n",
    "d2d.drawOptions().addAtomIndices=True\n",
    "d2d.DrawMolecule(example_mol)\n",
    "d2d.FinishDrawing()\n",
    "SVG(d2d.GetDrawingText())"
   ]
  },
  {
   "cell_type": "markdown",
   "id": "cloudy-specification",
   "metadata": {},
   "source": [
    "We can generate a fingerprint for this molecule and use our model to predict its activity (number of nitrogens).  Note that the number of nitrogens is predicted to be 1.8, rather than 2. "
   ]
  },
  {
   "cell_type": "code",
   "execution_count": 12,
   "id": "cooked-newman",
   "metadata": {},
   "outputs": [
    {
     "data": {
      "text/plain": [
       "1.810564"
      ]
     },
     "execution_count": 12,
     "metadata": {},
     "output_type": "execute_result"
    }
   ],
   "source": [
    "example_fp = AllChem.GetMorganFingerprintAsBitVect(example_mol,2)\n",
    "example_pred = xgb.predict(np.array([example_fp]))[0]\n",
    "example_pred"
   ]
  },
  {
   "attachments": {},
   "cell_type": "markdown",
   "id": "parliamentary-imperial",
   "metadata": {},
   "source": [
    "One way of assessing the importance of atoms to a predicted activity is to \"mask\" each atom and predict the activity using a fingerprint generated with the masked atom.  If the prediction with the \"masked\" atom is similar to the prediction with the original molecule, that atom has little impact on the prediction.  On the other hand, if masking the atom makes a large change in the prediction, we consider that atom important.  We can use the function **SimilarityMaps.GetMorganFingerprint** to generate a fingerprint with an atom masked.  This function takes two arguments, the input molecule, and the index of the atom to be masked. \n",
    "\n",
    "In the code block below, we loop over atoms, generate a fingerprint with each atom masked, and generate a prediction with the masked fingerprint.  At each iteration, we record the predicted activity and \"delta\", the difference between the activity of the original molecule with no atoms masked and the new molecule with one atom masked.  This data is collected and displayed in a dataframe that is sorted by delta. As we can see in the resulting table, the two nitrogen atoms 18 and 22, have the highest values for delta."
   ]
  },
  {
   "cell_type": "code",
   "execution_count": 13,
   "id": "acoustic-rebound",
   "metadata": {},
   "outputs": [
    {
     "data": {
      "text/html": [
       "<div>\n",
       "<style scoped>\n",
       "    .dataframe tbody tr th:only-of-type {\n",
       "        vertical-align: middle;\n",
       "    }\n",
       "\n",
       "    .dataframe tbody tr th {\n",
       "        vertical-align: top;\n",
       "    }\n",
       "\n",
       "    .dataframe thead th {\n",
       "        text-align: right;\n",
       "    }\n",
       "</style>\n",
       "<table border=\"1\" class=\"dataframe\">\n",
       "  <thead>\n",
       "    <tr style=\"text-align: right;\">\n",
       "      <th></th>\n",
       "      <th>Atom Type</th>\n",
       "      <th>Atom Index</th>\n",
       "      <th>Predicted Value</th>\n",
       "      <th>Delta</th>\n",
       "    </tr>\n",
       "  </thead>\n",
       "  <tbody>\n",
       "    <tr>\n",
       "      <th>18</th>\n",
       "      <td>N</td>\n",
       "      <td>18</td>\n",
       "      <td>0.631518</td>\n",
       "      <td>1.179046</td>\n",
       "    </tr>\n",
       "    <tr>\n",
       "      <th>22</th>\n",
       "      <td>N</td>\n",
       "      <td>22</td>\n",
       "      <td>0.659471</td>\n",
       "      <td>1.151093</td>\n",
       "    </tr>\n",
       "    <tr>\n",
       "      <th>21</th>\n",
       "      <td>C</td>\n",
       "      <td>21</td>\n",
       "      <td>1.429062</td>\n",
       "      <td>0.381502</td>\n",
       "    </tr>\n",
       "    <tr>\n",
       "      <th>29</th>\n",
       "      <td>C</td>\n",
       "      <td>29</td>\n",
       "      <td>1.438288</td>\n",
       "      <td>0.372276</td>\n",
       "    </tr>\n",
       "    <tr>\n",
       "      <th>27</th>\n",
       "      <td>C</td>\n",
       "      <td>27</td>\n",
       "      <td>1.445818</td>\n",
       "      <td>0.364746</td>\n",
       "    </tr>\n",
       "    <tr>\n",
       "      <th>23</th>\n",
       "      <td>C</td>\n",
       "      <td>23</td>\n",
       "      <td>1.445818</td>\n",
       "      <td>0.364746</td>\n",
       "    </tr>\n",
       "    <tr>\n",
       "      <th>28</th>\n",
       "      <td>C</td>\n",
       "      <td>28</td>\n",
       "      <td>1.523000</td>\n",
       "      <td>0.287564</td>\n",
       "    </tr>\n",
       "    <tr>\n",
       "      <th>11</th>\n",
       "      <td>C</td>\n",
       "      <td>11</td>\n",
       "      <td>1.527700</td>\n",
       "      <td>0.282864</td>\n",
       "    </tr>\n",
       "    <tr>\n",
       "      <th>10</th>\n",
       "      <td>C</td>\n",
       "      <td>10</td>\n",
       "      <td>1.527700</td>\n",
       "      <td>0.282864</td>\n",
       "    </tr>\n",
       "    <tr>\n",
       "      <th>20</th>\n",
       "      <td>O</td>\n",
       "      <td>20</td>\n",
       "      <td>1.533833</td>\n",
       "      <td>0.276731</td>\n",
       "    </tr>\n",
       "    <tr>\n",
       "      <th>19</th>\n",
       "      <td>C</td>\n",
       "      <td>19</td>\n",
       "      <td>1.537342</td>\n",
       "      <td>0.273222</td>\n",
       "    </tr>\n",
       "    <tr>\n",
       "      <th>5</th>\n",
       "      <td>C</td>\n",
       "      <td>5</td>\n",
       "      <td>1.555402</td>\n",
       "      <td>0.255162</td>\n",
       "    </tr>\n",
       "    <tr>\n",
       "      <th>26</th>\n",
       "      <td>C</td>\n",
       "      <td>26</td>\n",
       "      <td>1.609091</td>\n",
       "      <td>0.201473</td>\n",
       "    </tr>\n",
       "    <tr>\n",
       "      <th>24</th>\n",
       "      <td>C</td>\n",
       "      <td>24</td>\n",
       "      <td>1.609091</td>\n",
       "      <td>0.201473</td>\n",
       "    </tr>\n",
       "    <tr>\n",
       "      <th>17</th>\n",
       "      <td>C</td>\n",
       "      <td>17</td>\n",
       "      <td>1.632672</td>\n",
       "      <td>0.177892</td>\n",
       "    </tr>\n",
       "    <tr>\n",
       "      <th>12</th>\n",
       "      <td>C</td>\n",
       "      <td>12</td>\n",
       "      <td>1.632672</td>\n",
       "      <td>0.177892</td>\n",
       "    </tr>\n",
       "    <tr>\n",
       "      <th>13</th>\n",
       "      <td>C</td>\n",
       "      <td>13</td>\n",
       "      <td>1.651169</td>\n",
       "      <td>0.159395</td>\n",
       "    </tr>\n",
       "    <tr>\n",
       "      <th>16</th>\n",
       "      <td>C</td>\n",
       "      <td>16</td>\n",
       "      <td>1.651169</td>\n",
       "      <td>0.159395</td>\n",
       "    </tr>\n",
       "    <tr>\n",
       "      <th>7</th>\n",
       "      <td>C</td>\n",
       "      <td>7</td>\n",
       "      <td>1.719232</td>\n",
       "      <td>0.091332</td>\n",
       "    </tr>\n",
       "    <tr>\n",
       "      <th>2</th>\n",
       "      <td>C</td>\n",
       "      <td>2</td>\n",
       "      <td>1.719232</td>\n",
       "      <td>0.091332</td>\n",
       "    </tr>\n",
       "    <tr>\n",
       "      <th>3</th>\n",
       "      <td>C</td>\n",
       "      <td>3</td>\n",
       "      <td>1.725852</td>\n",
       "      <td>0.084712</td>\n",
       "    </tr>\n",
       "    <tr>\n",
       "      <th>4</th>\n",
       "      <td>C</td>\n",
       "      <td>4</td>\n",
       "      <td>1.725852</td>\n",
       "      <td>0.084712</td>\n",
       "    </tr>\n",
       "    <tr>\n",
       "      <th>1</th>\n",
       "      <td>O</td>\n",
       "      <td>1</td>\n",
       "      <td>1.738884</td>\n",
       "      <td>0.071680</td>\n",
       "    </tr>\n",
       "    <tr>\n",
       "      <th>0</th>\n",
       "      <td>C</td>\n",
       "      <td>0</td>\n",
       "      <td>1.803944</td>\n",
       "      <td>0.006620</td>\n",
       "    </tr>\n",
       "    <tr>\n",
       "      <th>9</th>\n",
       "      <td>C</td>\n",
       "      <td>9</td>\n",
       "      <td>1.803944</td>\n",
       "      <td>0.006620</td>\n",
       "    </tr>\n",
       "    <tr>\n",
       "      <th>6</th>\n",
       "      <td>C</td>\n",
       "      <td>6</td>\n",
       "      <td>1.810564</td>\n",
       "      <td>0.000000</td>\n",
       "    </tr>\n",
       "    <tr>\n",
       "      <th>8</th>\n",
       "      <td>O</td>\n",
       "      <td>8</td>\n",
       "      <td>1.823596</td>\n",
       "      <td>-0.013032</td>\n",
       "    </tr>\n",
       "    <tr>\n",
       "      <th>25</th>\n",
       "      <td>O</td>\n",
       "      <td>25</td>\n",
       "      <td>1.839605</td>\n",
       "      <td>-0.029041</td>\n",
       "    </tr>\n",
       "    <tr>\n",
       "      <th>14</th>\n",
       "      <td>C</td>\n",
       "      <td>14</td>\n",
       "      <td>1.856854</td>\n",
       "      <td>-0.046290</td>\n",
       "    </tr>\n",
       "    <tr>\n",
       "      <th>15</th>\n",
       "      <td>F</td>\n",
       "      <td>15</td>\n",
       "      <td>1.856854</td>\n",
       "      <td>-0.046290</td>\n",
       "    </tr>\n",
       "  </tbody>\n",
       "</table>\n",
       "</div>"
      ],
      "text/plain": [
       "   Atom Type  Atom Index  Predicted Value     Delta\n",
       "18         N          18         0.631518  1.179046\n",
       "22         N          22         0.659471  1.151093\n",
       "21         C          21         1.429062  0.381502\n",
       "29         C          29         1.438288  0.372276\n",
       "27         C          27         1.445818  0.364746\n",
       "23         C          23         1.445818  0.364746\n",
       "28         C          28         1.523000  0.287564\n",
       "11         C          11         1.527700  0.282864\n",
       "10         C          10         1.527700  0.282864\n",
       "20         O          20         1.533833  0.276731\n",
       "19         C          19         1.537342  0.273222\n",
       "5          C           5         1.555402  0.255162\n",
       "26         C          26         1.609091  0.201473\n",
       "24         C          24         1.609091  0.201473\n",
       "17         C          17         1.632672  0.177892\n",
       "12         C          12         1.632672  0.177892\n",
       "13         C          13         1.651169  0.159395\n",
       "16         C          16         1.651169  0.159395\n",
       "7          C           7         1.719232  0.091332\n",
       "2          C           2         1.719232  0.091332\n",
       "3          C           3         1.725852  0.084712\n",
       "4          C           4         1.725852  0.084712\n",
       "1          O           1         1.738884  0.071680\n",
       "0          C           0         1.803944  0.006620\n",
       "9          C           9         1.803944  0.006620\n",
       "6          C           6         1.810564  0.000000\n",
       "8          O           8         1.823596 -0.013032\n",
       "25         O          25         1.839605 -0.029041\n",
       "14         C          14         1.856854 -0.046290\n",
       "15         F          15         1.856854 -0.046290"
      ]
     },
     "execution_count": 13,
     "metadata": {},
     "output_type": "execute_result"
    }
   ],
   "source": [
    "res = []\n",
    "for atm in example_mol.GetAtoms():\n",
    "    idx = atm.GetIdx()\n",
    "    fp = SimilarityMaps.GetMorganFingerprint(example_mol,idx)\n",
    "    pred_val = xgb.predict(np.array([fp]))[0]\n",
    "    delta = example_pred - pred_val\n",
    "    res.append([atm.GetSymbol(),idx,pred_val,delta])\n",
    "tmp_df = pd.DataFrame(res,columns = [\"Atom Type\",\"Atom Index\",\"Predicted Value\",\"Delta\"])\n",
    "tmp_df.sort_values(\"Delta\",ascending=False)"
   ]
  },
  {
   "attachments": {},
   "cell_type": "markdown",
   "id": "portuguese-complexity",
   "metadata": {},
   "source": [
    "### Using Similarity Maps to Interpret Models\n",
    "Now we'll use the **SimilarityMaps** feature from the RDKit to project the importance of each atom onto the chemical structure.  As mentioned above, this method iterates over atoms, removes the contributions of each atom, and uses the model to predict the molecule's activity.  If the activity changes, we consider that atom to be important.  This importance is the used to create a set of weights for atoms that is displayed on top of the structure.  The darker colored atoms are considered to be more important."
   ]
  },
  {
   "cell_type": "markdown",
   "id": "inappropriate-guatemala",
   "metadata": {},
   "source": [
    "Define some functions to display the similarity map for the predictions, mostly lifted from [Greg Landrum's blog post](https://greglandrum.github.io/rdkit-blog/tutorial/2020/01/03/similarity-maps-with-new-drawing-code.html)"
   ]
  },
  {
   "cell_type": "code",
   "execution_count": 14,
   "id": "analyzed-outline",
   "metadata": {},
   "outputs": [],
   "source": [
    "def show_png(data):\n",
    "    bio = io.BytesIO(data)\n",
    "    img = Image.open(bio)\n",
    "    return img\n",
    "\n",
    "def get_pred(fp, pred_function):\n",
    "    fp = np.array([list(fp)])\n",
    "    return pred_function(fp)[0]\n",
    "\n",
    "def plot_similarity_map(mol, model):\n",
    "    d = Draw.MolDraw2DCairo(400, 400)\n",
    "    SimilarityMaps.GetSimilarityMapForModel(mol,\n",
    "                                            SimilarityMaps.GetMorganFingerprint,\n",
    "                                            lambda x : get_pred(x, model.predict),\n",
    "                                            draw2d=d)\n",
    "    d.FinishDrawing()\n",
    "    return d"
   ]
  },
  {
   "cell_type": "markdown",
   "id": "stretch-process",
   "metadata": {},
   "source": [
    "Display the similarity map for the predictions.  The variable **test_row** in the table below corresponds to the row in **test_df** that will be displayed. "
   ]
  },
  {
   "cell_type": "code",
   "execution_count": 15,
   "id": "killing-board",
   "metadata": {},
   "outputs": [
    {
     "data": {
      "image/png": "[encoded data removed]",
      "text/plain": [
       "<PIL.PngImagePlugin.PngImageFile image mode=RGB size=400x400 at 0x1BA17E8B0>"
      ]
     },
     "execution_count": 15,
     "metadata": {},
     "output_type": "execute_result"
    }
   ],
   "source": [
    "test_row = 1\n",
    "test_mol = df_test.ROMol.values[test_row]\n",
    "res = plot_similarity_map(test_mol,xgb);\n",
    "show_png(res.GetDrawingText())"
   ]
  },
  {
   "cell_type": "markdown",
   "id": "accomplished-asian",
   "metadata": {},
   "source": [
    "### Evaluating the Interpretations\n",
    "In this case we know the \"correct\" weights for each atom.  Since we're predicting the total number of nitrogen atoms, the nitrogen atoms should have a weight of 1 and the other atoms should have a weight of 0.  We can evaluate the weights produced by the model by comparing them with the weights in the \"lbls\" column in the input dataframe. To get weights for each atom, we could use the code above.  However, the RDKit provides a simpler solution.  The function **SimilarityMaps.GetAtomicWeightsForModel** wraps the masking operation described above into a single line of code. "
   ]
  },
  {
   "cell_type": "code",
   "execution_count": 16,
   "id": "pediatric-improvement",
   "metadata": {},
   "outputs": [],
   "source": [
    "aw = SimilarityMaps.GetAtomicWeightsForModel(test_mol,\n",
    "                                        SimilarityMaps.GetMorganFingerprint,\n",
    "                                        lambda x : get_pred(x, xgb.predict))\n",
    "aw = np.array(aw)"
   ]
  },
  {
   "cell_type": "markdown",
   "id": "advisory-assumption",
   "metadata": {},
   "source": [
    "Convert the weights and associated atom types to a dataframe.  For the test molecule in row 1, the two nitrogens have the largest weights. "
   ]
  },
  {
   "cell_type": "code",
   "execution_count": 17,
   "id": "tribal-roberts",
   "metadata": {},
   "outputs": [
    {
     "data": {
      "text/html": [
       "<div>\n",
       "<style scoped>\n",
       "    .dataframe tbody tr th:only-of-type {\n",
       "        vertical-align: middle;\n",
       "    }\n",
       "\n",
       "    .dataframe tbody tr th {\n",
       "        vertical-align: top;\n",
       "    }\n",
       "\n",
       "    .dataframe thead th {\n",
       "        text-align: right;\n",
       "    }\n",
       "</style>\n",
       "<table border=\"1\" class=\"dataframe\">\n",
       "  <thead>\n",
       "    <tr style=\"text-align: right;\">\n",
       "      <th></th>\n",
       "      <th>Symbol</th>\n",
       "      <th>Weight</th>\n",
       "    </tr>\n",
       "  </thead>\n",
       "  <tbody>\n",
       "    <tr>\n",
       "      <th>10</th>\n",
       "      <td>N</td>\n",
       "      <td>0.964518</td>\n",
       "    </tr>\n",
       "    <tr>\n",
       "      <th>26</th>\n",
       "      <td>N</td>\n",
       "      <td>0.764683</td>\n",
       "    </tr>\n",
       "    <tr>\n",
       "      <th>2</th>\n",
       "      <td>C</td>\n",
       "      <td>0.289154</td>\n",
       "    </tr>\n",
       "    <tr>\n",
       "      <th>3</th>\n",
       "      <td>C</td>\n",
       "      <td>0.289154</td>\n",
       "    </tr>\n",
       "    <tr>\n",
       "      <th>1</th>\n",
       "      <td>C</td>\n",
       "      <td>0.289154</td>\n",
       "    </tr>\n",
       "    <tr>\n",
       "      <th>11</th>\n",
       "      <td>C</td>\n",
       "      <td>0.235727</td>\n",
       "    </tr>\n",
       "    <tr>\n",
       "      <th>20</th>\n",
       "      <td>C</td>\n",
       "      <td>0.222842</td>\n",
       "    </tr>\n",
       "    <tr>\n",
       "      <th>12</th>\n",
       "      <td>C</td>\n",
       "      <td>0.218294</td>\n",
       "    </tr>\n",
       "    <tr>\n",
       "      <th>19</th>\n",
       "      <td>C</td>\n",
       "      <td>0.214360</td>\n",
       "    </tr>\n",
       "    <tr>\n",
       "      <th>25</th>\n",
       "      <td>C</td>\n",
       "      <td>0.184042</td>\n",
       "    </tr>\n",
       "    <tr>\n",
       "      <th>24</th>\n",
       "      <td>C</td>\n",
       "      <td>0.184042</td>\n",
       "    </tr>\n",
       "    <tr>\n",
       "      <th>21</th>\n",
       "      <td>C</td>\n",
       "      <td>0.177596</td>\n",
       "    </tr>\n",
       "    <tr>\n",
       "      <th>8</th>\n",
       "      <td>C</td>\n",
       "      <td>0.164767</td>\n",
       "    </tr>\n",
       "    <tr>\n",
       "      <th>7</th>\n",
       "      <td>C</td>\n",
       "      <td>0.126218</td>\n",
       "    </tr>\n",
       "    <tr>\n",
       "      <th>27</th>\n",
       "      <td>C</td>\n",
       "      <td>0.019931</td>\n",
       "    </tr>\n",
       "    <tr>\n",
       "      <th>28</th>\n",
       "      <td>O</td>\n",
       "      <td>0.019931</td>\n",
       "    </tr>\n",
       "    <tr>\n",
       "      <th>18</th>\n",
       "      <td>F</td>\n",
       "      <td>0.000000</td>\n",
       "    </tr>\n",
       "    <tr>\n",
       "      <th>0</th>\n",
       "      <td>C</td>\n",
       "      <td>0.000000</td>\n",
       "    </tr>\n",
       "    <tr>\n",
       "      <th>17</th>\n",
       "      <td>C</td>\n",
       "      <td>-0.017433</td>\n",
       "    </tr>\n",
       "    <tr>\n",
       "      <th>16</th>\n",
       "      <td>C</td>\n",
       "      <td>-0.017433</td>\n",
       "    </tr>\n",
       "    <tr>\n",
       "      <th>15</th>\n",
       "      <td>C</td>\n",
       "      <td>-0.017433</td>\n",
       "    </tr>\n",
       "    <tr>\n",
       "      <th>13</th>\n",
       "      <td>C</td>\n",
       "      <td>-0.017433</td>\n",
       "    </tr>\n",
       "    <tr>\n",
       "      <th>14</th>\n",
       "      <td>C</td>\n",
       "      <td>-0.017433</td>\n",
       "    </tr>\n",
       "    <tr>\n",
       "      <th>23</th>\n",
       "      <td>C</td>\n",
       "      <td>-0.038800</td>\n",
       "    </tr>\n",
       "    <tr>\n",
       "      <th>22</th>\n",
       "      <td>Cl</td>\n",
       "      <td>-0.039767</td>\n",
       "    </tr>\n",
       "    <tr>\n",
       "      <th>9</th>\n",
       "      <td>C</td>\n",
       "      <td>-0.124386</td>\n",
       "    </tr>\n",
       "    <tr>\n",
       "      <th>6</th>\n",
       "      <td>O</td>\n",
       "      <td>-0.162935</td>\n",
       "    </tr>\n",
       "    <tr>\n",
       "      <th>4</th>\n",
       "      <td>O</td>\n",
       "      <td>-0.182587</td>\n",
       "    </tr>\n",
       "    <tr>\n",
       "      <th>5</th>\n",
       "      <td>C</td>\n",
       "      <td>-0.262592</td>\n",
       "    </tr>\n",
       "  </tbody>\n",
       "</table>\n",
       "</div>"
      ],
      "text/plain": [
       "   Symbol    Weight\n",
       "10      N  0.964518\n",
       "26      N  0.764683\n",
       "2       C  0.289154\n",
       "3       C  0.289154\n",
       "1       C  0.289154\n",
       "11      C  0.235727\n",
       "20      C  0.222842\n",
       "12      C  0.218294\n",
       "19      C  0.214360\n",
       "25      C  0.184042\n",
       "24      C  0.184042\n",
       "21      C  0.177596\n",
       "8       C  0.164767\n",
       "7       C  0.126218\n",
       "27      C  0.019931\n",
       "28      O  0.019931\n",
       "18      F  0.000000\n",
       "0       C  0.000000\n",
       "17      C -0.017433\n",
       "16      C -0.017433\n",
       "15      C -0.017433\n",
       "13      C -0.017433\n",
       "14      C -0.017433\n",
       "23      C -0.038800\n",
       "22     Cl -0.039767\n",
       "9       C -0.124386\n",
       "6       O -0.162935\n",
       "4       O -0.182587\n",
       "5       C -0.262592"
      ]
     },
     "execution_count": 17,
     "metadata": {},
     "output_type": "execute_result"
    }
   ],
   "source": [
    "wt_df = pd.DataFrame(zip([atm.GetSymbol() for atm in test_mol.GetAtoms()],aw),columns=[\"Symbol\",\"Weight\"])\n",
    "wt_df.sort_values(\"Weight\",ascending=False)"
   ]
  },
  {
   "cell_type": "markdown",
   "id": "advanced-mouth",
   "metadata": {},
   "source": [
    "Now that we have a way of assigning labels to atoms, we can compare the weights with the \"correct\" weights, which are in the \"lbls\" field of the dataframe. "
   ]
  },
  {
   "cell_type": "code",
   "execution_count": 18,
   "id": "therapeutic-offering",
   "metadata": {},
   "outputs": [],
   "source": [
    "test_labels = df_test.lbls[test_row]\n",
    "test_label_array = np.fromstring(test_labels,sep=\",\",dtype=int)"
   ]
  },
  {
   "cell_type": "code",
   "execution_count": 19,
   "id": "verified-cincinnati",
   "metadata": {},
   "outputs": [
    {
     "data": {
      "text/plain": [
       "array([0, 0, 0, 0, 0, 0, 0, 0, 0, 0, 1, 0, 0, 0, 0, 0, 0, 0, 0, 0, 0, 0,\n",
       "       0, 0, 0, 0, 1, 0, 0])"
      ]
     },
     "execution_count": 19,
     "metadata": {},
     "output_type": "execute_result"
    }
   ],
   "source": [
    "test_label_array"
   ]
  },
  {
   "cell_type": "markdown",
   "id": "defensive-comparative",
   "metadata": {},
   "source": [
    "There are several ways that we can compare the predicted and actual weights.  One of the simplest is to treat this as a classification problem and calculate the area under the [Receiver Operating Characteristic](https://en.wikipedia.org/wiki/Receiver_operating_characteristic#:~:text=A%20receiver%20operating%20characteristic%20curve,which%20led%20to%20its%20name.) (ROC) curve, which plots the false positive rate vs the true positive rate. "
   ]
  },
  {
   "cell_type": "code",
   "execution_count": 20,
   "id": "solid-florida",
   "metadata": {},
   "outputs": [
    {
     "data": {
      "image/png": "[encoded data removed]",
      "text/plain": [
       "<Figure size 432x288 with 1 Axes>"
      ]
     },
     "metadata": {
      "needs_background": "light"
     },
     "output_type": "display_data"
    }
   ],
   "source": [
    "sns.set_context('talk')\n",
    "fpr, tpr, thresholds = roc_curve(test_label_array, aw)\n",
    "ax = sns.lineplot(x=fpr,y=tpr)\n",
    "ax.set_xlabel(\"False Positive Rate\")\n",
    "ax.set_ylabel(\"True Positive Rate\");"
   ]
  },
  {
   "cell_type": "markdown",
   "id": "bound-marijuana",
   "metadata": {},
   "source": [
    "We can use sklearn to calculate the [area under the ROC curve](https://scikit-learn.org/stable/modules/generated/sklearn.metrics.roc_auc_score.html)."
   ]
  },
  {
   "cell_type": "code",
   "execution_count": 21,
   "id": "signal-ecology",
   "metadata": {},
   "outputs": [
    {
     "data": {
      "text/plain": [
       "1.0"
      ]
     },
     "execution_count": 21,
     "metadata": {},
     "output_type": "execute_result"
    }
   ],
   "source": [
    "roc_auc_score(test_label_array,aw)"
   ]
  },
  {
   "attachments": {},
   "cell_type": "markdown",
   "id": "lightweight-timing",
   "metadata": {},
   "source": [
    "As Matveieva and Polishchuk point out, we're primarily concerned with the identifying the important atoms, and AUC considers the weights on all atoms.  If we're only interested in the \"top N\" predictions, we can define a score that considers the validity of the relevant predictions.  In this case, that would be the predictions of the nitrogen atoms.  Matveieva and Polishchuk define a top_n score as  \n",
    "$$\n",
    "\\\\\n",
    "\\frac{\\sum_{i}m_i}{\\sum_{j}n_j}\\\\\n",
    "$$\n",
    "where $m_{i}$ is the total number of ranked atoms in molecule i and $n_{i}$ is the total number of atoms correctly ranked by their contribution.  Here's a quick Python function to calcuate the top_n score for a molecule. "
   ]
  },
  {
   "cell_type": "code",
   "execution_count": 22,
   "id": "hybrid-restriction",
   "metadata": {},
   "outputs": [],
   "source": [
    "def top_n(ref, pred):\n",
    "    n = int(np.sum(ref))\n",
    "    top_ref_idx = ref.argsort()[-n:][::-1]\n",
    "    top_pred_idx = pred.argsort()[-n:][::-1]\n",
    "    num_common = len(set(top_ref_idx).intersection(set(top_pred_idx)))\n",
    "    return num_common/float(n)"
   ]
  },
  {
   "cell_type": "markdown",
   "id": "breathing-couple",
   "metadata": {},
   "source": [
    "With this function in hand, let's calculate the AUC and top_n score for the first 100 test molecules. We'll also save a list of molecules with a top_n_score < 1.0 so that we can examine then later. "
   ]
  },
  {
   "cell_type": "code",
   "execution_count": 23,
   "id": "activated-panel",
   "metadata": {},
   "outputs": [
    {
     "data": {
      "application/vnd.jupyter.widget-view+json": {
       "model_id": "39d68af1bf224f699c47466d9ab25580",
       "version_major": 2,
       "version_minor": 0
      },
      "text/plain": [
       "  0%|          | 0/100 [00:00<?, ?it/s]"
      ]
     },
     "metadata": {},
     "output_type": "display_data"
    },
    {
     "name": "stdout",
     "output_type": "stream",
     "text": [
      "Mean AUC = 0.99\n",
      "Mean top_n = 0.93\n"
     ]
    }
   ],
   "source": [
    "auc_list = []\n",
    "top_n_score_list = []\n",
    "top_n_lt_1_list = []\n",
    "idx = 0\n",
    "for mol, label in tqdm(df_test[[\"ROMol\",\"lbls\"]].head(100).values):\n",
    "    aw = SimilarityMaps.GetAtomicWeightsForModel(mol,\n",
    "                                        SimilarityMaps.GetMorganFingerprint,\n",
    "                                        lambda x : get_pred(x, xgb.predict))\n",
    "    if label != \"NA\":\n",
    "        label_array = np.fromstring(label,sep=\",\",dtype=int)\n",
    "        auc_list.append(roc_auc_score(label_array,aw))\n",
    "        top_n_score = top_n(label_array,np.array(aw))\n",
    "        top_n_score_list.append(top_n_score)\n",
    "        if top_n_score < 1:\n",
    "            top_n_lt_1_list.append([idx,top_n_score])\n",
    "    idx+=1\n",
    "print(f\"Mean AUC = {np.mean(auc_list):.2f}\")\n",
    "print(f\"Mean top_n = {np.mean(top_n_score_list):.2f}\")"
   ]
  },
  {
   "cell_type": "markdown",
   "id": "amateur-studio",
   "metadata": {},
   "source": [
    "Create a dataframe with the rows where the top_n score was less than 1. It's interesting that in 15 of 100 cases, we fail to assign the nitrogens atoms as critical features.  "
   ]
  },
  {
   "cell_type": "code",
   "execution_count": 24,
   "id": "blond-implement",
   "metadata": {},
   "outputs": [
    {
     "data": {
      "text/html": [
       "<div>\n",
       "<style scoped>\n",
       "    .dataframe tbody tr th:only-of-type {\n",
       "        vertical-align: middle;\n",
       "    }\n",
       "\n",
       "    .dataframe tbody tr th {\n",
       "        vertical-align: top;\n",
       "    }\n",
       "\n",
       "    .dataframe thead th {\n",
       "        text-align: right;\n",
       "    }\n",
       "</style>\n",
       "<table border=\"1\" class=\"dataframe\">\n",
       "  <thead>\n",
       "    <tr style=\"text-align: right;\">\n",
       "      <th></th>\n",
       "      <th>Row</th>\n",
       "      <th>Top_n_score</th>\n",
       "    </tr>\n",
       "  </thead>\n",
       "  <tbody>\n",
       "    <tr>\n",
       "      <th>0</th>\n",
       "      <td>7</td>\n",
       "      <td>0.500000</td>\n",
       "    </tr>\n",
       "    <tr>\n",
       "      <th>1</th>\n",
       "      <td>10</td>\n",
       "      <td>0.500000</td>\n",
       "    </tr>\n",
       "    <tr>\n",
       "      <th>2</th>\n",
       "      <td>21</td>\n",
       "      <td>0.666667</td>\n",
       "    </tr>\n",
       "    <tr>\n",
       "      <th>3</th>\n",
       "      <td>28</td>\n",
       "      <td>0.750000</td>\n",
       "    </tr>\n",
       "    <tr>\n",
       "      <th>4</th>\n",
       "      <td>29</td>\n",
       "      <td>0.800000</td>\n",
       "    </tr>\n",
       "    <tr>\n",
       "      <th>5</th>\n",
       "      <td>33</td>\n",
       "      <td>0.666667</td>\n",
       "    </tr>\n",
       "    <tr>\n",
       "      <th>6</th>\n",
       "      <td>44</td>\n",
       "      <td>0.666667</td>\n",
       "    </tr>\n",
       "    <tr>\n",
       "      <th>7</th>\n",
       "      <td>59</td>\n",
       "      <td>0.333333</td>\n",
       "    </tr>\n",
       "    <tr>\n",
       "      <th>8</th>\n",
       "      <td>60</td>\n",
       "      <td>0.000000</td>\n",
       "    </tr>\n",
       "    <tr>\n",
       "      <th>9</th>\n",
       "      <td>66</td>\n",
       "      <td>0.500000</td>\n",
       "    </tr>\n",
       "    <tr>\n",
       "      <th>10</th>\n",
       "      <td>71</td>\n",
       "      <td>0.666667</td>\n",
       "    </tr>\n",
       "    <tr>\n",
       "      <th>11</th>\n",
       "      <td>76</td>\n",
       "      <td>0.750000</td>\n",
       "    </tr>\n",
       "    <tr>\n",
       "      <th>12</th>\n",
       "      <td>79</td>\n",
       "      <td>0.666667</td>\n",
       "    </tr>\n",
       "    <tr>\n",
       "      <th>13</th>\n",
       "      <td>84</td>\n",
       "      <td>0.750000</td>\n",
       "    </tr>\n",
       "    <tr>\n",
       "      <th>14</th>\n",
       "      <td>87</td>\n",
       "      <td>0.666667</td>\n",
       "    </tr>\n",
       "    <tr>\n",
       "      <th>15</th>\n",
       "      <td>94</td>\n",
       "      <td>0.666667</td>\n",
       "    </tr>\n",
       "  </tbody>\n",
       "</table>\n",
       "</div>"
      ],
      "text/plain": [
       "    Row  Top_n_score\n",
       "0     7     0.500000\n",
       "1    10     0.500000\n",
       "2    21     0.666667\n",
       "3    28     0.750000\n",
       "4    29     0.800000\n",
       "5    33     0.666667\n",
       "6    44     0.666667\n",
       "7    59     0.333333\n",
       "8    60     0.000000\n",
       "9    66     0.500000\n",
       "10   71     0.666667\n",
       "11   76     0.750000\n",
       "12   79     0.666667\n",
       "13   84     0.750000\n",
       "14   87     0.666667\n",
       "15   94     0.666667"
      ]
     },
     "execution_count": 24,
     "metadata": {},
     "output_type": "execute_result"
    }
   ],
   "source": [
    "pd.DataFrame(top_n_lt_1_list,columns=[\"Row\",\"Top_n_score\"])"
   ]
  },
  {
   "cell_type": "markdown",
   "id": "final-transportation",
   "metadata": {},
   "source": [
    "Let's define a debugging function that will enable us to compare the top n predictions with the top n labels."
   ]
  },
  {
   "cell_type": "code",
   "execution_count": 25,
   "id": "casual-firmware",
   "metadata": {},
   "outputs": [],
   "source": [
    "def debug_row(df, idx):\n",
    "    red = (1,0,0)\n",
    "    blue = (0,0,1)\n",
    "    mol = df.loc[[idx]].ROMol.values[0]\n",
    "    mol = Chem.Mol(mol)\n",
    "    label = df.loc[idx].lbls\n",
    "    label_array = np.fromstring(label,sep=\",\",dtype=int)\n",
    "    n = int(sum(label_array))        \n",
    "    aw = SimilarityMaps.GetAtomicWeightsForModel(mol,\n",
    "                                        SimilarityMaps.GetMorganFingerprint,\n",
    "                                        lambda x : get_pred(x, xgb.predict))\n",
    "    aw = np.array(aw)\n",
    "    top_idx = aw.argsort()[-n:][::-1]\n",
    "    top_idx = [int(x) for x in top_idx]\n",
    "    # set the drawing options\n",
    "    d2d = rdMolDraw2D.MolDraw2DSVG(350,300)\n",
    "    dos = d2d.drawOptions()\n",
    "    dos.atomHighlightsAreCircles = True\n",
    "    dos.fillHighlights=False\n",
    "    # set the highlight color for the top n predicted atoms to red\n",
    "    top_dict = defaultdict(list)\n",
    "    highlight_rads = {}\n",
    "    for t in top_idx:\n",
    "        top_dict[t].append(red)\n",
    "    # set the colors for the top n labeled atoms to red\n",
    "    for a in label_array.argsort()[-n:]:\n",
    "        top_dict[int(a)].append(blue)\n",
    "    # set the radii for the highlight circles\n",
    "    for k,v in top_dict.items():\n",
    "        highlight_rads[k] = 0.6\n",
    "    d2d.DrawMoleculeWithHighlights(mol,\" \",dict(top_dict),{},highlight_rads,{})\n",
    "    d2d.FinishDrawing()\n",
    "    return d2d"
   ]
  },
  {
   "cell_type": "markdown",
   "id": "accompanied-sunglasses",
   "metadata": {},
   "source": [
    "Here's the output from our debugging function. Correctly predicted atoms are shown as circles that are half red and half blue. Incorrectly predicted atoms are shown as red circles, atoms that are \"missed\" are shown as blue circles. "
   ]
  },
  {
   "cell_type": "code",
   "execution_count": 26,
   "id": "balanced-victor",
   "metadata": {},
   "outputs": [
    {
     "data": {
      "image/svg+xml": [
       "<svg xmlns=\"http://www.w3.org/2000/svg\" xmlns:rdkit=\"http://www.rdkit.org/xml\" xmlns:xlink=\"http://www.w3.org/1999/xlink\" version=\"1.1\" baseProfile=\"full\" xml:space=\"preserve\" width=\"350px\" height=\"300px\" viewBox=\"0 0 350 300\">\n",
       "<!-- END OF HEADER -->\n",
       "<rect style=\"opacity:1.0;fill:#FFFFFF;stroke:none\" width=\"350\" height=\"300\" x=\"0\" y=\"0\"> </rect>\n",
       "<ellipse cx=\"309.403\" cy=\"136.281\" rx=\"11.4386\" ry=\"11.4386\" style=\"fill:none;stroke:#0000FF;stroke-width:8px;stroke-linecap:butt;stroke-linejoin:miter;stroke-opacity:1\"/>\n",
       "<ellipse cx=\"52.0355\" cy=\"235.342\" rx=\"11.4386\" ry=\"11.4386\" style=\"fill:none;stroke:#FF0000;stroke-width:8px;stroke-linecap:butt;stroke-linejoin:miter;stroke-opacity:1\"/>\n",
       "<path d=\"M 37.7373,248.668 L 36.7673,248.71 L 35.8042,248.833 L 34.8551,249.037 L 33.9267,249.322 L 33.0258,249.684 L 32.1588,250.121 L 31.332,250.63 L 30.5514,251.207 L 29.8226,251.849 L 29.1507,252.55 L 28.5408,253.305 L 27.9971,254.11 L 27.5236,254.957 L 27.1236,255.842 L 26.8002,256.757 L 26.5555,257.697 L 26.3914,258.654 L 26.3091,259.621 L 26.3091,260.592 L 26.3914,261.56 L 26.5555,262.517 L 26.8002,263.456 L 27.1236,264.372 L 27.5236,265.257 L 27.9971,266.104 L 28.5408,266.909 L 29.1507,267.664 L 29.8226,268.365 L 30.5514,269.007 L 31.332,269.584 L 32.1588,270.093 L 33.0258,270.53 L 33.9267,270.892 L 34.8551,271.176 L 35.8042,271.381 L 36.7673,271.504 L 37.7373,271.545\" style=\"fill:none;stroke:#FF0000;stroke-width:8px;stroke-linecap:butt;stroke-linejoin:miter;stroke-opacity:1;\"/>\n",
       "<path d=\"M 37.7373,271.545 L 38.7074,271.504 L 39.6705,271.381 L 40.6196,271.176 L 41.548,270.892 L 42.4489,270.53 L 43.3159,270.093 L 44.1426,269.584 L 44.9233,269.007 L 45.6521,268.365 L 46.3239,267.664 L 46.9339,266.909 L 47.4776,266.104 L 47.9511,265.257 L 48.351,264.372 L 48.6745,263.456 L 48.9192,262.517 L 49.0832,261.56 L 49.1656,260.592 L 49.1656,259.621 L 49.0832,258.654 L 48.9192,257.697 L 48.6745,256.757 L 48.351,255.842 L 47.9511,254.957 L 47.4776,254.11 L 46.9339,253.305 L 46.3239,252.55 L 45.6521,251.849 L 44.9233,251.207 L 44.1426,250.63 L 43.3159,250.121 L 42.4489,249.684 L 41.548,249.322 L 40.6196,249.037 L 39.6705,248.833 L 38.7074,248.71 L 37.7373,248.668\" style=\"fill:none;stroke:#0000FF;stroke-width:8px;stroke-linecap:butt;stroke-linejoin:miter;stroke-opacity:1;\"/>\n",
       "<path class=\"bond-0\" d=\"M 323.701,161.047 L 317.927,151.046\" style=\"fill:none;fill-rule:evenodd;stroke:#000000;stroke-width:2.0px;stroke-linecap:butt;stroke-linejoin:miter;stroke-opacity:1\"/>\n",
       "<path class=\"bond-0\" d=\"M 317.927,151.046 L 312.153,141.045\" style=\"fill:none;fill-rule:evenodd;stroke:#0000FF;stroke-width:2.0px;stroke-linecap:butt;stroke-linejoin:miter;stroke-opacity:1\"/>\n",
       "<path class=\"bond-1\" d=\"M 312.154,131.517 L 317.927,121.516\" style=\"fill:none;fill-rule:evenodd;stroke:#0000FF;stroke-width:2.0px;stroke-linecap:butt;stroke-linejoin:miter;stroke-opacity:1\"/>\n",
       "<path class=\"bond-1\" d=\"M 317.927,121.516 L 323.701,111.516\" style=\"fill:none;fill-rule:evenodd;stroke:#000000;stroke-width:2.0px;stroke-linecap:butt;stroke-linejoin:miter;stroke-opacity:1\"/>\n",
       "<path class=\"bond-2\" d=\"M 305.617,136.281 L 293.212,136.281\" style=\"fill:none;fill-rule:evenodd;stroke:#0000FF;stroke-width:2.0px;stroke-linecap:butt;stroke-linejoin:miter;stroke-opacity:1\"/>\n",
       "<path class=\"bond-2\" d=\"M 293.212,136.281 L 280.807,136.281\" style=\"fill:none;fill-rule:evenodd;stroke:#000000;stroke-width:2.0px;stroke-linecap:butt;stroke-linejoin:miter;stroke-opacity:1\"/>\n",
       "<path class=\"bond-3\" d=\"M 278.33,134.851 L 272.569,144.829\" style=\"fill:none;fill-rule:evenodd;stroke:#000000;stroke-width:2.0px;stroke-linecap:butt;stroke-linejoin:miter;stroke-opacity:1\"/>\n",
       "<path class=\"bond-3\" d=\"M 272.569,144.829 L 266.809,154.807\" style=\"fill:none;fill-rule:evenodd;stroke:#FF0000;stroke-width:2.0px;stroke-linecap:butt;stroke-linejoin:miter;stroke-opacity:1\"/>\n",
       "<path class=\"bond-3\" d=\"M 283.283,137.71 L 277.523,147.689\" style=\"fill:none;fill-rule:evenodd;stroke:#000000;stroke-width:2.0px;stroke-linecap:butt;stroke-linejoin:miter;stroke-opacity:1\"/>\n",
       "<path class=\"bond-3\" d=\"M 277.523,147.689 L 271.762,157.667\" style=\"fill:none;fill-rule:evenodd;stroke:#FF0000;stroke-width:2.0px;stroke-linecap:butt;stroke-linejoin:miter;stroke-opacity:1\"/>\n",
       "<path class=\"bond-4\" d=\"M 280.807,136.281 L 275.082,126.366\" style=\"fill:none;fill-rule:evenodd;stroke:#000000;stroke-width:2.0px;stroke-linecap:butt;stroke-linejoin:miter;stroke-opacity:1\"/>\n",
       "<path class=\"bond-4\" d=\"M 275.082,126.366 L 269.358,116.452\" style=\"fill:none;fill-rule:evenodd;stroke:#FF0000;stroke-width:2.0px;stroke-linecap:butt;stroke-linejoin:miter;stroke-opacity:1\"/>\n",
       "<path class=\"bond-5\" d=\"M 262.076,111.516 L 249.994,111.516\" style=\"fill:none;fill-rule:evenodd;stroke:#FF0000;stroke-width:2.0px;stroke-linecap:butt;stroke-linejoin:miter;stroke-opacity:1\"/>\n",
       "<path class=\"bond-5\" d=\"M 249.994,111.516 L 237.912,111.516\" style=\"fill:none;fill-rule:evenodd;stroke:#000000;stroke-width:2.0px;stroke-linecap:butt;stroke-linejoin:miter;stroke-opacity:1\"/>\n",
       "<path class=\"bond-6\" d=\"M 237.912,111.516 L 223.614,136.281\" style=\"fill:none;fill-rule:evenodd;stroke:#000000;stroke-width:2.0px;stroke-linecap:butt;stroke-linejoin:miter;stroke-opacity:1\"/>\n",
       "<path class=\"bond-6\" d=\"M 230.814,112.371 L 220.806,129.706\" style=\"fill:none;fill-rule:evenodd;stroke:#000000;stroke-width:2.0px;stroke-linecap:butt;stroke-linejoin:miter;stroke-opacity:1\"/>\n",
       "<path class=\"bond-34\" d=\"M 237.912,111.516 L 223.614,86.7518\" style=\"fill:none;fill-rule:evenodd;stroke:#000000;stroke-width:2.0px;stroke-linecap:butt;stroke-linejoin:miter;stroke-opacity:1\"/>\n",
       "<path class=\"bond-7\" d=\"M 223.614,136.281 L 195.017,136.281\" style=\"fill:none;fill-rule:evenodd;stroke:#000000;stroke-width:2.0px;stroke-linecap:butt;stroke-linejoin:miter;stroke-opacity:1\"/>\n",
       "<path class=\"bond-8\" d=\"M 195.017,136.281 L 180.719,111.516\" style=\"fill:none;fill-rule:evenodd;stroke:#000000;stroke-width:2.0px;stroke-linecap:butt;stroke-linejoin:miter;stroke-opacity:1\"/>\n",
       "<path class=\"bond-8\" d=\"M 197.826,129.706 L 187.817,112.371\" style=\"fill:none;fill-rule:evenodd;stroke:#000000;stroke-width:2.0px;stroke-linecap:butt;stroke-linejoin:miter;stroke-opacity:1\"/>\n",
       "<path class=\"bond-9\" d=\"M 180.719,111.516 L 152.123,111.516\" style=\"fill:none;fill-rule:evenodd;stroke:#000000;stroke-width:2.0px;stroke-linecap:butt;stroke-linejoin:miter;stroke-opacity:1\"/>\n",
       "<path class=\"bond-35\" d=\"M 180.719,111.516 L 195.017,86.7518\" style=\"fill:none;fill-rule:evenodd;stroke:#000000;stroke-width:2.0px;stroke-linecap:butt;stroke-linejoin:miter;stroke-opacity:1\"/>\n",
       "<path class=\"bond-10\" d=\"M 152.123,111.516 L 137.825,136.281\" style=\"fill:none;fill-rule:evenodd;stroke:#000000;stroke-width:2.0px;stroke-linecap:butt;stroke-linejoin:miter;stroke-opacity:1\"/>\n",
       "<path class=\"bond-21\" d=\"M 152.123,111.516 L 137.825,86.7518\" style=\"fill:none;fill-rule:evenodd;stroke:#000000;stroke-width:2.0px;stroke-linecap:butt;stroke-linejoin:miter;stroke-opacity:1\"/>\n",
       "<path class=\"bond-21\" d=\"M 154.931,104.942 L 144.922,87.6067\" style=\"fill:none;fill-rule:evenodd;stroke:#000000;stroke-width:2.0px;stroke-linecap:butt;stroke-linejoin:miter;stroke-opacity:1\"/>\n",
       "<path class=\"bond-11\" d=\"M 137.825,136.281 L 109.228,136.281\" style=\"fill:none;fill-rule:evenodd;stroke:#000000;stroke-width:2.0px;stroke-linecap:butt;stroke-linejoin:miter;stroke-opacity:1\"/>\n",
       "<path class=\"bond-12\" d=\"M 109.228,136.281 L 103.504,126.366\" style=\"fill:none;fill-rule:evenodd;stroke:#000000;stroke-width:2.0px;stroke-linecap:butt;stroke-linejoin:miter;stroke-opacity:1\"/>\n",
       "<path class=\"bond-12\" d=\"M 103.504,126.366 L 97.7798,116.452\" style=\"fill:none;fill-rule:evenodd;stroke:#FF0000;stroke-width:2.0px;stroke-linecap:butt;stroke-linejoin:miter;stroke-opacity:1\"/>\n",
       "<path class=\"bond-13\" d=\"M 109.228,136.281 L 94.9301,161.047\" style=\"fill:none;fill-rule:evenodd;stroke:#000000;stroke-width:2.0px;stroke-linecap:butt;stroke-linejoin:miter;stroke-opacity:1\"/>\n",
       "<path class=\"bond-14\" d=\"M 94.9301,161.047 L 66.3337,161.047\" style=\"fill:none;fill-rule:evenodd;stroke:#000000;stroke-width:2.0px;stroke-linecap:butt;stroke-linejoin:miter;stroke-opacity:1\"/>\n",
       "<path class=\"bond-14\" d=\"M 90.6407,166.766 L 70.6232,166.766\" style=\"fill:none;fill-rule:evenodd;stroke:#000000;stroke-width:2.0px;stroke-linecap:butt;stroke-linejoin:miter;stroke-opacity:1\"/>\n",
       "<path class=\"bond-36\" d=\"M 94.9301,161.047 L 109.228,185.812\" style=\"fill:none;fill-rule:evenodd;stroke:#000000;stroke-width:2.0px;stroke-linecap:butt;stroke-linejoin:miter;stroke-opacity:1\"/>\n",
       "<path class=\"bond-15\" d=\"M 66.3337,161.047 L 52.0355,185.812\" style=\"fill:none;fill-rule:evenodd;stroke:#000000;stroke-width:2.0px;stroke-linecap:butt;stroke-linejoin:miter;stroke-opacity:1\"/>\n",
       "<path class=\"bond-16\" d=\"M 52.0355,185.812 L 66.3337,210.578\" style=\"fill:none;fill-rule:evenodd;stroke:#000000;stroke-width:2.0px;stroke-linecap:butt;stroke-linejoin:miter;stroke-opacity:1\"/>\n",
       "<path class=\"bond-16\" d=\"M 59.1334,186.667 L 69.1421,204.003\" style=\"fill:none;fill-rule:evenodd;stroke:#000000;stroke-width:2.0px;stroke-linecap:butt;stroke-linejoin:miter;stroke-opacity:1\"/>\n",
       "<path class=\"bond-17\" d=\"M 66.3337,210.578 L 52.0355,235.342\" style=\"fill:none;fill-rule:evenodd;stroke:#000000;stroke-width:2.0px;stroke-linecap:butt;stroke-linejoin:miter;stroke-opacity:1\"/>\n",
       "<path class=\"bond-19\" d=\"M 66.3337,210.578 L 94.9301,210.578\" style=\"fill:none;fill-rule:evenodd;stroke:#000000;stroke-width:2.0px;stroke-linecap:butt;stroke-linejoin:miter;stroke-opacity:1\"/>\n",
       "<path class=\"bond-18\" d=\"M 52.0355,235.342 L 46.2618,245.343\" style=\"fill:none;fill-rule:evenodd;stroke:#000000;stroke-width:2.0px;stroke-linecap:butt;stroke-linejoin:miter;stroke-opacity:1\"/>\n",
       "<path class=\"bond-18\" d=\"M 46.2618,245.343 L 40.488,255.343\" style=\"fill:none;fill-rule:evenodd;stroke:#0000FF;stroke-width:2.0px;stroke-linecap:butt;stroke-linejoin:miter;stroke-opacity:1\"/>\n",
       "<path class=\"bond-18\" d=\"M 45.3504,235.483 L 40.4427,243.983\" style=\"fill:none;fill-rule:evenodd;stroke:#000000;stroke-width:2.0px;stroke-linecap:butt;stroke-linejoin:miter;stroke-opacity:1\"/>\n",
       "<path class=\"bond-18\" d=\"M 40.4427,243.983 L 35.535,252.483\" style=\"fill:none;fill-rule:evenodd;stroke:#0000FF;stroke-width:2.0px;stroke-linecap:butt;stroke-linejoin:miter;stroke-opacity:1\"/>\n",
       "<path class=\"bond-18\" d=\"M 55.2564,241.202 L 50.3487,249.702\" style=\"fill:none;fill-rule:evenodd;stroke:#000000;stroke-width:2.0px;stroke-linecap:butt;stroke-linejoin:miter;stroke-opacity:1\"/>\n",
       "<path class=\"bond-18\" d=\"M 50.3487,249.702 L 45.441,258.202\" style=\"fill:none;fill-rule:evenodd;stroke:#0000FF;stroke-width:2.0px;stroke-linecap:butt;stroke-linejoin:miter;stroke-opacity:1\"/>\n",
       "<path class=\"bond-20\" d=\"M 94.9301,210.578 L 109.228,185.812\" style=\"fill:none;fill-rule:evenodd;stroke:#000000;stroke-width:2.0px;stroke-linecap:butt;stroke-linejoin:miter;stroke-opacity:1\"/>\n",
       "<path class=\"bond-20\" d=\"M 92.1217,204.003 L 102.13,186.667\" style=\"fill:none;fill-rule:evenodd;stroke:#000000;stroke-width:2.0px;stroke-linecap:butt;stroke-linejoin:miter;stroke-opacity:1\"/>\n",
       "<path class=\"bond-22\" d=\"M 137.825,86.7518 L 109.228,86.7518\" style=\"fill:none;fill-rule:evenodd;stroke:#000000;stroke-width:2.0px;stroke-linecap:butt;stroke-linejoin:miter;stroke-opacity:1\"/>\n",
       "<path class=\"bond-29\" d=\"M 137.825,86.7518 L 152.123,61.9854\" style=\"fill:none;fill-rule:evenodd;stroke:#000000;stroke-width:2.0px;stroke-linecap:butt;stroke-linejoin:miter;stroke-opacity:1\"/>\n",
       "<path class=\"bond-23\" d=\"M 109.228,86.7518 L 94.9301,61.9854\" style=\"fill:none;fill-rule:evenodd;stroke:#000000;stroke-width:2.0px;stroke-linecap:butt;stroke-linejoin:miter;stroke-opacity:1\"/>\n",
       "<path class=\"bond-24\" d=\"M 94.9301,61.9854 L 109.228,37.2209\" style=\"fill:none;fill-rule:evenodd;stroke:#000000;stroke-width:2.0px;stroke-linecap:butt;stroke-linejoin:miter;stroke-opacity:1\"/>\n",
       "<path class=\"bond-24\" d=\"M 92.1218,55.411 L 102.131,38.0759\" style=\"fill:none;fill-rule:evenodd;stroke:#000000;stroke-width:2.0px;stroke-linecap:butt;stroke-linejoin:miter;stroke-opacity:1\"/>\n",
       "<path class=\"bond-37\" d=\"M 94.9301,61.9854 L 66.3337,61.9854\" style=\"fill:none;fill-rule:evenodd;stroke:#000000;stroke-width:2.0px;stroke-linecap:butt;stroke-linejoin:miter;stroke-opacity:1\"/>\n",
       "<path class=\"bond-25\" d=\"M 109.228,37.2209 L 94.9301,12.4545\" style=\"fill:none;fill-rule:evenodd;stroke:#000000;stroke-width:2.0px;stroke-linecap:butt;stroke-linejoin:miter;stroke-opacity:1\"/>\n",
       "<path class=\"bond-26\" d=\"M 94.9301,12.4545 L 66.3337,12.4545\" style=\"fill:none;fill-rule:evenodd;stroke:#000000;stroke-width:2.0px;stroke-linecap:butt;stroke-linejoin:miter;stroke-opacity:1\"/>\n",
       "<path class=\"bond-26\" d=\"M 90.6407,18.1738 L 70.6232,18.1738\" style=\"fill:none;fill-rule:evenodd;stroke:#000000;stroke-width:2.0px;stroke-linecap:butt;stroke-linejoin:miter;stroke-opacity:1\"/>\n",
       "<path class=\"bond-27\" d=\"M 66.3337,12.4545 L 52.0355,37.2209\" style=\"fill:none;fill-rule:evenodd;stroke:#000000;stroke-width:2.0px;stroke-linecap:butt;stroke-linejoin:miter;stroke-opacity:1\"/>\n",
       "<path class=\"bond-28\" d=\"M 52.0355,37.2209 L 66.3337,61.9854\" style=\"fill:none;fill-rule:evenodd;stroke:#000000;stroke-width:2.0px;stroke-linecap:butt;stroke-linejoin:miter;stroke-opacity:1\"/>\n",
       "<path class=\"bond-28\" d=\"M 59.1333,38.0759 L 69.142,55.411\" style=\"fill:none;fill-rule:evenodd;stroke:#000000;stroke-width:2.0px;stroke-linecap:butt;stroke-linejoin:miter;stroke-opacity:1\"/>\n",
       "<path class=\"bond-30\" d=\"M 154.599,60.5555 L 148.875,50.6412\" style=\"fill:none;fill-rule:evenodd;stroke:#000000;stroke-width:2.0px;stroke-linecap:butt;stroke-linejoin:miter;stroke-opacity:1\"/>\n",
       "<path class=\"bond-30\" d=\"M 148.875,50.6412 L 143.151,40.7268\" style=\"fill:none;fill-rule:evenodd;stroke:#FF0000;stroke-width:2.0px;stroke-linecap:butt;stroke-linejoin:miter;stroke-opacity:1\"/>\n",
       "<path class=\"bond-30\" d=\"M 149.646,63.4152 L 143.922,53.5009\" style=\"fill:none;fill-rule:evenodd;stroke:#000000;stroke-width:2.0px;stroke-linecap:butt;stroke-linejoin:miter;stroke-opacity:1\"/>\n",
       "<path class=\"bond-30\" d=\"M 143.922,53.5009 L 138.198,43.5865\" style=\"fill:none;fill-rule:evenodd;stroke:#FF0000;stroke-width:2.0px;stroke-linecap:butt;stroke-linejoin:miter;stroke-opacity:1\"/>\n",
       "<path class=\"bond-31\" d=\"M 152.123,61.9854 L 164.205,61.9854\" style=\"fill:none;fill-rule:evenodd;stroke:#000000;stroke-width:2.0px;stroke-linecap:butt;stroke-linejoin:miter;stroke-opacity:1\"/>\n",
       "<path class=\"bond-31\" d=\"M 164.205,61.9854 L 176.287,61.9854\" style=\"fill:none;fill-rule:evenodd;stroke:#FF0000;stroke-width:2.0px;stroke-linecap:butt;stroke-linejoin:miter;stroke-opacity:1\"/>\n",
       "<path class=\"bond-32\" d=\"M 183.569,66.9212 L 189.293,76.8365\" style=\"fill:none;fill-rule:evenodd;stroke:#FF0000;stroke-width:2.0px;stroke-linecap:butt;stroke-linejoin:miter;stroke-opacity:1\"/>\n",
       "<path class=\"bond-32\" d=\"M 189.293,76.8365 L 195.017,86.7518\" style=\"fill:none;fill-rule:evenodd;stroke:#000000;stroke-width:2.0px;stroke-linecap:butt;stroke-linejoin:miter;stroke-opacity:1\"/>\n",
       "<path class=\"bond-33\" d=\"M 195.017,86.7518 L 223.614,86.7518\" style=\"fill:none;fill-rule:evenodd;stroke:#000000;stroke-width:2.0px;stroke-linecap:butt;stroke-linejoin:miter;stroke-opacity:1\"/>\n",
       "<path class=\"bond-33\" d=\"M 199.307,92.4711 L 219.324,92.4711\" style=\"fill:none;fill-rule:evenodd;stroke:#000000;stroke-width:2.0px;stroke-linecap:butt;stroke-linejoin:miter;stroke-opacity:1\"/>\n",
       "<path class=\"atom-1\" d=\"M 307.613 132.231 L 310.267 136.521 Q 310.53 136.944, 310.953 137.711 Q 311.376 138.477, 311.399 138.523 L 311.399 132.231 L 312.474 132.231 L 312.474 140.33 L 311.365 140.33 L 308.517 135.64 Q 308.185 135.091, 307.83 134.462 Q 307.487 133.833, 307.384 133.638 L 307.384 140.33 L 306.332 140.33 L 306.332 132.231 L 307.613 132.231 \" fill=\"#000000\"/>\n",
       "<path class=\"atom-4\" d=\"M 262.791 161.07 Q 262.791 159.125, 263.752 158.039 Q 264.713 156.952, 266.508 156.952 Q 268.304 156.952, 269.265 158.039 Q 270.226 159.125, 270.226 161.07 Q 270.226 163.037, 269.254 164.158 Q 268.281 165.268, 266.508 165.268 Q 264.724 165.268, 263.752 164.158 Q 262.791 163.049, 262.791 161.07 M 266.508 164.353 Q 267.744 164.353, 268.407 163.529 Q 269.082 162.694, 269.082 161.07 Q 269.082 159.48, 268.407 158.679 Q 267.744 157.867, 266.508 157.867 Q 265.273 157.867, 264.598 158.668 Q 263.935 159.469, 263.935 161.07 Q 263.935 162.706, 264.598 163.529 Q 265.273 164.353, 266.508 164.353 \" fill=\"#FF0000\"/>\n",
       "<path class=\"atom-5\" d=\"M 262.791 111.539 Q 262.791 109.595, 263.752 108.508 Q 264.713 107.421, 266.508 107.421 Q 268.304 107.421, 269.265 108.508 Q 270.226 109.595, 270.226 111.539 Q 270.226 113.507, 269.254 114.628 Q 268.281 115.737, 266.508 115.737 Q 264.724 115.737, 263.752 114.628 Q 262.791 113.518, 262.791 111.539 M 266.508 114.822 Q 267.744 114.822, 268.407 113.998 Q 269.082 113.163, 269.082 111.539 Q 269.082 109.949, 268.407 109.148 Q 267.744 108.336, 266.508 108.336 Q 265.273 108.336, 264.598 109.137 Q 263.935 109.938, 263.935 111.539 Q 263.935 113.175, 264.598 113.998 Q 265.273 114.822, 266.508 114.822 \" fill=\"#FF0000\"/>\n",
       "<path class=\"atom-13\" d=\"M 84.3037 107.513 L 85.4018 107.513 L 85.4018 110.956 L 89.5426 110.956 L 89.5426 107.513 L 90.6407 107.513 L 90.6407 115.611 L 89.5426 115.611 L 89.5426 111.871 L 85.4018 111.871 L 85.4018 115.611 L 84.3037 115.611 L 84.3037 107.513 \" fill=\"#FF0000\"/>\n",
       "<path class=\"atom-13\" d=\"M 91.2126 111.539 Q 91.2126 109.595, 92.1734 108.508 Q 93.1343 107.421, 94.9301 107.421 Q 96.726 107.421, 97.6868 108.508 Q 98.6476 109.595, 98.6476 111.539 Q 98.6476 113.507, 97.6754 114.628 Q 96.7031 115.737, 94.9301 115.737 Q 93.1457 115.737, 92.1734 114.628 Q 91.2126 113.518, 91.2126 111.539 M 94.9301 114.822 Q 96.1655 114.822, 96.8289 113.998 Q 97.5038 113.163, 97.5038 111.539 Q 97.5038 109.949, 96.8289 109.148 Q 96.1655 108.336, 94.9301 108.336 Q 93.6947 108.336, 93.0199 109.137 Q 92.3564 109.938, 92.3564 111.539 Q 92.3564 113.175, 93.0199 113.998 Q 93.6947 114.822, 94.9301 114.822 \" fill=\"#FF0000\"/>\n",
       "<path class=\"atom-19\" d=\"M 35.9472 256.058 L 38.6009 260.347 Q 38.864 260.77, 39.2873 261.537 Q 39.7105 262.303, 39.7334 262.349 L 39.7334 256.058 L 40.8086 256.058 L 40.8086 264.156 L 39.699 264.156 L 36.8508 259.466 Q 36.5191 258.917, 36.1645 258.288 Q 35.8214 257.659, 35.7184 257.465 L 35.7184 264.156 L 34.6661 264.156 L 34.6661 256.058 L 35.9472 256.058 \" fill=\"#000000\"/>\n",
       "<path class=\"atom-31\" d=\"M 134.107 37.2438 Q 134.107 35.2992, 135.068 34.2126 Q 136.029 33.1259, 137.825 33.1259 Q 139.621 33.1259, 140.581 34.2126 Q 141.542 35.2992, 141.542 37.2438 Q 141.542 39.2112, 140.57 40.3322 Q 139.598 41.4418, 137.825 41.4418 Q 136.04 41.4418, 135.068 40.3322 Q 134.107 39.2227, 134.107 37.2438 M 137.825 40.5267 Q 139.06 40.5267, 139.723 39.7031 Q 140.398 38.8681, 140.398 37.2438 Q 140.398 35.6538, 139.723 34.8531 Q 139.06 34.041, 137.825 34.041 Q 136.589 34.041, 135.914 34.8417 Q 135.251 35.6424, 135.251 37.2438 Q 135.251 38.8795, 135.914 39.7031 Q 136.589 40.5267, 137.825 40.5267 \" fill=\"#FF0000\"/>\n",
       "<path class=\"atom-32\" d=\"M 177.002 62.0083 Q 177.002 60.0637, 177.963 58.9771 Q 178.923 57.8904, 180.719 57.8904 Q 182.515 57.8904, 183.476 58.9771 Q 184.437 60.0637, 184.437 62.0083 Q 184.437 63.9757, 183.465 65.0967 Q 182.492 66.2062, 180.719 66.2062 Q 178.935 66.2062, 177.963 65.0967 Q 177.002 63.9871, 177.002 62.0083 M 180.719 65.2911 Q 181.955 65.2911, 182.618 64.4676 Q 183.293 63.6325, 183.293 62.0083 Q 183.293 60.4183, 182.618 59.6176 Q 181.955 58.8055, 180.719 58.8055 Q 179.484 58.8055, 178.809 59.6062 Q 178.146 60.4069, 178.146 62.0083 Q 178.146 63.644, 178.809 64.4676 Q 179.484 65.2911, 180.719 65.2911 \" fill=\"#FF0000\"/>\n",
       "<path d=\"\" fill=\"#000000\"/>\n",
       "</svg>"
      ],
      "text/plain": [
       "<IPython.core.display.SVG object>"
      ]
     },
     "execution_count": 26,
     "metadata": {},
     "output_type": "execute_result"
    }
   ],
   "source": [
    "mistake_row = 7\n",
    "res = debug_row(df_test,mistake_row)\n",
    "SVG(res.GetDrawingText())  "
   ]
  },
  {
   "attachments": {},
   "cell_type": "markdown",
   "id": "chinese-robertson",
   "metadata": {},
   "source": [
    "### Conclusion\n",
    "Hopefully, this post provides a brief introduction into how models can be interpreted and how the values interpreted from a model can be assessed. There's a lot more to be done here, but hopefully this code provides a place to get started. If you're interested in the critical assessment of model interpretability, I highly recommend these two papers.\n",
    "\n",
    "Sheridan, Robert P. \"Interpretation of QSAR models by coloring atoms according to changes in predicted activity: how robust is it?.\" Journal of Chemical Information and Modeling 59.4 (2019): 1324-1337. [https://doi.org/10.1021/acs.jcim.8b00825](https://doi.org/10.1021/acs.jcim.8b00825)\n",
    "\n",
    "Matveieva M, Polishchuk P. Benchmarks for interpretation of QSAR models. Journal of Cheminformatics. 2021 Dec;13(1):1-20. [https://doi.org/10.1186/s13321-021-00519-x](https://doi.org/10.1186/s13321-021-00519-x)"
   ]
  },
  {
   "cell_type": "code",
   "execution_count": null,
   "id": "shared-small",
   "metadata": {},
   "outputs": [],
   "source": []
  }
 ],
 "metadata": {
  "kernelspec": {
   "display_name": "Python 3",
   "language": "python",
   "name": "python3"
  },
  "language_info": {
   "codemirror_mode": {
    "name": "ipython",
    "version": 3
   },
   "file_extension": ".py",
   "mimetype": "text/x-python",
   "name": "python",
   "nbconvert_exporter": "python",
   "pygments_lexer": "ipython3",
   "version": "3.9.1"
  }
 },
 "nbformat": 4,
 "nbformat_minor": 5
}
