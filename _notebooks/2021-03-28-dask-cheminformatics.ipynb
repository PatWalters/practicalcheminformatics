{
 "cells": [
  {
   "cell_type": "markdown",
   "id": "conscious-market",
   "metadata": {},
   "source": [
    "# Fast Parallel Cheminformatics Workflows With Dask\n",
    "> Acclerate you workflows with a couple of lines of code.\n",
    "\n",
    "- toc: true \n",
    "- badges: true\n",
    "- comments: true\n",
    "- categories: [jupyter, dask, parallel]\n",
    "- image: images/blog/dask_blog.png"
   ]
  },
  {
   "cell_type": "markdown",
   "id": "nominated-judges",
   "metadata": {},
   "source": [
    "In this post we'll take a look at how we can use [Dask](https://dask.org/) to parallelize and speed up Cheminformatics workflows with a couple of lines of code.  As an example we'll write a scritpt to calculate the properties from [Lipinski's Rule of 5](https://www.sciencedirect.com/science/article/abs/pii/S0169409X96004231).  Just for fun, we'll also add in the number of rotatable bonds.  We'll start by implementing a simple serial version, then modify that to run in parallel with Dask. "
   ]
  },
  {
   "cell_type": "markdown",
   "id": "known-retreat",
   "metadata": {},
   "source": [
    "### Single Processor Version\n",
    "\n",
    "First we'll import the necessary Python libraries. "
   ]
  },
  {
   "cell_type": "code",
   "execution_count": 1,
   "id": "passive-public",
   "metadata": {},
   "outputs": [],
   "source": [
    "import pandas as pd\n",
    "from rdkit import Chem\n",
    "from rdkit.Chem import Descriptors"
   ]
  },
  {
   "cell_type": "markdown",
   "id": "provincial-invention",
   "metadata": {},
   "source": [
    "Let's ensure that that Pandas dataframes are displayed with an appropriate number of decimal places."
   ]
  },
  {
   "cell_type": "code",
   "execution_count": 2,
   "id": "governmental-skill",
   "metadata": {},
   "outputs": [],
   "source": [
    "pd.options.display.float_format = \"{:,.2f}\".format"
   ]
  },
  {
   "cell_type": "markdown",
   "id": "previous-tracy",
   "metadata": {},
   "source": [
    "Define a function to calculate the properties"
   ]
  },
  {
   "cell_type": "code",
   "execution_count": 3,
   "id": "supposed-sharing",
   "metadata": {},
   "outputs": [],
   "source": [
    "def calc_r5(smiles):\n",
    "    mol = Chem.MolFromSmiles(smiles)\n",
    "    dummy = -9999.0\n",
    "    res = [dummy, dummy, dummy, dummy, dummy]\n",
    "    if mol:\n",
    "        res = [Descriptors.MolWt(mol),Descriptors.MolLogP(mol),Descriptors.NumHDonors(mol),\n",
    "               Descriptors.NumHAcceptors(mol),Descriptors.NumRotatableBonds(mol)]\n",
    "    return res"
   ]
  },
  {
   "cell_type": "markdown",
   "id": "therapeutic-lover",
   "metadata": {},
   "source": [
    "Read a SMILES file into a Pandas dataframe"
   ]
  },
  {
   "cell_type": "code",
   "execution_count": 4,
   "id": "printable-vienna",
   "metadata": {},
   "outputs": [],
   "source": [
    "infile_name = \"https://github.com/PatWalters/datafiles/blob/main/test.smi?raw=true\"\n",
    "df = pd.read_csv(infile_name,sep=\" \",names=[\"SMILES\",\"Name\"])"
   ]
  },
  {
   "cell_type": "markdown",
   "id": "tracked-comparison",
   "metadata": {},
   "source": [
    "Calculate the properties for the SMILES in the dataframe. "
   ]
  },
  {
   "cell_type": "code",
   "execution_count": 5,
   "id": "listed-linux",
   "metadata": {},
   "outputs": [],
   "source": [
    "df['R5'] = df.SMILES.apply(calc_r5)"
   ]
  },
  {
   "cell_type": "markdown",
   "id": "present-paintball",
   "metadata": {},
   "source": [
    "Now we have all of the properties as a list in one column.  This isn't what we want. However, we can use this trick to create new columns from the list. "
   ]
  },
  {
   "cell_type": "code",
   "execution_count": 6,
   "id": "significant-nashville",
   "metadata": {},
   "outputs": [],
   "source": [
    "df[[\"MW\",\"LogP\",\"HBD\",\"HBA\",\"Rot\"]] = df.R5.to_list()"
   ]
  },
  {
   "cell_type": "code",
   "execution_count": 7,
   "id": "regulation-superintendent",
   "metadata": {},
   "outputs": [
    {
     "data": {
      "text/html": [
       "<div>\n",
       "<style scoped>\n",
       "    .dataframe tbody tr th:only-of-type {\n",
       "        vertical-align: middle;\n",
       "    }\n",
       "\n",
       "    .dataframe tbody tr th {\n",
       "        vertical-align: top;\n",
       "    }\n",
       "\n",
       "    .dataframe thead th {\n",
       "        text-align: right;\n",
       "    }\n",
       "</style>\n",
       "<table border=\"1\" class=\"dataframe\">\n",
       "  <thead>\n",
       "    <tr style=\"text-align: right;\">\n",
       "      <th></th>\n",
       "      <th>SMILES</th>\n",
       "      <th>Name</th>\n",
       "      <th>R5</th>\n",
       "      <th>MW</th>\n",
       "      <th>LogP</th>\n",
       "      <th>HBD</th>\n",
       "      <th>HBA</th>\n",
       "      <th>Rot</th>\n",
       "    </tr>\n",
       "  </thead>\n",
       "  <tbody>\n",
       "    <tr>\n",
       "      <th>0</th>\n",
       "      <td>Br.CC(NC(C)(C)C)C(=O)c1cccc(Cl)c1</td>\n",
       "      <td>675686</td>\n",
       "      <td>[320.658, 3.877200000000003, 1, 2, 3]</td>\n",
       "      <td>320.66</td>\n",
       "      <td>3.88</td>\n",
       "      <td>1</td>\n",
       "      <td>2</td>\n",
       "      <td>3</td>\n",
       "    </tr>\n",
       "    <tr>\n",
       "      <th>1</th>\n",
       "      <td>Br.Cc1ccc(Sc2ccccc2N3CCNCC3)c(C)c1</td>\n",
       "      <td>1379657</td>\n",
       "      <td>[379.3670000000002, 4.442140000000004, 1, 3, 3]</td>\n",
       "      <td>379.37</td>\n",
       "      <td>4.44</td>\n",
       "      <td>1</td>\n",
       "      <td>3</td>\n",
       "      <td>3</td>\n",
       "    </tr>\n",
       "    <tr>\n",
       "      <th>2</th>\n",
       "      <td>Br.CN(C)CCCC1(OCc2cc(ccc12)C#N)c3ccc(F)cc3</td>\n",
       "      <td>674732</td>\n",
       "      <td>[405.31100000000004, 4.390880000000004, 0, 3, 5]</td>\n",
       "      <td>405.31</td>\n",
       "      <td>4.39</td>\n",
       "      <td>0</td>\n",
       "      <td>3</td>\n",
       "      <td>5</td>\n",
       "    </tr>\n",
       "    <tr>\n",
       "      <th>3</th>\n",
       "      <td>Br.CN1CCC[C@@H]1Cc2c[nH]c3ccc(CCS(=O)(=O)c4ccc...</td>\n",
       "      <td>674954</td>\n",
       "      <td>[463.4410000000002, 4.398900000000004, 1, 3, 6]</td>\n",
       "      <td>463.44</td>\n",
       "      <td>4.40</td>\n",
       "      <td>1</td>\n",
       "      <td>3</td>\n",
       "      <td>6</td>\n",
       "    </tr>\n",
       "    <tr>\n",
       "      <th>4</th>\n",
       "      <td>Br.COc1ccc2CN(C)CC[C@@]34C=C[C@H](O)C[C@@H]3Oc...</td>\n",
       "      <td>443255</td>\n",
       "      <td>[368.2710000000001, 2.4282000000000004, 1, 4, 1]</td>\n",
       "      <td>368.27</td>\n",
       "      <td>2.43</td>\n",
       "      <td>1</td>\n",
       "      <td>4</td>\n",
       "      <td>1</td>\n",
       "    </tr>\n",
       "    <tr>\n",
       "      <th>...</th>\n",
       "      <td>...</td>\n",
       "      <td>...</td>\n",
       "      <td>...</td>\n",
       "      <td>...</td>\n",
       "      <td>...</td>\n",
       "      <td>...</td>\n",
       "      <td>...</td>\n",
       "      <td>...</td>\n",
       "    </tr>\n",
       "    <tr>\n",
       "      <th>95</th>\n",
       "      <td>CC(C)CC(N(C)C)C1(CCC1)c2ccc(Cl)cc2</td>\n",
       "      <td>358192</td>\n",
       "      <td>[279.85499999999996, 4.738000000000005, 0, 1, 5]</td>\n",
       "      <td>279.85</td>\n",
       "      <td>4.74</td>\n",
       "      <td>0</td>\n",
       "      <td>1</td>\n",
       "      <td>5</td>\n",
       "    </tr>\n",
       "    <tr>\n",
       "      <th>96</th>\n",
       "      <td>CC(C)CC1(CC=C)C(=O)NC(=O)NC1=O</td>\n",
       "      <td>2524</td>\n",
       "      <td>[224.26, 0.9609999999999999, 2, 3, 4]</td>\n",
       "      <td>224.26</td>\n",
       "      <td>0.96</td>\n",
       "      <td>2</td>\n",
       "      <td>3</td>\n",
       "      <td>4</td>\n",
       "    </tr>\n",
       "    <tr>\n",
       "      <th>97</th>\n",
       "      <td>CC(C)Cc1ccc(cc1)C(C)C(=O)O</td>\n",
       "      <td>11674</td>\n",
       "      <td>[206.28499999999997, 3.073200000000001, 1, 1, 4]</td>\n",
       "      <td>206.28</td>\n",
       "      <td>3.07</td>\n",
       "      <td>1</td>\n",
       "      <td>1</td>\n",
       "      <td>4</td>\n",
       "    </tr>\n",
       "    <tr>\n",
       "      <th>98</th>\n",
       "      <td>CC(C)CCC[C@@H](C)[C@H]1CC[C@H]2\\C(=C\\C=C/3\\C[C...</td>\n",
       "      <td>125294</td>\n",
       "      <td>[384.6480000000003, 7.619000000000009, 1, 1, 6]</td>\n",
       "      <td>384.65</td>\n",
       "      <td>7.62</td>\n",
       "      <td>1</td>\n",
       "      <td>1</td>\n",
       "      <td>6</td>\n",
       "    </tr>\n",
       "    <tr>\n",
       "      <th>99</th>\n",
       "      <td>CC(C)CN(C[C@@H](O)[C@H](Cc1ccccc1)NC(=O)O[C@H]...</td>\n",
       "      <td>17347</td>\n",
       "      <td>[505.63700000000034, 2.4028, 3, 7, 11]</td>\n",
       "      <td>505.64</td>\n",
       "      <td>2.40</td>\n",
       "      <td>3</td>\n",
       "      <td>7</td>\n",
       "      <td>11</td>\n",
       "    </tr>\n",
       "  </tbody>\n",
       "</table>\n",
       "<p>100 rows × 8 columns</p>\n",
       "</div>"
      ],
      "text/plain": [
       "                                               SMILES     Name  \\\n",
       "0                   Br.CC(NC(C)(C)C)C(=O)c1cccc(Cl)c1   675686   \n",
       "1                  Br.Cc1ccc(Sc2ccccc2N3CCNCC3)c(C)c1  1379657   \n",
       "2          Br.CN(C)CCCC1(OCc2cc(ccc12)C#N)c3ccc(F)cc3   674732   \n",
       "3   Br.CN1CCC[C@@H]1Cc2c[nH]c3ccc(CCS(=O)(=O)c4ccc...   674954   \n",
       "4   Br.COc1ccc2CN(C)CC[C@@]34C=C[C@H](O)C[C@@H]3Oc...   443255   \n",
       "..                                                ...      ...   \n",
       "95                 CC(C)CC(N(C)C)C1(CCC1)c2ccc(Cl)cc2   358192   \n",
       "96                     CC(C)CC1(CC=C)C(=O)NC(=O)NC1=O     2524   \n",
       "97                         CC(C)Cc1ccc(cc1)C(C)C(=O)O    11674   \n",
       "98  CC(C)CCC[C@@H](C)[C@H]1CC[C@H]2\\C(=C\\C=C/3\\C[C...   125294   \n",
       "99  CC(C)CN(C[C@@H](O)[C@H](Cc1ccccc1)NC(=O)O[C@H]...    17347   \n",
       "\n",
       "                                                  R5     MW  LogP  HBD  HBA  \\\n",
       "0              [320.658, 3.877200000000003, 1, 2, 3] 320.66  3.88    1    2   \n",
       "1    [379.3670000000002, 4.442140000000004, 1, 3, 3] 379.37  4.44    1    3   \n",
       "2   [405.31100000000004, 4.390880000000004, 0, 3, 5] 405.31  4.39    0    3   \n",
       "3    [463.4410000000002, 4.398900000000004, 1, 3, 6] 463.44  4.40    1    3   \n",
       "4   [368.2710000000001, 2.4282000000000004, 1, 4, 1] 368.27  2.43    1    4   \n",
       "..                                               ...    ...   ...  ...  ...   \n",
       "95  [279.85499999999996, 4.738000000000005, 0, 1, 5] 279.85  4.74    0    1   \n",
       "96             [224.26, 0.9609999999999999, 2, 3, 4] 224.26  0.96    2    3   \n",
       "97  [206.28499999999997, 3.073200000000001, 1, 1, 4] 206.28  3.07    1    1   \n",
       "98   [384.6480000000003, 7.619000000000009, 1, 1, 6] 384.65  7.62    1    1   \n",
       "99            [505.63700000000034, 2.4028, 3, 7, 11] 505.64  2.40    3    7   \n",
       "\n",
       "    Rot  \n",
       "0     3  \n",
       "1     3  \n",
       "2     5  \n",
       "3     6  \n",
       "4     1  \n",
       "..  ...  \n",
       "95    5  \n",
       "96    4  \n",
       "97    4  \n",
       "98    6  \n",
       "99   11  \n",
       "\n",
       "[100 rows x 8 columns]"
      ]
     },
     "execution_count": 7,
     "metadata": {},
     "output_type": "execute_result"
    }
   ],
   "source": [
    "df"
   ]
  },
  {
   "cell_type": "markdown",
   "id": "smooth-occupation",
   "metadata": {},
   "source": [
    "At this point, we no longer need the R5 column, so we can get rid of it. "
   ]
  },
  {
   "cell_type": "code",
   "execution_count": 8,
   "id": "brutal-shore",
   "metadata": {},
   "outputs": [],
   "source": [
    "df.drop(\"R5\",axis=1,inplace=True)"
   ]
  },
  {
   "cell_type": "markdown",
   "id": "joint-company",
   "metadata": {},
   "source": [
    "Finally, we can write the results to a csv file.  "
   ]
  },
  {
   "cell_type": "code",
   "execution_count": 9,
   "id": "fatal-pavilion",
   "metadata": {},
   "outputs": [],
   "source": [
    "df.to_csv(\"props.csv\",index=False)"
   ]
  },
  {
   "cell_type": "markdown",
   "id": "loaded-adobe",
   "metadata": {},
   "source": [
    "### Parallel Version\n",
    "\n",
    "In order to parallelize this calculation with Dask, we need an additional import."
   ]
  },
  {
   "cell_type": "code",
   "execution_count": 10,
   "id": "apparent-clerk",
   "metadata": {},
   "outputs": [],
   "source": [
    "import dask.dataframe as dd"
   ]
  },
  {
   "cell_type": "markdown",
   "id": "painful-bryan",
   "metadata": {},
   "source": [
    "We also need to convert the Pandas dataframe to a Dask dataframe. In the constructor for the Dask dataframe, we specify an argument \"npartitions\", that defines the number of chunks to divide the dataframe into for the calculation.  This seems to be most efficeint when we set \"npartitions\" to the number of processor cores. "
   ]
  },
  {
   "cell_type": "code",
   "execution_count": 11,
   "id": "known-musical",
   "metadata": {},
   "outputs": [],
   "source": [
    "num_cores = 8\n",
    "ddf = dd.from_pandas(df,npartitions=num_cores)"
   ]
  },
  {
   "cell_type": "markdown",
   "id": "difficult-consciousness",
   "metadata": {},
   "source": [
    "Parallelization with Dask requires a function that accepts a dataframe as input. We can define a function that uses the \"apply\" from the serial version above.  "
   ]
  },
  {
   "cell_type": "code",
   "execution_count": 12,
   "id": "twenty-philosophy",
   "metadata": {},
   "outputs": [],
   "source": [
    "def df_r5(df_in):\n",
    "    return df_in.SMILES.apply(calc_r5)"
   ]
  },
  {
   "cell_type": "markdown",
   "id": "demonstrated-track",
   "metadata": {},
   "source": [
    "Now we can parallelize our workflow with a single line of code."
   ]
  },
  {
   "cell_type": "code",
   "execution_count": 13,
   "id": "august-finding",
   "metadata": {},
   "outputs": [],
   "source": [
    "df[\"R5\"] = ddf.map_partitions(df_r5,meta='float').compute(scheduler='processes')"
   ]
  },
  {
   "cell_type": "markdown",
   "id": "breathing-health",
   "metadata": {},
   "source": [
    "We can use the same method we described above to split the \"R5\" column into multiple columns. "
   ]
  },
  {
   "cell_type": "code",
   "execution_count": 14,
   "id": "developing-collection",
   "metadata": {},
   "outputs": [],
   "source": [
    "df[[\"MW\",\"LogP\",\"HBD\",\"HBA\",\"Rot\"]] = df.R5.to_list()\n",
    "df.drop(\"R5\",axis=1,inplace=True)"
   ]
  },
  {
   "cell_type": "markdown",
   "id": "vietnamese-guinea",
   "metadata": {},
   "source": [
    "### Benchmarking\n",
    "\n",
    "Let's take a look at how much of a speedup we can get by using Dask.  To do this, we'll take a look at how long it takes to calculate the five properties above for 1 million molecules from the ZINC database.  The input file is large so I didn't include it in this post.  Here's the code I used to perform the benchmark. "
   ]
  },
  {
   "cell_type": "code",
   "execution_count": 18,
   "id": "sufficient-jenny",
   "metadata": {},
   "outputs": [
    {
     "name": "stdout",
     "output_type": "stream",
     "text": [
      "1000000 molecules processed in 714.70 sec on 1 cores\n",
      "1000000 molecules processed in 378.56 sec on 2 cores\n",
      "1000000 molecules processed in 272.38 sec on 3 cores\n",
      "1000000 molecules processed in 211.11 sec on 4 cores\n",
      "1000000 molecules processed in 177.00 sec on 5 cores\n",
      "1000000 molecules processed in 158.07 sec on 6 cores\n",
      "1000000 molecules processed in 146.98 sec on 7 cores\n",
      "1000000 molecules processed in 142.83 sec on 8 cores\n"
     ]
    }
   ],
   "source": [
    "import time\n",
    "\n",
    "df = pd.read_csv(\"zinc_1M.smi\",sep=\" \",names=[\"SMILES\",\"Name\"])\n",
    "runtime_res = []\n",
    "for num_cores in range(1,9):\n",
    "    ddf = dd.from_pandas(df,npartitions=num_cores)\n",
    "    start = time.time()\n",
    "    df[\"R5\"] = ddf.map_partitions(df_r5,meta='float').compute(scheduler='processes')\n",
    "    elapsed = time.time()-start\n",
    "    df[[\"MW\",\"LogP\",\"HBD\",\"HBA\",\"Rot\"]] = df.R5.to_list()\n",
    "    df.drop(\"R5\",axis=1,inplace=True)\n",
    "    df.to_csv(\"props.csv\",index=False,float_format=\"%0.2f\")\n",
    "    print(f\"{len(df)} molecules processed in {elapsed:0.2f} sec on {num_cores} cores\")\n",
    "    runtime_res.append([elapsed,num_cores])"
   ]
  },
  {
   "cell_type": "markdown",
   "id": "directed-bench",
   "metadata": {},
   "source": [
    "Make a dataframe so that we can view the results.  We'll add a column with the runtime ratio for n cores to 1 core. "
   ]
  },
  {
   "cell_type": "code",
   "execution_count": 23,
   "id": "liable-terrorism",
   "metadata": {},
   "outputs": [],
   "source": [
    "runtime_df = pd.DataFrame(runtime_res,columns=[\"Runtime\",\"Cores\"])\n",
    "one_core_time = runtime_df.Runtime.values[0]\n",
    "runtime_df['Ratio'] = one_core_time/runtime_df.Runtime"
   ]
  },
  {
   "cell_type": "markdown",
   "id": "reserved-center",
   "metadata": {},
   "source": [
    "View the results. 5x speed-up with 8 cores, not too bad for one line of code. "
   ]
  },
  {
   "cell_type": "code",
   "execution_count": 24,
   "id": "original-encounter",
   "metadata": {},
   "outputs": [
    {
     "data": {
      "text/html": [
       "<div>\n",
       "<style scoped>\n",
       "    .dataframe tbody tr th:only-of-type {\n",
       "        vertical-align: middle;\n",
       "    }\n",
       "\n",
       "    .dataframe tbody tr th {\n",
       "        vertical-align: top;\n",
       "    }\n",
       "\n",
       "    .dataframe thead th {\n",
       "        text-align: right;\n",
       "    }\n",
       "</style>\n",
       "<table border=\"1\" class=\"dataframe\">\n",
       "  <thead>\n",
       "    <tr style=\"text-align: right;\">\n",
       "      <th></th>\n",
       "      <th>Runtime</th>\n",
       "      <th>Cores</th>\n",
       "      <th>Ratio</th>\n",
       "    </tr>\n",
       "  </thead>\n",
       "  <tbody>\n",
       "    <tr>\n",
       "      <th>0</th>\n",
       "      <td>714.70</td>\n",
       "      <td>1</td>\n",
       "      <td>1.00</td>\n",
       "    </tr>\n",
       "    <tr>\n",
       "      <th>1</th>\n",
       "      <td>378.56</td>\n",
       "      <td>2</td>\n",
       "      <td>1.89</td>\n",
       "    </tr>\n",
       "    <tr>\n",
       "      <th>2</th>\n",
       "      <td>272.38</td>\n",
       "      <td>3</td>\n",
       "      <td>2.62</td>\n",
       "    </tr>\n",
       "    <tr>\n",
       "      <th>3</th>\n",
       "      <td>211.11</td>\n",
       "      <td>4</td>\n",
       "      <td>3.39</td>\n",
       "    </tr>\n",
       "    <tr>\n",
       "      <th>4</th>\n",
       "      <td>177.00</td>\n",
       "      <td>5</td>\n",
       "      <td>4.04</td>\n",
       "    </tr>\n",
       "    <tr>\n",
       "      <th>5</th>\n",
       "      <td>158.07</td>\n",
       "      <td>6</td>\n",
       "      <td>4.52</td>\n",
       "    </tr>\n",
       "    <tr>\n",
       "      <th>6</th>\n",
       "      <td>146.98</td>\n",
       "      <td>7</td>\n",
       "      <td>4.86</td>\n",
       "    </tr>\n",
       "    <tr>\n",
       "      <th>7</th>\n",
       "      <td>142.83</td>\n",
       "      <td>8</td>\n",
       "      <td>5.00</td>\n",
       "    </tr>\n",
       "  </tbody>\n",
       "</table>\n",
       "</div>"
      ],
      "text/plain": [
       "   Runtime  Cores  Ratio\n",
       "0   714.70      1   1.00\n",
       "1   378.56      2   1.89\n",
       "2   272.38      3   2.62\n",
       "3   211.11      4   3.39\n",
       "4   177.00      5   4.04\n",
       "5   158.07      6   4.52\n",
       "6   146.98      7   4.86\n",
       "7   142.83      8   5.00"
      ]
     },
     "execution_count": 24,
     "metadata": {},
     "output_type": "execute_result"
    }
   ],
   "source": [
    "runtime_df"
   ]
  },
  {
   "cell_type": "markdown",
   "id": "discrete-tattoo",
   "metadata": {},
   "source": [
    "Plot the results."
   ]
  },
  {
   "cell_type": "code",
   "execution_count": 25,
   "id": "fitting-shift",
   "metadata": {},
   "outputs": [
    {
     "data": {
      "image/png": "[encoded data removed]",
      "text/plain": [
       "<Figure size 720x720 with 1 Axes>"
      ]
     },
     "metadata": {},
     "output_type": "display_data"
    }
   ],
   "source": [
    "import seaborn as sns\n",
    "\n",
    "sns.set(rc={'figure.figsize': (10, 10)})\n",
    "sns.set_style('whitegrid')\n",
    "sns.set_context('talk')\n",
    "\n",
    "ax = sns.scatterplot(x=\"Cores\",y=\"Runtime\",data=runtime_df)\n",
    "ax.set(ylabel=\"Runtime (sec)\");"
   ]
  },
  {
   "cell_type": "markdown",
   "id": "worst-champion",
   "metadata": {},
   "source": [
    "### Caveats\n",
    "\n",
    "The method described here is only going to work for datasets that will fit into memory.  You can use this method to process millions of molecules, but it won't work for billions.  Dask has other methods for dealing with data that won't fit into memory.  We'll save that discussion for another day. "
   ]
  },
  {
   "cell_type": "markdown",
   "id": "found-mirror",
   "metadata": {},
   "source": [
    "### Acknowledgments\n",
    "\n",
    "I'd like to thank Yutong Zhao, Greg Landrum, Peter St. John, and Maciek Wójcikowski for valuable advice."
   ]
  },
  {
   "cell_type": "code",
   "execution_count": null,
   "id": "cordless-chart",
   "metadata": {},
   "outputs": [],
   "source": []
  }
 ],
 "metadata": {
  "kernelspec": {
   "display_name": "Python 3",
   "language": "python",
   "name": "python3"
  },
  "language_info": {
   "codemirror_mode": {
    "name": "ipython",
    "version": 3
   },
   "file_extension": ".py",
   "mimetype": "text/x-python",
   "name": "python",
   "nbconvert_exporter": "python",
   "pygments_lexer": "ipython3",
   "version": "3.9.1"
  }
 },
 "nbformat": 4,
 "nbformat_minor": 5
}
