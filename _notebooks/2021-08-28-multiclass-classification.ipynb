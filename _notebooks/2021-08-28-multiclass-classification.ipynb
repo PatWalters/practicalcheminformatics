{
 "cells": [
  {
   "cell_type": "markdown",
   "id": "naval-jesus",
   "metadata": {},
   "source": [
    "# Building a multiclass classification model\n",
    "> Data cleaning, adding structures to PubChem data, building a multiclass model, dealing with imbalanced data\n",
    "\n",
    "- toc: True\n",
    "- branch: master\n",
    "- badges: true\n",
    "- comments: true\n",
    "- categories: [jupyter, multiclass, PubChem, imbalanced]\n",
    "- image: images/blog/multiclass.png\n",
    "- hide: false\n",
    "- search_exclude: false"
   ]
  },
  {
   "cell_type": "markdown",
   "id": "significant-color",
   "metadata": {},
   "source": [
    "# Introduction\n",
    "\n",
    "At the Fall 2021 ACS Meeting, the group from [NCATS](https://opendata.ncats.nih.gov/adme/home) described a number of ADME models they had developed.  Even better, the NCATS team also released some of the data used to build these models.  In this notebook we'll use the data from the [NCATS CYP3A4](https://pubchem.ncbi.nlm.nih.gov/bioassay/1645841) assay to classify molecules as CYP3A4 activators, inhibitors, or inactive.  "
   ]
  },
  {
   "cell_type": "markdown",
   "id": "based-journey",
   "metadata": {},
   "source": [
    "In order to run this notebook, the following Python libraries should be installed\n",
    "- [pandas](https://pandas.pydata.org/) - handling data tables\n",
    "- [pubchempy](https://pubchempy.readthedocs.io/en/latest/) - grabbing chemical structures from PubChem\n",
    "- [tqdm](https://github.com/tqdm/tqdm) - progress bars\n",
    "- [numpy](https://numpy.org/) - linear algebra and matrices\n",
    "- [itertools](https://docs.python.org/3/library/itertools.html) - advanced list handling\n",
    "- [sklearn](https://scikit-learn.org/stable/) - machine learning\n",
    "- [lightgbm](https://lightgbm.readthedocs.io/en/latest/) - gradient boosted trees for machine learning\n",
    "- [matplotlib](https://matplotlib.org/) - plotting\n",
    "- [seaborn](https://seaborn.pydata.org/) - even better plotting\n",
    "- [pingouin](https://pingouin-stats.org/api.html) - stats\n",
    "- [imbalanced-learning](https://imbalanced-learn.org/stable/) - machine learning with imbalanced datasets"
   ]
  },
  {
   "cell_type": "code",
   "execution_count": 1,
   "id": "light-fitting",
   "metadata": {},
   "outputs": [],
   "source": [
    "import pandas as pd\n",
    "import pubchempy as pcp\n",
    "from tqdm.auto import tqdm\n",
    "import numpy as np\n",
    "import itertools\n",
    "from lib.descriptor_gen import DescriptorGen\n",
    "from sklearn.preprocessing import LabelEncoder\n",
    "from sklearn.model_selection import train_test_split\n",
    "from lightgbm import LGBMClassifier\n",
    "from sklearn.metrics import plot_confusion_matrix, matthews_corrcoef, roc_auc_score\n",
    "import matplotlib.pyplot as plt\n",
    "import seaborn as sns"
   ]
  },
  {
   "cell_type": "markdown",
   "id": "declared-greek",
   "metadata": {},
   "source": [
    "Enable Pandas progress_apply so that we can get progress bars for Pandas operations"
   ]
  },
  {
   "cell_type": "code",
   "execution_count": 2,
   "id": "adapted-accuracy",
   "metadata": {},
   "outputs": [],
   "source": [
    "tqdm.pandas()"
   ]
  },
  {
   "cell_type": "markdown",
   "id": "indirect-device",
   "metadata": {},
   "source": [
    "# Read and clean the PubChem data"
   ]
  },
  {
   "cell_type": "code",
   "execution_count": 3,
   "id": "normal-above",
   "metadata": {},
   "outputs": [],
   "source": [
    "df = pd.read_csv(\"data/AID_1645841_datatable.csv\",skiprows=[1,2,3,4,5],low_memory=False)"
   ]
  },
  {
   "cell_type": "code",
   "execution_count": 4,
   "id": "oriented-pakistan",
   "metadata": {},
   "outputs": [
    {
     "data": {
      "text/html": [
       "<div>\n",
       "<style scoped>\n",
       "    .dataframe tbody tr th:only-of-type {\n",
       "        vertical-align: middle;\n",
       "    }\n",
       "\n",
       "    .dataframe tbody tr th {\n",
       "        vertical-align: top;\n",
       "    }\n",
       "\n",
       "    .dataframe thead th {\n",
       "        text-align: right;\n",
       "    }\n",
       "</style>\n",
       "<table border=\"1\" class=\"dataframe\">\n",
       "  <thead>\n",
       "    <tr style=\"text-align: right;\">\n",
       "      <th></th>\n",
       "      <th>PUBCHEM_RESULT_TAG</th>\n",
       "      <th>PUBCHEM_SID</th>\n",
       "      <th>PUBCHEM_CID</th>\n",
       "      <th>PUBCHEM_ACTIVITY_OUTCOME</th>\n",
       "      <th>PUBCHEM_ACTIVITY_SCORE</th>\n",
       "      <th>PUBCHEM_ACTIVITY_URL</th>\n",
       "      <th>PUBCHEM_ASSAYDATA_COMMENT</th>\n",
       "      <th>Phenotype-Replicate_1</th>\n",
       "      <th>Potency-Replicate_1</th>\n",
       "      <th>Efficacy-Replicate_1</th>\n",
       "      <th>...</th>\n",
       "      <th>Activity at 0.910 uM-Replicate_5</th>\n",
       "      <th>Activity at 1.182 uM-Replicate_5</th>\n",
       "      <th>Activity at 2.302 uM-Replicate_5</th>\n",
       "      <th>Activity at 4.834 uM-Replicate_5</th>\n",
       "      <th>Activity at 11.49 uM-Replicate_5</th>\n",
       "      <th>Activity at 23.94 uM-Replicate_5</th>\n",
       "      <th>Activity at 57.45 uM-Replicate_5</th>\n",
       "      <th>Activity at 115.4 uM-Replicate_5</th>\n",
       "      <th>Activity at 193.5 uM-Replicate_5</th>\n",
       "      <th>Activity at 288.3 uM-Replicate_5</th>\n",
       "    </tr>\n",
       "  </thead>\n",
       "  <tbody>\n",
       "    <tr>\n",
       "      <th>0</th>\n",
       "      <td>1</td>\n",
       "      <td>104223880</td>\n",
       "      <td>197033.0</td>\n",
       "      <td>Active</td>\n",
       "      <td>43</td>\n",
       "      <td>http://assay.nih.gov/htsws/rest/display/p450-i...</td>\n",
       "      <td>NaN</td>\n",
       "      <td>Inhibitor</td>\n",
       "      <td>10.6840</td>\n",
       "      <td>136.1930</td>\n",
       "      <td>...</td>\n",
       "      <td>NaN</td>\n",
       "      <td>NaN</td>\n",
       "      <td>NaN</td>\n",
       "      <td>NaN</td>\n",
       "      <td>NaN</td>\n",
       "      <td>NaN</td>\n",
       "      <td>NaN</td>\n",
       "      <td>NaN</td>\n",
       "      <td>NaN</td>\n",
       "      <td>NaN</td>\n",
       "    </tr>\n",
       "    <tr>\n",
       "      <th>1</th>\n",
       "      <td>2</td>\n",
       "      <td>11111456</td>\n",
       "      <td>5281670.0</td>\n",
       "      <td>Inactive</td>\n",
       "      <td>0</td>\n",
       "      <td>http://assay.nih.gov/htsws/rest/display/p450-i...</td>\n",
       "      <td>NaN</td>\n",
       "      <td>Inactive</td>\n",
       "      <td>NaN</td>\n",
       "      <td>NaN</td>\n",
       "      <td>...</td>\n",
       "      <td>NaN</td>\n",
       "      <td>NaN</td>\n",
       "      <td>NaN</td>\n",
       "      <td>NaN</td>\n",
       "      <td>NaN</td>\n",
       "      <td>NaN</td>\n",
       "      <td>NaN</td>\n",
       "      <td>NaN</td>\n",
       "      <td>NaN</td>\n",
       "      <td>NaN</td>\n",
       "    </tr>\n",
       "    <tr>\n",
       "      <th>2</th>\n",
       "      <td>3</td>\n",
       "      <td>11113977</td>\n",
       "      <td>6604832.0</td>\n",
       "      <td>Inconclusive</td>\n",
       "      <td>10</td>\n",
       "      <td>http://assay.nih.gov/htsws/rest/display/p450-i...</td>\n",
       "      <td>NaN</td>\n",
       "      <td>Inhibitor</td>\n",
       "      <td>37.9083</td>\n",
       "      <td>105.9830</td>\n",
       "      <td>...</td>\n",
       "      <td>NaN</td>\n",
       "      <td>NaN</td>\n",
       "      <td>NaN</td>\n",
       "      <td>NaN</td>\n",
       "      <td>NaN</td>\n",
       "      <td>NaN</td>\n",
       "      <td>NaN</td>\n",
       "      <td>NaN</td>\n",
       "      <td>NaN</td>\n",
       "      <td>NaN</td>\n",
       "    </tr>\n",
       "    <tr>\n",
       "      <th>3</th>\n",
       "      <td>4</td>\n",
       "      <td>124879150</td>\n",
       "      <td>5280443.0</td>\n",
       "      <td>Active</td>\n",
       "      <td>84</td>\n",
       "      <td>http://assay.nih.gov/htsws/rest/display/p450-i...</td>\n",
       "      <td>NaN</td>\n",
       "      <td>Inhibitor</td>\n",
       "      <td>6.0081</td>\n",
       "      <td>112.7240</td>\n",
       "      <td>...</td>\n",
       "      <td>NaN</td>\n",
       "      <td>NaN</td>\n",
       "      <td>NaN</td>\n",
       "      <td>NaN</td>\n",
       "      <td>NaN</td>\n",
       "      <td>NaN</td>\n",
       "      <td>NaN</td>\n",
       "      <td>NaN</td>\n",
       "      <td>NaN</td>\n",
       "      <td>NaN</td>\n",
       "    </tr>\n",
       "    <tr>\n",
       "      <th>4</th>\n",
       "      <td>5</td>\n",
       "      <td>124879975</td>\n",
       "      <td>836.0</td>\n",
       "      <td>Active</td>\n",
       "      <td>63</td>\n",
       "      <td>http://assay.nih.gov/htsws/rest/display/p450-i...</td>\n",
       "      <td>NaN</td>\n",
       "      <td>Inhibitor</td>\n",
       "      <td>3.0112</td>\n",
       "      <td>57.7747</td>\n",
       "      <td>...</td>\n",
       "      <td>NaN</td>\n",
       "      <td>NaN</td>\n",
       "      <td>NaN</td>\n",
       "      <td>NaN</td>\n",
       "      <td>NaN</td>\n",
       "      <td>NaN</td>\n",
       "      <td>NaN</td>\n",
       "      <td>NaN</td>\n",
       "      <td>NaN</td>\n",
       "      <td>NaN</td>\n",
       "    </tr>\n",
       "    <tr>\n",
       "      <th>...</th>\n",
       "      <td>...</td>\n",
       "      <td>...</td>\n",
       "      <td>...</td>\n",
       "      <td>...</td>\n",
       "      <td>...</td>\n",
       "      <td>...</td>\n",
       "      <td>...</td>\n",
       "      <td>...</td>\n",
       "      <td>...</td>\n",
       "      <td>...</td>\n",
       "      <td>...</td>\n",
       "      <td>...</td>\n",
       "      <td>...</td>\n",
       "      <td>...</td>\n",
       "      <td>...</td>\n",
       "      <td>...</td>\n",
       "      <td>...</td>\n",
       "      <td>...</td>\n",
       "      <td>...</td>\n",
       "      <td>...</td>\n",
       "      <td>...</td>\n",
       "    </tr>\n",
       "    <tr>\n",
       "      <th>5237</th>\n",
       "      <td>5238</td>\n",
       "      <td>90341041</td>\n",
       "      <td>11957637.0</td>\n",
       "      <td>Inactive</td>\n",
       "      <td>0</td>\n",
       "      <td>http://assay.nih.gov/htsws/rest/display/p450-i...</td>\n",
       "      <td>NaN</td>\n",
       "      <td>Inactive</td>\n",
       "      <td>NaN</td>\n",
       "      <td>NaN</td>\n",
       "      <td>...</td>\n",
       "      <td>NaN</td>\n",
       "      <td>NaN</td>\n",
       "      <td>NaN</td>\n",
       "      <td>NaN</td>\n",
       "      <td>NaN</td>\n",
       "      <td>NaN</td>\n",
       "      <td>NaN</td>\n",
       "      <td>NaN</td>\n",
       "      <td>NaN</td>\n",
       "      <td>NaN</td>\n",
       "    </tr>\n",
       "    <tr>\n",
       "      <th>5238</th>\n",
       "      <td>5239</td>\n",
       "      <td>90341069</td>\n",
       "      <td>4906.0</td>\n",
       "      <td>Inactive</td>\n",
       "      <td>0</td>\n",
       "      <td>http://assay.nih.gov/htsws/rest/display/p450-i...</td>\n",
       "      <td>NaN</td>\n",
       "      <td>Inactive</td>\n",
       "      <td>NaN</td>\n",
       "      <td>NaN</td>\n",
       "      <td>...</td>\n",
       "      <td>NaN</td>\n",
       "      <td>NaN</td>\n",
       "      <td>NaN</td>\n",
       "      <td>NaN</td>\n",
       "      <td>NaN</td>\n",
       "      <td>NaN</td>\n",
       "      <td>NaN</td>\n",
       "      <td>NaN</td>\n",
       "      <td>NaN</td>\n",
       "      <td>NaN</td>\n",
       "    </tr>\n",
       "    <tr>\n",
       "      <th>5239</th>\n",
       "      <td>5240</td>\n",
       "      <td>90341160</td>\n",
       "      <td>5593.0</td>\n",
       "      <td>Active</td>\n",
       "      <td>42</td>\n",
       "      <td>http://assay.nih.gov/htsws/rest/display/p450-i...</td>\n",
       "      <td>NaN</td>\n",
       "      <td>Inhibitor</td>\n",
       "      <td>10.6840</td>\n",
       "      <td>100.9580</td>\n",
       "      <td>...</td>\n",
       "      <td>NaN</td>\n",
       "      <td>NaN</td>\n",
       "      <td>NaN</td>\n",
       "      <td>NaN</td>\n",
       "      <td>NaN</td>\n",
       "      <td>NaN</td>\n",
       "      <td>NaN</td>\n",
       "      <td>NaN</td>\n",
       "      <td>NaN</td>\n",
       "      <td>NaN</td>\n",
       "    </tr>\n",
       "    <tr>\n",
       "      <th>5240</th>\n",
       "      <td>5241</td>\n",
       "      <td>90341654</td>\n",
       "      <td>2968.0</td>\n",
       "      <td>Inconclusive</td>\n",
       "      <td>10</td>\n",
       "      <td>http://assay.nih.gov/htsws/rest/display/p450-i...</td>\n",
       "      <td>NaN</td>\n",
       "      <td>Inhibitor</td>\n",
       "      <td>1.3450</td>\n",
       "      <td>68.4438</td>\n",
       "      <td>...</td>\n",
       "      <td>NaN</td>\n",
       "      <td>NaN</td>\n",
       "      <td>NaN</td>\n",
       "      <td>NaN</td>\n",
       "      <td>NaN</td>\n",
       "      <td>NaN</td>\n",
       "      <td>NaN</td>\n",
       "      <td>NaN</td>\n",
       "      <td>NaN</td>\n",
       "      <td>NaN</td>\n",
       "    </tr>\n",
       "    <tr>\n",
       "      <th>5241</th>\n",
       "      <td>5242</td>\n",
       "      <td>90341795</td>\n",
       "      <td>108107.0</td>\n",
       "      <td>Inactive</td>\n",
       "      <td>0</td>\n",
       "      <td>http://assay.nih.gov/htsws/rest/display/p450-i...</td>\n",
       "      <td>NaN</td>\n",
       "      <td>Activator</td>\n",
       "      <td>30.1116</td>\n",
       "      <td>70.1788</td>\n",
       "      <td>...</td>\n",
       "      <td>NaN</td>\n",
       "      <td>NaN</td>\n",
       "      <td>NaN</td>\n",
       "      <td>NaN</td>\n",
       "      <td>NaN</td>\n",
       "      <td>NaN</td>\n",
       "      <td>NaN</td>\n",
       "      <td>NaN</td>\n",
       "      <td>NaN</td>\n",
       "      <td>NaN</td>\n",
       "    </tr>\n",
       "  </tbody>\n",
       "</table>\n",
       "<p>5242 rows × 203 columns</p>\n",
       "</div>"
      ],
      "text/plain": [
       "      PUBCHEM_RESULT_TAG  PUBCHEM_SID  PUBCHEM_CID PUBCHEM_ACTIVITY_OUTCOME  \\\n",
       "0                      1    104223880     197033.0                   Active   \n",
       "1                      2     11111456    5281670.0                 Inactive   \n",
       "2                      3     11113977    6604832.0             Inconclusive   \n",
       "3                      4    124879150    5280443.0                   Active   \n",
       "4                      5    124879975        836.0                   Active   \n",
       "...                  ...          ...          ...                      ...   \n",
       "5237                5238     90341041   11957637.0                 Inactive   \n",
       "5238                5239     90341069       4906.0                 Inactive   \n",
       "5239                5240     90341160       5593.0                   Active   \n",
       "5240                5241     90341654       2968.0             Inconclusive   \n",
       "5241                5242     90341795     108107.0                 Inactive   \n",
       "\n",
       "      PUBCHEM_ACTIVITY_SCORE  \\\n",
       "0                         43   \n",
       "1                          0   \n",
       "2                         10   \n",
       "3                         84   \n",
       "4                         63   \n",
       "...                      ...   \n",
       "5237                       0   \n",
       "5238                       0   \n",
       "5239                      42   \n",
       "5240                      10   \n",
       "5241                       0   \n",
       "\n",
       "                                   PUBCHEM_ACTIVITY_URL  \\\n",
       "0     http://assay.nih.gov/htsws/rest/display/p450-i...   \n",
       "1     http://assay.nih.gov/htsws/rest/display/p450-i...   \n",
       "2     http://assay.nih.gov/htsws/rest/display/p450-i...   \n",
       "3     http://assay.nih.gov/htsws/rest/display/p450-i...   \n",
       "4     http://assay.nih.gov/htsws/rest/display/p450-i...   \n",
       "...                                                 ...   \n",
       "5237  http://assay.nih.gov/htsws/rest/display/p450-i...   \n",
       "5238  http://assay.nih.gov/htsws/rest/display/p450-i...   \n",
       "5239  http://assay.nih.gov/htsws/rest/display/p450-i...   \n",
       "5240  http://assay.nih.gov/htsws/rest/display/p450-i...   \n",
       "5241  http://assay.nih.gov/htsws/rest/display/p450-i...   \n",
       "\n",
       "      PUBCHEM_ASSAYDATA_COMMENT Phenotype-Replicate_1  Potency-Replicate_1  \\\n",
       "0                           NaN             Inhibitor              10.6840   \n",
       "1                           NaN              Inactive                  NaN   \n",
       "2                           NaN             Inhibitor              37.9083   \n",
       "3                           NaN             Inhibitor               6.0081   \n",
       "4                           NaN             Inhibitor               3.0112   \n",
       "...                         ...                   ...                  ...   \n",
       "5237                        NaN              Inactive                  NaN   \n",
       "5238                        NaN              Inactive                  NaN   \n",
       "5239                        NaN             Inhibitor              10.6840   \n",
       "5240                        NaN             Inhibitor               1.3450   \n",
       "5241                        NaN             Activator              30.1116   \n",
       "\n",
       "      Efficacy-Replicate_1  ...  Activity at 0.910 uM-Replicate_5  \\\n",
       "0                 136.1930  ...                               NaN   \n",
       "1                      NaN  ...                               NaN   \n",
       "2                 105.9830  ...                               NaN   \n",
       "3                 112.7240  ...                               NaN   \n",
       "4                  57.7747  ...                               NaN   \n",
       "...                    ...  ...                               ...   \n",
       "5237                   NaN  ...                               NaN   \n",
       "5238                   NaN  ...                               NaN   \n",
       "5239              100.9580  ...                               NaN   \n",
       "5240               68.4438  ...                               NaN   \n",
       "5241               70.1788  ...                               NaN   \n",
       "\n",
       "      Activity at 1.182 uM-Replicate_5 Activity at 2.302 uM-Replicate_5  \\\n",
       "0                                  NaN                              NaN   \n",
       "1                                  NaN                              NaN   \n",
       "2                                  NaN                              NaN   \n",
       "3                                  NaN                              NaN   \n",
       "4                                  NaN                              NaN   \n",
       "...                                ...                              ...   \n",
       "5237                               NaN                              NaN   \n",
       "5238                               NaN                              NaN   \n",
       "5239                               NaN                              NaN   \n",
       "5240                               NaN                              NaN   \n",
       "5241                               NaN                              NaN   \n",
       "\n",
       "      Activity at 4.834 uM-Replicate_5  Activity at 11.49 uM-Replicate_5  \\\n",
       "0                                  NaN                               NaN   \n",
       "1                                  NaN                               NaN   \n",
       "2                                  NaN                               NaN   \n",
       "3                                  NaN                               NaN   \n",
       "4                                  NaN                               NaN   \n",
       "...                                ...                               ...   \n",
       "5237                               NaN                               NaN   \n",
       "5238                               NaN                               NaN   \n",
       "5239                               NaN                               NaN   \n",
       "5240                               NaN                               NaN   \n",
       "5241                               NaN                               NaN   \n",
       "\n",
       "      Activity at 23.94 uM-Replicate_5  Activity at 57.45 uM-Replicate_5  \\\n",
       "0                                  NaN                               NaN   \n",
       "1                                  NaN                               NaN   \n",
       "2                                  NaN                               NaN   \n",
       "3                                  NaN                               NaN   \n",
       "4                                  NaN                               NaN   \n",
       "...                                ...                               ...   \n",
       "5237                               NaN                               NaN   \n",
       "5238                               NaN                               NaN   \n",
       "5239                               NaN                               NaN   \n",
       "5240                               NaN                               NaN   \n",
       "5241                               NaN                               NaN   \n",
       "\n",
       "      Activity at 115.4 uM-Replicate_5  Activity at 193.5 uM-Replicate_5  \\\n",
       "0                                  NaN                               NaN   \n",
       "1                                  NaN                               NaN   \n",
       "2                                  NaN                               NaN   \n",
       "3                                  NaN                               NaN   \n",
       "4                                  NaN                               NaN   \n",
       "...                                ...                               ...   \n",
       "5237                               NaN                               NaN   \n",
       "5238                               NaN                               NaN   \n",
       "5239                               NaN                               NaN   \n",
       "5240                               NaN                               NaN   \n",
       "5241                               NaN                               NaN   \n",
       "\n",
       "     Activity at 288.3 uM-Replicate_5  \n",
       "0                                 NaN  \n",
       "1                                 NaN  \n",
       "2                                 NaN  \n",
       "3                                 NaN  \n",
       "4                                 NaN  \n",
       "...                               ...  \n",
       "5237                              NaN  \n",
       "5238                              NaN  \n",
       "5239                              NaN  \n",
       "5240                              NaN  \n",
       "5241                              NaN  \n",
       "\n",
       "[5242 rows x 203 columns]"
      ]
     },
     "execution_count": 4,
     "metadata": {},
     "output_type": "execute_result"
    }
   ],
   "source": [
    "df"
   ]
  },
  {
   "cell_type": "markdown",
   "id": "automated-produce",
   "metadata": {},
   "source": [
    "Note that the data file doesn't have chemical structures as SMILES strings.  We're going to add those using the pubchempy library, which can look up the chemical structure based on the **PUBCHEM_CID** field in our dataframe. This is great, but the pubchempy service will have problems if we pass it a null value.  Let's check and see if we have any null values in our **PUBCHEM_CID** column. "
   ]
  },
  {
   "cell_type": "code",
   "execution_count": 5,
   "id": "mobile-attachment",
   "metadata": {},
   "outputs": [
    {
     "data": {
      "text/plain": [
       "4"
      ]
     },
     "execution_count": 5,
     "metadata": {},
     "output_type": "execute_result"
    }
   ],
   "source": [
    "sum(df.PUBCHEM_CID.isna())"
   ]
  },
  {
   "cell_type": "markdown",
   "id": "perfect-strip",
   "metadata": {},
   "source": [
    "We have four null values.  Let's get rid of the rows where **PUBCHEM_CID** is null. "
   ]
  },
  {
   "cell_type": "code",
   "execution_count": 6,
   "id": "fifty-google",
   "metadata": {},
   "outputs": [
    {
     "data": {
      "text/html": [
       "<div>\n",
       "<style scoped>\n",
       "    .dataframe tbody tr th:only-of-type {\n",
       "        vertical-align: middle;\n",
       "    }\n",
       "\n",
       "    .dataframe tbody tr th {\n",
       "        vertical-align: top;\n",
       "    }\n",
       "\n",
       "    .dataframe thead th {\n",
       "        text-align: right;\n",
       "    }\n",
       "</style>\n",
       "<table border=\"1\" class=\"dataframe\">\n",
       "  <thead>\n",
       "    <tr style=\"text-align: right;\">\n",
       "      <th></th>\n",
       "      <th>PUBCHEM_RESULT_TAG</th>\n",
       "      <th>PUBCHEM_SID</th>\n",
       "      <th>PUBCHEM_CID</th>\n",
       "      <th>PUBCHEM_ACTIVITY_OUTCOME</th>\n",
       "      <th>PUBCHEM_ACTIVITY_SCORE</th>\n",
       "      <th>PUBCHEM_ACTIVITY_URL</th>\n",
       "      <th>PUBCHEM_ASSAYDATA_COMMENT</th>\n",
       "      <th>Phenotype-Replicate_1</th>\n",
       "      <th>Potency-Replicate_1</th>\n",
       "      <th>Efficacy-Replicate_1</th>\n",
       "      <th>...</th>\n",
       "      <th>Activity at 0.910 uM-Replicate_5</th>\n",
       "      <th>Activity at 1.182 uM-Replicate_5</th>\n",
       "      <th>Activity at 2.302 uM-Replicate_5</th>\n",
       "      <th>Activity at 4.834 uM-Replicate_5</th>\n",
       "      <th>Activity at 11.49 uM-Replicate_5</th>\n",
       "      <th>Activity at 23.94 uM-Replicate_5</th>\n",
       "      <th>Activity at 57.45 uM-Replicate_5</th>\n",
       "      <th>Activity at 115.4 uM-Replicate_5</th>\n",
       "      <th>Activity at 193.5 uM-Replicate_5</th>\n",
       "      <th>Activity at 288.3 uM-Replicate_5</th>\n",
       "    </tr>\n",
       "  </thead>\n",
       "  <tbody>\n",
       "    <tr>\n",
       "      <th>173</th>\n",
       "      <td>174</td>\n",
       "      <td>144206496</td>\n",
       "      <td>NaN</td>\n",
       "      <td>Inactive</td>\n",
       "      <td>0</td>\n",
       "      <td>http://assay.nih.gov/htsws/rest/display/p450-i...</td>\n",
       "      <td>NaN</td>\n",
       "      <td>Inactive</td>\n",
       "      <td>NaN</td>\n",
       "      <td>NaN</td>\n",
       "      <td>...</td>\n",
       "      <td>NaN</td>\n",
       "      <td>NaN</td>\n",
       "      <td>NaN</td>\n",
       "      <td>NaN</td>\n",
       "      <td>NaN</td>\n",
       "      <td>NaN</td>\n",
       "      <td>NaN</td>\n",
       "      <td>NaN</td>\n",
       "      <td>NaN</td>\n",
       "      <td>NaN</td>\n",
       "    </tr>\n",
       "    <tr>\n",
       "      <th>1498</th>\n",
       "      <td>1499</td>\n",
       "      <td>170465762</td>\n",
       "      <td>NaN</td>\n",
       "      <td>Inactive</td>\n",
       "      <td>0</td>\n",
       "      <td>http://assay.nih.gov/htsws/rest/display/p450-i...</td>\n",
       "      <td>NaN</td>\n",
       "      <td>Inactive</td>\n",
       "      <td>NaN</td>\n",
       "      <td>NaN</td>\n",
       "      <td>...</td>\n",
       "      <td>NaN</td>\n",
       "      <td>NaN</td>\n",
       "      <td>NaN</td>\n",
       "      <td>NaN</td>\n",
       "      <td>NaN</td>\n",
       "      <td>NaN</td>\n",
       "      <td>NaN</td>\n",
       "      <td>NaN</td>\n",
       "      <td>NaN</td>\n",
       "      <td>NaN</td>\n",
       "    </tr>\n",
       "    <tr>\n",
       "      <th>2611</th>\n",
       "      <td>2612</td>\n",
       "      <td>170466890</td>\n",
       "      <td>NaN</td>\n",
       "      <td>Inactive</td>\n",
       "      <td>0</td>\n",
       "      <td>http://assay.nih.gov/htsws/rest/display/p450-i...</td>\n",
       "      <td>NaN</td>\n",
       "      <td>Inactive</td>\n",
       "      <td>NaN</td>\n",
       "      <td>NaN</td>\n",
       "      <td>...</td>\n",
       "      <td>NaN</td>\n",
       "      <td>NaN</td>\n",
       "      <td>NaN</td>\n",
       "      <td>NaN</td>\n",
       "      <td>NaN</td>\n",
       "      <td>NaN</td>\n",
       "      <td>NaN</td>\n",
       "      <td>NaN</td>\n",
       "      <td>NaN</td>\n",
       "      <td>NaN</td>\n",
       "    </tr>\n",
       "    <tr>\n",
       "      <th>2886</th>\n",
       "      <td>2887</td>\n",
       "      <td>225144377</td>\n",
       "      <td>NaN</td>\n",
       "      <td>Inactive</td>\n",
       "      <td>0</td>\n",
       "      <td>http://assay.nih.gov/htsws/rest/display/p450-i...</td>\n",
       "      <td>NaN</td>\n",
       "      <td>Inactive</td>\n",
       "      <td>NaN</td>\n",
       "      <td>NaN</td>\n",
       "      <td>...</td>\n",
       "      <td>NaN</td>\n",
       "      <td>NaN</td>\n",
       "      <td>NaN</td>\n",
       "      <td>NaN</td>\n",
       "      <td>NaN</td>\n",
       "      <td>NaN</td>\n",
       "      <td>NaN</td>\n",
       "      <td>NaN</td>\n",
       "      <td>NaN</td>\n",
       "      <td>NaN</td>\n",
       "    </tr>\n",
       "  </tbody>\n",
       "</table>\n",
       "<p>4 rows × 203 columns</p>\n",
       "</div>"
      ],
      "text/plain": [
       "      PUBCHEM_RESULT_TAG  PUBCHEM_SID  PUBCHEM_CID PUBCHEM_ACTIVITY_OUTCOME  \\\n",
       "173                  174    144206496          NaN                 Inactive   \n",
       "1498                1499    170465762          NaN                 Inactive   \n",
       "2611                2612    170466890          NaN                 Inactive   \n",
       "2886                2887    225144377          NaN                 Inactive   \n",
       "\n",
       "      PUBCHEM_ACTIVITY_SCORE  \\\n",
       "173                        0   \n",
       "1498                       0   \n",
       "2611                       0   \n",
       "2886                       0   \n",
       "\n",
       "                                   PUBCHEM_ACTIVITY_URL  \\\n",
       "173   http://assay.nih.gov/htsws/rest/display/p450-i...   \n",
       "1498  http://assay.nih.gov/htsws/rest/display/p450-i...   \n",
       "2611  http://assay.nih.gov/htsws/rest/display/p450-i...   \n",
       "2886  http://assay.nih.gov/htsws/rest/display/p450-i...   \n",
       "\n",
       "      PUBCHEM_ASSAYDATA_COMMENT Phenotype-Replicate_1  Potency-Replicate_1  \\\n",
       "173                         NaN              Inactive                  NaN   \n",
       "1498                        NaN              Inactive                  NaN   \n",
       "2611                        NaN              Inactive                  NaN   \n",
       "2886                        NaN              Inactive                  NaN   \n",
       "\n",
       "      Efficacy-Replicate_1  ...  Activity at 0.910 uM-Replicate_5  \\\n",
       "173                    NaN  ...                               NaN   \n",
       "1498                   NaN  ...                               NaN   \n",
       "2611                   NaN  ...                               NaN   \n",
       "2886                   NaN  ...                               NaN   \n",
       "\n",
       "      Activity at 1.182 uM-Replicate_5 Activity at 2.302 uM-Replicate_5  \\\n",
       "173                                NaN                              NaN   \n",
       "1498                               NaN                              NaN   \n",
       "2611                               NaN                              NaN   \n",
       "2886                               NaN                              NaN   \n",
       "\n",
       "      Activity at 4.834 uM-Replicate_5  Activity at 11.49 uM-Replicate_5  \\\n",
       "173                                NaN                               NaN   \n",
       "1498                               NaN                               NaN   \n",
       "2611                               NaN                               NaN   \n",
       "2886                               NaN                               NaN   \n",
       "\n",
       "      Activity at 23.94 uM-Replicate_5  Activity at 57.45 uM-Replicate_5  \\\n",
       "173                                NaN                               NaN   \n",
       "1498                               NaN                               NaN   \n",
       "2611                               NaN                               NaN   \n",
       "2886                               NaN                               NaN   \n",
       "\n",
       "      Activity at 115.4 uM-Replicate_5  Activity at 193.5 uM-Replicate_5  \\\n",
       "173                                NaN                               NaN   \n",
       "1498                               NaN                               NaN   \n",
       "2611                               NaN                               NaN   \n",
       "2886                               NaN                               NaN   \n",
       "\n",
       "     Activity at 288.3 uM-Replicate_5  \n",
       "173                               NaN  \n",
       "1498                              NaN  \n",
       "2611                              NaN  \n",
       "2886                              NaN  \n",
       "\n",
       "[4 rows x 203 columns]"
      ]
     },
     "execution_count": 6,
     "metadata": {},
     "output_type": "execute_result"
    }
   ],
   "source": [
    "df[df.PUBCHEM_CID.isna()]"
   ]
  },
  {
   "cell_type": "markdown",
   "id": "printable-rendering",
   "metadata": {},
   "source": [
    "We can drop the four rows where **PUBCHEM_CID** is null. "
   ]
  },
  {
   "cell_type": "code",
   "execution_count": 7,
   "id": "willing-connection",
   "metadata": {},
   "outputs": [],
   "source": [
    "df.dropna(subset=[\"PUBCHEM_CID\"],inplace=True)"
   ]
  },
  {
   "cell_type": "code",
   "execution_count": 8,
   "id": "confident-convert",
   "metadata": {},
   "outputs": [
    {
     "data": {
      "text/html": [
       "<div>\n",
       "<style scoped>\n",
       "    .dataframe tbody tr th:only-of-type {\n",
       "        vertical-align: middle;\n",
       "    }\n",
       "\n",
       "    .dataframe tbody tr th {\n",
       "        vertical-align: top;\n",
       "    }\n",
       "\n",
       "    .dataframe thead th {\n",
       "        text-align: right;\n",
       "    }\n",
       "</style>\n",
       "<table border=\"1\" class=\"dataframe\">\n",
       "  <thead>\n",
       "    <tr style=\"text-align: right;\">\n",
       "      <th></th>\n",
       "      <th>PUBCHEM_RESULT_TAG</th>\n",
       "      <th>PUBCHEM_SID</th>\n",
       "      <th>PUBCHEM_CID</th>\n",
       "      <th>PUBCHEM_ACTIVITY_OUTCOME</th>\n",
       "      <th>PUBCHEM_ACTIVITY_SCORE</th>\n",
       "      <th>PUBCHEM_ACTIVITY_URL</th>\n",
       "      <th>PUBCHEM_ASSAYDATA_COMMENT</th>\n",
       "      <th>Phenotype-Replicate_1</th>\n",
       "      <th>Potency-Replicate_1</th>\n",
       "      <th>Efficacy-Replicate_1</th>\n",
       "      <th>...</th>\n",
       "      <th>Activity at 0.910 uM-Replicate_5</th>\n",
       "      <th>Activity at 1.182 uM-Replicate_5</th>\n",
       "      <th>Activity at 2.302 uM-Replicate_5</th>\n",
       "      <th>Activity at 4.834 uM-Replicate_5</th>\n",
       "      <th>Activity at 11.49 uM-Replicate_5</th>\n",
       "      <th>Activity at 23.94 uM-Replicate_5</th>\n",
       "      <th>Activity at 57.45 uM-Replicate_5</th>\n",
       "      <th>Activity at 115.4 uM-Replicate_5</th>\n",
       "      <th>Activity at 193.5 uM-Replicate_5</th>\n",
       "      <th>Activity at 288.3 uM-Replicate_5</th>\n",
       "    </tr>\n",
       "  </thead>\n",
       "  <tbody>\n",
       "    <tr>\n",
       "      <th>0</th>\n",
       "      <td>1</td>\n",
       "      <td>104223880</td>\n",
       "      <td>197033.0</td>\n",
       "      <td>Active</td>\n",
       "      <td>43</td>\n",
       "      <td>http://assay.nih.gov/htsws/rest/display/p450-i...</td>\n",
       "      <td>NaN</td>\n",
       "      <td>Inhibitor</td>\n",
       "      <td>10.6840</td>\n",
       "      <td>136.1930</td>\n",
       "      <td>...</td>\n",
       "      <td>NaN</td>\n",
       "      <td>NaN</td>\n",
       "      <td>NaN</td>\n",
       "      <td>NaN</td>\n",
       "      <td>NaN</td>\n",
       "      <td>NaN</td>\n",
       "      <td>NaN</td>\n",
       "      <td>NaN</td>\n",
       "      <td>NaN</td>\n",
       "      <td>NaN</td>\n",
       "    </tr>\n",
       "    <tr>\n",
       "      <th>1</th>\n",
       "      <td>2</td>\n",
       "      <td>11111456</td>\n",
       "      <td>5281670.0</td>\n",
       "      <td>Inactive</td>\n",
       "      <td>0</td>\n",
       "      <td>http://assay.nih.gov/htsws/rest/display/p450-i...</td>\n",
       "      <td>NaN</td>\n",
       "      <td>Inactive</td>\n",
       "      <td>NaN</td>\n",
       "      <td>NaN</td>\n",
       "      <td>...</td>\n",
       "      <td>NaN</td>\n",
       "      <td>NaN</td>\n",
       "      <td>NaN</td>\n",
       "      <td>NaN</td>\n",
       "      <td>NaN</td>\n",
       "      <td>NaN</td>\n",
       "      <td>NaN</td>\n",
       "      <td>NaN</td>\n",
       "      <td>NaN</td>\n",
       "      <td>NaN</td>\n",
       "    </tr>\n",
       "    <tr>\n",
       "      <th>2</th>\n",
       "      <td>3</td>\n",
       "      <td>11113977</td>\n",
       "      <td>6604832.0</td>\n",
       "      <td>Inconclusive</td>\n",
       "      <td>10</td>\n",
       "      <td>http://assay.nih.gov/htsws/rest/display/p450-i...</td>\n",
       "      <td>NaN</td>\n",
       "      <td>Inhibitor</td>\n",
       "      <td>37.9083</td>\n",
       "      <td>105.9830</td>\n",
       "      <td>...</td>\n",
       "      <td>NaN</td>\n",
       "      <td>NaN</td>\n",
       "      <td>NaN</td>\n",
       "      <td>NaN</td>\n",
       "      <td>NaN</td>\n",
       "      <td>NaN</td>\n",
       "      <td>NaN</td>\n",
       "      <td>NaN</td>\n",
       "      <td>NaN</td>\n",
       "      <td>NaN</td>\n",
       "    </tr>\n",
       "    <tr>\n",
       "      <th>3</th>\n",
       "      <td>4</td>\n",
       "      <td>124879150</td>\n",
       "      <td>5280443.0</td>\n",
       "      <td>Active</td>\n",
       "      <td>84</td>\n",
       "      <td>http://assay.nih.gov/htsws/rest/display/p450-i...</td>\n",
       "      <td>NaN</td>\n",
       "      <td>Inhibitor</td>\n",
       "      <td>6.0081</td>\n",
       "      <td>112.7240</td>\n",
       "      <td>...</td>\n",
       "      <td>NaN</td>\n",
       "      <td>NaN</td>\n",
       "      <td>NaN</td>\n",
       "      <td>NaN</td>\n",
       "      <td>NaN</td>\n",
       "      <td>NaN</td>\n",
       "      <td>NaN</td>\n",
       "      <td>NaN</td>\n",
       "      <td>NaN</td>\n",
       "      <td>NaN</td>\n",
       "    </tr>\n",
       "    <tr>\n",
       "      <th>4</th>\n",
       "      <td>5</td>\n",
       "      <td>124879975</td>\n",
       "      <td>836.0</td>\n",
       "      <td>Active</td>\n",
       "      <td>63</td>\n",
       "      <td>http://assay.nih.gov/htsws/rest/display/p450-i...</td>\n",
       "      <td>NaN</td>\n",
       "      <td>Inhibitor</td>\n",
       "      <td>3.0112</td>\n",
       "      <td>57.7747</td>\n",
       "      <td>...</td>\n",
       "      <td>NaN</td>\n",
       "      <td>NaN</td>\n",
       "      <td>NaN</td>\n",
       "      <td>NaN</td>\n",
       "      <td>NaN</td>\n",
       "      <td>NaN</td>\n",
       "      <td>NaN</td>\n",
       "      <td>NaN</td>\n",
       "      <td>NaN</td>\n",
       "      <td>NaN</td>\n",
       "    </tr>\n",
       "    <tr>\n",
       "      <th>...</th>\n",
       "      <td>...</td>\n",
       "      <td>...</td>\n",
       "      <td>...</td>\n",
       "      <td>...</td>\n",
       "      <td>...</td>\n",
       "      <td>...</td>\n",
       "      <td>...</td>\n",
       "      <td>...</td>\n",
       "      <td>...</td>\n",
       "      <td>...</td>\n",
       "      <td>...</td>\n",
       "      <td>...</td>\n",
       "      <td>...</td>\n",
       "      <td>...</td>\n",
       "      <td>...</td>\n",
       "      <td>...</td>\n",
       "      <td>...</td>\n",
       "      <td>...</td>\n",
       "      <td>...</td>\n",
       "      <td>...</td>\n",
       "      <td>...</td>\n",
       "    </tr>\n",
       "    <tr>\n",
       "      <th>5237</th>\n",
       "      <td>5238</td>\n",
       "      <td>90341041</td>\n",
       "      <td>11957637.0</td>\n",
       "      <td>Inactive</td>\n",
       "      <td>0</td>\n",
       "      <td>http://assay.nih.gov/htsws/rest/display/p450-i...</td>\n",
       "      <td>NaN</td>\n",
       "      <td>Inactive</td>\n",
       "      <td>NaN</td>\n",
       "      <td>NaN</td>\n",
       "      <td>...</td>\n",
       "      <td>NaN</td>\n",
       "      <td>NaN</td>\n",
       "      <td>NaN</td>\n",
       "      <td>NaN</td>\n",
       "      <td>NaN</td>\n",
       "      <td>NaN</td>\n",
       "      <td>NaN</td>\n",
       "      <td>NaN</td>\n",
       "      <td>NaN</td>\n",
       "      <td>NaN</td>\n",
       "    </tr>\n",
       "    <tr>\n",
       "      <th>5238</th>\n",
       "      <td>5239</td>\n",
       "      <td>90341069</td>\n",
       "      <td>4906.0</td>\n",
       "      <td>Inactive</td>\n",
       "      <td>0</td>\n",
       "      <td>http://assay.nih.gov/htsws/rest/display/p450-i...</td>\n",
       "      <td>NaN</td>\n",
       "      <td>Inactive</td>\n",
       "      <td>NaN</td>\n",
       "      <td>NaN</td>\n",
       "      <td>...</td>\n",
       "      <td>NaN</td>\n",
       "      <td>NaN</td>\n",
       "      <td>NaN</td>\n",
       "      <td>NaN</td>\n",
       "      <td>NaN</td>\n",
       "      <td>NaN</td>\n",
       "      <td>NaN</td>\n",
       "      <td>NaN</td>\n",
       "      <td>NaN</td>\n",
       "      <td>NaN</td>\n",
       "    </tr>\n",
       "    <tr>\n",
       "      <th>5239</th>\n",
       "      <td>5240</td>\n",
       "      <td>90341160</td>\n",
       "      <td>5593.0</td>\n",
       "      <td>Active</td>\n",
       "      <td>42</td>\n",
       "      <td>http://assay.nih.gov/htsws/rest/display/p450-i...</td>\n",
       "      <td>NaN</td>\n",
       "      <td>Inhibitor</td>\n",
       "      <td>10.6840</td>\n",
       "      <td>100.9580</td>\n",
       "      <td>...</td>\n",
       "      <td>NaN</td>\n",
       "      <td>NaN</td>\n",
       "      <td>NaN</td>\n",
       "      <td>NaN</td>\n",
       "      <td>NaN</td>\n",
       "      <td>NaN</td>\n",
       "      <td>NaN</td>\n",
       "      <td>NaN</td>\n",
       "      <td>NaN</td>\n",
       "      <td>NaN</td>\n",
       "    </tr>\n",
       "    <tr>\n",
       "      <th>5240</th>\n",
       "      <td>5241</td>\n",
       "      <td>90341654</td>\n",
       "      <td>2968.0</td>\n",
       "      <td>Inconclusive</td>\n",
       "      <td>10</td>\n",
       "      <td>http://assay.nih.gov/htsws/rest/display/p450-i...</td>\n",
       "      <td>NaN</td>\n",
       "      <td>Inhibitor</td>\n",
       "      <td>1.3450</td>\n",
       "      <td>68.4438</td>\n",
       "      <td>...</td>\n",
       "      <td>NaN</td>\n",
       "      <td>NaN</td>\n",
       "      <td>NaN</td>\n",
       "      <td>NaN</td>\n",
       "      <td>NaN</td>\n",
       "      <td>NaN</td>\n",
       "      <td>NaN</td>\n",
       "      <td>NaN</td>\n",
       "      <td>NaN</td>\n",
       "      <td>NaN</td>\n",
       "    </tr>\n",
       "    <tr>\n",
       "      <th>5241</th>\n",
       "      <td>5242</td>\n",
       "      <td>90341795</td>\n",
       "      <td>108107.0</td>\n",
       "      <td>Inactive</td>\n",
       "      <td>0</td>\n",
       "      <td>http://assay.nih.gov/htsws/rest/display/p450-i...</td>\n",
       "      <td>NaN</td>\n",
       "      <td>Activator</td>\n",
       "      <td>30.1116</td>\n",
       "      <td>70.1788</td>\n",
       "      <td>...</td>\n",
       "      <td>NaN</td>\n",
       "      <td>NaN</td>\n",
       "      <td>NaN</td>\n",
       "      <td>NaN</td>\n",
       "      <td>NaN</td>\n",
       "      <td>NaN</td>\n",
       "      <td>NaN</td>\n",
       "      <td>NaN</td>\n",
       "      <td>NaN</td>\n",
       "      <td>NaN</td>\n",
       "    </tr>\n",
       "  </tbody>\n",
       "</table>\n",
       "<p>5238 rows × 203 columns</p>\n",
       "</div>"
      ],
      "text/plain": [
       "      PUBCHEM_RESULT_TAG  PUBCHEM_SID  PUBCHEM_CID PUBCHEM_ACTIVITY_OUTCOME  \\\n",
       "0                      1    104223880     197033.0                   Active   \n",
       "1                      2     11111456    5281670.0                 Inactive   \n",
       "2                      3     11113977    6604832.0             Inconclusive   \n",
       "3                      4    124879150    5280443.0                   Active   \n",
       "4                      5    124879975        836.0                   Active   \n",
       "...                  ...          ...          ...                      ...   \n",
       "5237                5238     90341041   11957637.0                 Inactive   \n",
       "5238                5239     90341069       4906.0                 Inactive   \n",
       "5239                5240     90341160       5593.0                   Active   \n",
       "5240                5241     90341654       2968.0             Inconclusive   \n",
       "5241                5242     90341795     108107.0                 Inactive   \n",
       "\n",
       "      PUBCHEM_ACTIVITY_SCORE  \\\n",
       "0                         43   \n",
       "1                          0   \n",
       "2                         10   \n",
       "3                         84   \n",
       "4                         63   \n",
       "...                      ...   \n",
       "5237                       0   \n",
       "5238                       0   \n",
       "5239                      42   \n",
       "5240                      10   \n",
       "5241                       0   \n",
       "\n",
       "                                   PUBCHEM_ACTIVITY_URL  \\\n",
       "0     http://assay.nih.gov/htsws/rest/display/p450-i...   \n",
       "1     http://assay.nih.gov/htsws/rest/display/p450-i...   \n",
       "2     http://assay.nih.gov/htsws/rest/display/p450-i...   \n",
       "3     http://assay.nih.gov/htsws/rest/display/p450-i...   \n",
       "4     http://assay.nih.gov/htsws/rest/display/p450-i...   \n",
       "...                                                 ...   \n",
       "5237  http://assay.nih.gov/htsws/rest/display/p450-i...   \n",
       "5238  http://assay.nih.gov/htsws/rest/display/p450-i...   \n",
       "5239  http://assay.nih.gov/htsws/rest/display/p450-i...   \n",
       "5240  http://assay.nih.gov/htsws/rest/display/p450-i...   \n",
       "5241  http://assay.nih.gov/htsws/rest/display/p450-i...   \n",
       "\n",
       "      PUBCHEM_ASSAYDATA_COMMENT Phenotype-Replicate_1  Potency-Replicate_1  \\\n",
       "0                           NaN             Inhibitor              10.6840   \n",
       "1                           NaN              Inactive                  NaN   \n",
       "2                           NaN             Inhibitor              37.9083   \n",
       "3                           NaN             Inhibitor               6.0081   \n",
       "4                           NaN             Inhibitor               3.0112   \n",
       "...                         ...                   ...                  ...   \n",
       "5237                        NaN              Inactive                  NaN   \n",
       "5238                        NaN              Inactive                  NaN   \n",
       "5239                        NaN             Inhibitor              10.6840   \n",
       "5240                        NaN             Inhibitor               1.3450   \n",
       "5241                        NaN             Activator              30.1116   \n",
       "\n",
       "      Efficacy-Replicate_1  ...  Activity at 0.910 uM-Replicate_5  \\\n",
       "0                 136.1930  ...                               NaN   \n",
       "1                      NaN  ...                               NaN   \n",
       "2                 105.9830  ...                               NaN   \n",
       "3                 112.7240  ...                               NaN   \n",
       "4                  57.7747  ...                               NaN   \n",
       "...                    ...  ...                               ...   \n",
       "5237                   NaN  ...                               NaN   \n",
       "5238                   NaN  ...                               NaN   \n",
       "5239              100.9580  ...                               NaN   \n",
       "5240               68.4438  ...                               NaN   \n",
       "5241               70.1788  ...                               NaN   \n",
       "\n",
       "      Activity at 1.182 uM-Replicate_5 Activity at 2.302 uM-Replicate_5  \\\n",
       "0                                  NaN                              NaN   \n",
       "1                                  NaN                              NaN   \n",
       "2                                  NaN                              NaN   \n",
       "3                                  NaN                              NaN   \n",
       "4                                  NaN                              NaN   \n",
       "...                                ...                              ...   \n",
       "5237                               NaN                              NaN   \n",
       "5238                               NaN                              NaN   \n",
       "5239                               NaN                              NaN   \n",
       "5240                               NaN                              NaN   \n",
       "5241                               NaN                              NaN   \n",
       "\n",
       "      Activity at 4.834 uM-Replicate_5  Activity at 11.49 uM-Replicate_5  \\\n",
       "0                                  NaN                               NaN   \n",
       "1                                  NaN                               NaN   \n",
       "2                                  NaN                               NaN   \n",
       "3                                  NaN                               NaN   \n",
       "4                                  NaN                               NaN   \n",
       "...                                ...                               ...   \n",
       "5237                               NaN                               NaN   \n",
       "5238                               NaN                               NaN   \n",
       "5239                               NaN                               NaN   \n",
       "5240                               NaN                               NaN   \n",
       "5241                               NaN                               NaN   \n",
       "\n",
       "      Activity at 23.94 uM-Replicate_5  Activity at 57.45 uM-Replicate_5  \\\n",
       "0                                  NaN                               NaN   \n",
       "1                                  NaN                               NaN   \n",
       "2                                  NaN                               NaN   \n",
       "3                                  NaN                               NaN   \n",
       "4                                  NaN                               NaN   \n",
       "...                                ...                               ...   \n",
       "5237                               NaN                               NaN   \n",
       "5238                               NaN                               NaN   \n",
       "5239                               NaN                               NaN   \n",
       "5240                               NaN                               NaN   \n",
       "5241                               NaN                               NaN   \n",
       "\n",
       "      Activity at 115.4 uM-Replicate_5  Activity at 193.5 uM-Replicate_5  \\\n",
       "0                                  NaN                               NaN   \n",
       "1                                  NaN                               NaN   \n",
       "2                                  NaN                               NaN   \n",
       "3                                  NaN                               NaN   \n",
       "4                                  NaN                               NaN   \n",
       "...                                ...                               ...   \n",
       "5237                               NaN                               NaN   \n",
       "5238                               NaN                               NaN   \n",
       "5239                               NaN                               NaN   \n",
       "5240                               NaN                               NaN   \n",
       "5241                               NaN                               NaN   \n",
       "\n",
       "     Activity at 288.3 uM-Replicate_5  \n",
       "0                                 NaN  \n",
       "1                                 NaN  \n",
       "2                                 NaN  \n",
       "3                                 NaN  \n",
       "4                                 NaN  \n",
       "...                               ...  \n",
       "5237                              NaN  \n",
       "5238                              NaN  \n",
       "5239                              NaN  \n",
       "5240                              NaN  \n",
       "5241                              NaN  \n",
       "\n",
       "[5238 rows x 203 columns]"
      ]
     },
     "execution_count": 8,
     "metadata": {},
     "output_type": "execute_result"
    }
   ],
   "source": [
    "df"
   ]
  },
  {
   "cell_type": "markdown",
   "id": "known-compromise",
   "metadata": {},
   "source": [
    "In order to lookup a structure based on **PUBCHEM_CID** the **PUBCHEM_CID** field must be an integer. Let's take a look at the datatypes for our dataframe. "
   ]
  },
  {
   "cell_type": "code",
   "execution_count": 9,
   "id": "configured-music",
   "metadata": {},
   "outputs": [
    {
     "data": {
      "text/plain": [
       "PUBCHEM_RESULT_TAG                    int64\n",
       "PUBCHEM_SID                           int64\n",
       "PUBCHEM_CID                         float64\n",
       "PUBCHEM_ACTIVITY_OUTCOME             object\n",
       "PUBCHEM_ACTIVITY_SCORE                int64\n",
       "                                     ...   \n",
       "Activity at 23.94 uM-Replicate_5    float64\n",
       "Activity at 57.45 uM-Replicate_5    float64\n",
       "Activity at 115.4 uM-Replicate_5    float64\n",
       "Activity at 193.5 uM-Replicate_5    float64\n",
       "Activity at 288.3 uM-Replicate_5    float64\n",
       "Length: 203, dtype: object"
      ]
     },
     "execution_count": 9,
     "metadata": {},
     "output_type": "execute_result"
    }
   ],
   "source": [
    "df.dtypes"
   ]
  },
  {
   "cell_type": "markdown",
   "id": "social-medication",
   "metadata": {},
   "source": [
    "The **PUBCHEM_CID** field is a float64, which is not what we want.  Let's convert that column to an integer. "
   ]
  },
  {
   "cell_type": "code",
   "execution_count": 10,
   "id": "attempted-thickness",
   "metadata": {},
   "outputs": [],
   "source": [
    "df.PUBCHEM_CID = df.PUBCHEM_CID.astype(int)"
   ]
  },
  {
   "cell_type": "markdown",
   "id": "filled-moderator",
   "metadata": {},
   "source": [
    "The field we want to model is **Phenotype-Replicate_1** which takes one of three values.  Let's look at the possible values and their distribution.  We can see that the class **Activator** is somewhat underrepresented.  We'll start by building a model with the data as provided.  Once we've done this, we'll also take a look at whether we can improve our model by employing strategies to compensate for the data imbalance. "
   ]
  },
  {
   "cell_type": "code",
   "execution_count": 11,
   "id": "assured-strain",
   "metadata": {},
   "outputs": [
    {
     "data": {
      "text/plain": [
       "Inhibitor    0.580374\n",
       "Inactive     0.354716\n",
       "Activator    0.064910\n",
       "Name: Phenotype-Replicate_1, dtype: float64"
      ]
     },
     "execution_count": 11,
     "metadata": {},
     "output_type": "execute_result"
    }
   ],
   "source": [
    "df['Phenotype-Replicate_1'].value_counts(normalize=True)"
   ]
  },
  {
   "cell_type": "markdown",
   "id": "understanding-market",
   "metadata": {},
   "source": [
    "In order to build our model, we need the column were predicting to be represented as numeric values.  We can convert the text labels to numbers using the [LabelEncoder](https://scikit-learn.org/stable/modules/generated/sklearn.preprocessing.LabelEncoder.html) method from skikit-learn. "
   ]
  },
  {
   "cell_type": "code",
   "execution_count": 12,
   "id": "interested-richmond",
   "metadata": {},
   "outputs": [
    {
     "data": {
      "text/plain": [
       "['Inhibitor', 'Inactive', 'Activator']"
      ]
     },
     "execution_count": 12,
     "metadata": {},
     "output_type": "execute_result"
    }
   ],
   "source": [
    "labels = df['Phenotype-Replicate_1'].unique().tolist()\n",
    "labels"
   ]
  },
  {
   "cell_type": "code",
   "execution_count": 13,
   "id": "motivated-palace",
   "metadata": {},
   "outputs": [],
   "source": [
    "le = LabelEncoder()\n",
    "le.fit(labels)\n",
    "df['label'] = le.transform(df['Phenotype-Replicate_1'])"
   ]
  },
  {
   "cell_type": "markdown",
   "id": "nominated-hypothesis",
   "metadata": {},
   "source": [
    "Our dataframe has a bunch of extra fields that are not necessary for this analysis.  Let's simplify and create a new dataframe with only fields we care about. "
   ]
  },
  {
   "cell_type": "code",
   "execution_count": 14,
   "id": "premium-tennessee",
   "metadata": {},
   "outputs": [
    {
     "data": {
      "text/html": [
       "<div>\n",
       "<style scoped>\n",
       "    .dataframe tbody tr th:only-of-type {\n",
       "        vertical-align: middle;\n",
       "    }\n",
       "\n",
       "    .dataframe tbody tr th {\n",
       "        vertical-align: top;\n",
       "    }\n",
       "\n",
       "    .dataframe thead th {\n",
       "        text-align: right;\n",
       "    }\n",
       "</style>\n",
       "<table border=\"1\" class=\"dataframe\">\n",
       "  <thead>\n",
       "    <tr style=\"text-align: right;\">\n",
       "      <th></th>\n",
       "      <th>PUBCHEM_CID</th>\n",
       "      <th>Phenotype-Replicate_1</th>\n",
       "      <th>label</th>\n",
       "    </tr>\n",
       "  </thead>\n",
       "  <tbody>\n",
       "    <tr>\n",
       "      <th>0</th>\n",
       "      <td>197033</td>\n",
       "      <td>Inhibitor</td>\n",
       "      <td>2</td>\n",
       "    </tr>\n",
       "    <tr>\n",
       "      <th>1</th>\n",
       "      <td>5281670</td>\n",
       "      <td>Inactive</td>\n",
       "      <td>1</td>\n",
       "    </tr>\n",
       "    <tr>\n",
       "      <th>2</th>\n",
       "      <td>6604832</td>\n",
       "      <td>Inhibitor</td>\n",
       "      <td>2</td>\n",
       "    </tr>\n",
       "    <tr>\n",
       "      <th>3</th>\n",
       "      <td>5280443</td>\n",
       "      <td>Inhibitor</td>\n",
       "      <td>2</td>\n",
       "    </tr>\n",
       "    <tr>\n",
       "      <th>4</th>\n",
       "      <td>836</td>\n",
       "      <td>Inhibitor</td>\n",
       "      <td>2</td>\n",
       "    </tr>\n",
       "    <tr>\n",
       "      <th>...</th>\n",
       "      <td>...</td>\n",
       "      <td>...</td>\n",
       "      <td>...</td>\n",
       "    </tr>\n",
       "    <tr>\n",
       "      <th>5237</th>\n",
       "      <td>11957637</td>\n",
       "      <td>Inactive</td>\n",
       "      <td>1</td>\n",
       "    </tr>\n",
       "    <tr>\n",
       "      <th>5238</th>\n",
       "      <td>4906</td>\n",
       "      <td>Inactive</td>\n",
       "      <td>1</td>\n",
       "    </tr>\n",
       "    <tr>\n",
       "      <th>5239</th>\n",
       "      <td>5593</td>\n",
       "      <td>Inhibitor</td>\n",
       "      <td>2</td>\n",
       "    </tr>\n",
       "    <tr>\n",
       "      <th>5240</th>\n",
       "      <td>2968</td>\n",
       "      <td>Inhibitor</td>\n",
       "      <td>2</td>\n",
       "    </tr>\n",
       "    <tr>\n",
       "      <th>5241</th>\n",
       "      <td>108107</td>\n",
       "      <td>Activator</td>\n",
       "      <td>0</td>\n",
       "    </tr>\n",
       "  </tbody>\n",
       "</table>\n",
       "<p>5238 rows × 3 columns</p>\n",
       "</div>"
      ],
      "text/plain": [
       "      PUBCHEM_CID Phenotype-Replicate_1  label\n",
       "0          197033             Inhibitor      2\n",
       "1         5281670              Inactive      1\n",
       "2         6604832             Inhibitor      2\n",
       "3         5280443             Inhibitor      2\n",
       "4             836             Inhibitor      2\n",
       "...           ...                   ...    ...\n",
       "5237     11957637              Inactive      1\n",
       "5238         4906              Inactive      1\n",
       "5239         5593             Inhibitor      2\n",
       "5240         2968             Inhibitor      2\n",
       "5241       108107             Activator      0\n",
       "\n",
       "[5238 rows x 3 columns]"
      ]
     },
     "execution_count": 14,
     "metadata": {},
     "output_type": "execute_result"
    }
   ],
   "source": [
    "data_df = df[['PUBCHEM_CID','Phenotype-Replicate_1','label']].copy()\n",
    "data_df"
   ]
  },
  {
   "cell_type": "markdown",
   "id": "remarkable-terrorist",
   "metadata": {},
   "source": [
    "# Add chemical structures to the PubChem data\n",
    "Now we'll use pubchempy to look up chemical structures based on **PUBCHEM_CID** and add them to our dataframe.  In order to keep the PubChem server happy, we'll break the **PUBCHEM_CID** list into chunks of 100. "
   ]
  },
  {
   "cell_type": "code",
   "execution_count": 15,
   "id": "nonprofit-mississippi",
   "metadata": {},
   "outputs": [
    {
     "data": {
      "application/vnd.jupyter.widget-view+json": {
       "model_id": "85e00103ff3447eaa8a011de3d43e908",
       "version_major": 2,
       "version_minor": 0
      },
      "text/plain": [
       "  0%|          | 0/52 [00:00<?, ?it/s]"
      ]
     },
     "metadata": {},
     "output_type": "display_data"
    }
   ],
   "source": [
    "cmpd_list = []\n",
    "num_chunks = len(df)/100\n",
    "for chunk in tqdm(np.array_split(data_df.PUBCHEM_CID,num_chunks)):\n",
    "    cmpd_list.append(pcp.get_compounds(chunk.tolist()))"
   ]
  },
  {
   "cell_type": "markdown",
   "id": "impossible-bikini",
   "metadata": {},
   "source": [
    "We collected the chemical structures in a list of lists. We need to flatten this into a single list. The operation works something like this \n",
    "\n",
    "<pre>[[1,2,3],[4,5,6],[7,8,9]] -> [1,2,3,4,5,6,7,8,9]</pre>"
   ]
  },
  {
   "cell_type": "code",
   "execution_count": 16,
   "id": "european-stability",
   "metadata": {},
   "outputs": [],
   "source": [
    "data_df['Compound'] = list(itertools.chain(*cmpd_list))"
   ]
  },
  {
   "cell_type": "markdown",
   "id": "fresh-integrity",
   "metadata": {},
   "source": [
    "Extract the **SMILES** from the **Compound** objects in the **Compound** column. "
   ]
  },
  {
   "cell_type": "code",
   "execution_count": 17,
   "id": "textile-adapter",
   "metadata": {},
   "outputs": [],
   "source": [
    "data_df['SMILES'] = [x.canonical_smiles for x in data_df.Compound]"
   ]
  },
  {
   "cell_type": "markdown",
   "id": "italian-democrat",
   "metadata": {},
   "source": [
    "# Calculate molecular descriptors\n",
    "Create a **DescriptorGen** object for generating molecular descriptors. "
   ]
  },
  {
   "cell_type": "code",
   "execution_count": 18,
   "id": "advance-survivor",
   "metadata": {},
   "outputs": [],
   "source": [
    "desc_gen = DescriptorGen()"
   ]
  },
  {
   "cell_type": "markdown",
   "id": "immune-aquatic",
   "metadata": {},
   "source": [
    "Add the desecriptors to the dataframe. "
   ]
  },
  {
   "cell_type": "code",
   "execution_count": 19,
   "id": "accurate-brave",
   "metadata": {},
   "outputs": [
    {
     "data": {
      "application/vnd.jupyter.widget-view+json": {
       "model_id": "fb2f3134f5824b7aab7eed42bb2177ef",
       "version_major": 2,
       "version_minor": 0
      },
      "text/plain": [
       "  0%|          | 0/5238 [00:00<?, ?it/s]"
      ]
     },
     "metadata": {},
     "output_type": "display_data"
    }
   ],
   "source": [
    "data_df['desc'] = data_df.SMILES.progress_apply(desc_gen.from_smiles)"
   ]
  },
  {
   "cell_type": "markdown",
   "id": "original-spiritual",
   "metadata": {},
   "source": [
    "# Split the data into training and test sets"
   ]
  },
  {
   "cell_type": "code",
   "execution_count": 20,
   "id": "loaded-atmosphere",
   "metadata": {},
   "outputs": [],
   "source": [
    "train, test = train_test_split(data_df)\n",
    "train_X = np.stack(train.desc)\n",
    "train_y = train.label\n",
    "test_X = np.stack(test.desc)\n",
    "test_y = test.label"
   ]
  },
  {
   "cell_type": "markdown",
   "id": "western-resistance",
   "metadata": {},
   "source": [
    "# Create and evaluate a machine learning model\n",
    "- Intstantiate a [LighGBM classifier](https://lightgbm.readthedocs.io/en/latest/pythonapi/lightgbm.LGBMClassifier.html#lightgbm.LGBMClassifier)\n",
    "- Train the model \n",
    "- Predict on the test set"
   ]
  },
  {
   "cell_type": "code",
   "execution_count": 21,
   "id": "psychological-technical",
   "metadata": {},
   "outputs": [],
   "source": [
    "lgbm = LGBMClassifier()\n",
    "lgbm.fit(train_X, train_y)\n",
    "pred = lgbm.predict_proba(test_X)"
   ]
  },
  {
   "cell_type": "markdown",
   "id": "potential-receiver",
   "metadata": {},
   "source": [
    "Evaluate model performance using the ROC AUC score.  Note that this is a little different with a multiclass classifer.  We specify **class='ovo'** which means that we are evaluating \"one vs one\". We evaluate the AUC for all pairs of classes.  The argument **average='macro'** indicates that the reported AUC is the average of all of the **one vs one** comparisons. "
   ]
  },
  {
   "cell_type": "code",
   "execution_count": 22,
   "id": "urban-glenn",
   "metadata": {},
   "outputs": [
    {
     "data": {
      "text/plain": [
       "0.7314209949069332"
      ]
     },
     "execution_count": 22,
     "metadata": {},
     "output_type": "execute_result"
    }
   ],
   "source": [
    "roc_auc_score(test_y,pred,multi_class='ovo',average='macro')"
   ]
  },
  {
   "cell_type": "markdown",
   "id": "acquired-lafayette",
   "metadata": {},
   "source": [
    "We can also plot a confusion matrix to examine the model's performance on each of the three classes. "
   ]
  },
  {
   "cell_type": "code",
   "execution_count": 23,
   "id": "equal-automation",
   "metadata": {
    "scrolled": false
   },
   "outputs": [
    {
     "data": {
      "text/plain": [
       "<sklearn.metrics._plot.confusion_matrix.ConfusionMatrixDisplay at 0x10df6ed90>"
      ]
     },
     "execution_count": 23,
     "metadata": {},
     "output_type": "execute_result"
    },
    {
     "data": {
      "image/png": "[encoded data removed]",
      "text/plain": [
       "<Figure size 576x576 with 2 Axes>"
      ]
     },
     "metadata": {},
     "output_type": "display_data"
    }
   ],
   "source": [
    "sns.set_style(\"white\")\n",
    "plt.rcParams[\"figure.figsize\"] = (8,8)\n",
    "plot_confusion_matrix(lgbm,test_X,test_y,display_labels=labels,cmap=plt.cm.Blues)"
   ]
  },
  {
   "cell_type": "markdown",
   "id": "nuclear-outline",
   "metadata": {},
   "source": [
    "# Use oversampling to compensate for imbalanced data\n",
    "Load the imbalanced-learn library to perform oversampling.  In a simple oversampling approach we repeated sample the imbalanced class(es) to create a balanced dataset. "
   ]
  },
  {
   "cell_type": "code",
   "execution_count": 24,
   "id": "latter-carpet",
   "metadata": {},
   "outputs": [],
   "source": [
    "from imblearn.over_sampling import RandomOverSampler"
   ]
  },
  {
   "cell_type": "markdown",
   "id": "dietary-pizza",
   "metadata": {},
   "source": [
    "We will create an oversampling object and use it to resample our training set. "
   ]
  },
  {
   "cell_type": "code",
   "execution_count": 25,
   "id": "mental-coach",
   "metadata": {},
   "outputs": [],
   "source": [
    "ros = RandomOverSampler()\n",
    "resample_X, resample_y = ros.fit_resample(train_X,train_y)"
   ]
  },
  {
   "cell_type": "markdown",
   "id": "constitutional-emission",
   "metadata": {},
   "source": [
    "Recall that our original training set is somewhat imbalanced.  The minority class (0 or Activator) only accounts for ~7% of the data. "
   ]
  },
  {
   "cell_type": "code",
   "execution_count": 26,
   "id": "split-amount",
   "metadata": {},
   "outputs": [
    {
     "data": {
      "text/plain": [
       "2    2283\n",
       "1    1395\n",
       "0     250\n",
       "Name: label, dtype: int64"
      ]
     },
     "execution_count": 26,
     "metadata": {},
     "output_type": "execute_result"
    }
   ],
   "source": [
    "pd.Series(train_y).value_counts()"
   ]
  },
  {
   "cell_type": "markdown",
   "id": "bearing-comparison",
   "metadata": {},
   "source": [
    "After oversampling the dataset is balanced. "
   ]
  },
  {
   "cell_type": "code",
   "execution_count": 27,
   "id": "human-venice",
   "metadata": {},
   "outputs": [
    {
     "data": {
      "text/plain": [
       "0    2283\n",
       "1    2283\n",
       "2    2283\n",
       "Name: label, dtype: int64"
      ]
     },
     "execution_count": 27,
     "metadata": {},
     "output_type": "execute_result"
    }
   ],
   "source": [
    "pd.Series(resample_y).value_counts()"
   ]
  },
  {
   "cell_type": "markdown",
   "id": "documentary-italian",
   "metadata": {},
   "source": [
    "Build a model with the balanced, oversampled data"
   ]
  },
  {
   "cell_type": "code",
   "execution_count": 28,
   "id": "hairy-congress",
   "metadata": {},
   "outputs": [
    {
     "data": {
      "text/plain": [
       "LGBMClassifier()"
      ]
     },
     "execution_count": 28,
     "metadata": {},
     "output_type": "execute_result"
    }
   ],
   "source": [
    "resample_lgbm = LGBMClassifier()\n",
    "resample_lgbm.fit(resample_X, resample_y)"
   ]
  },
  {
   "cell_type": "markdown",
   "id": "regular-gospel",
   "metadata": {},
   "source": [
    "Make a prediction with the new model, built with the resampled data. "
   ]
  },
  {
   "cell_type": "code",
   "execution_count": 29,
   "id": "revised-praise",
   "metadata": {},
   "outputs": [
    {
     "data": {
      "text/plain": [
       "0.7711599173637508"
      ]
     },
     "execution_count": 29,
     "metadata": {},
     "output_type": "execute_result"
    }
   ],
   "source": [
    "resample_pred = resample_lgbm.predict_proba(test_X)\n",
    "roc_auc_score(test_y,resample_pred,multi_class='ovr',average='macro')"
   ]
  },
  {
   "cell_type": "markdown",
   "id": "empirical-victoria",
   "metadata": {},
   "source": [
    "As above, we can plot a confusion matrix to examine the performance of the classifier trained on the oversampled data. Let's put the two confusion matrices side by side to compare.  "
   ]
  },
  {
   "cell_type": "code",
   "execution_count": 30,
   "id": "renewable-helicopter",
   "metadata": {},
   "outputs": [
    {
     "data": {
      "image/png": "[encoded data removed]",
      "text/plain": [
       "<Figure size 1080x360 with 4 Axes>"
      ]
     },
     "metadata": {},
     "output_type": "display_data"
    }
   ],
   "source": [
    "sns.set_style(\"white\")\n",
    "classifiers = [lgbm,resample_lgbm]\n",
    "titles = [\"Standard\",\"Oversampled\"]\n",
    "fig, axes = plt.subplots(nrows=1, ncols=2, figsize=(15,5))\n",
    "for cls,ax,title in zip(classifiers, axes, titles):\n",
    "    plot_confusion_matrix(cls,test_X,test_y,display_labels=labels,cmap=plt.cm.Blues,ax=ax)\n",
    "    ax.title.set_text(title)\n",
    "plt.tight_layout()"
   ]
  },
  {
   "cell_type": "markdown",
   "id": "responsible-voltage",
   "metadata": {},
   "source": [
    "# Comparing the standard and oversampled models\n",
    "Let's see if there is a difference in AUC between the Standard and Resampled models.  In order to compare we'll perform ten rounds of cross validation.  "
   ]
  },
  {
   "cell_type": "code",
   "execution_count": 31,
   "id": "coated-comment",
   "metadata": {},
   "outputs": [
    {
     "data": {
      "application/vnd.jupyter.widget-view+json": {
       "model_id": "9188c3b483e64146810191e832b5a5ff",
       "version_major": 2,
       "version_minor": 0
      },
      "text/plain": [
       "  0%|          | 0/10 [00:00<?, ?it/s]"
      ]
     },
     "metadata": {},
     "output_type": "display_data"
    }
   ],
   "source": [
    "res = []\n",
    "for i in tqdm(range(0,10)):\n",
    "    # split the data into training and test sets\n",
    "    train, test = train_test_split(data_df)\n",
    "    train_X = np.stack(train.desc)\n",
    "    train_y = train.label\n",
    "    test_X = np.stack(test.desc)\n",
    "    test_y = test.label\n",
    "    # Create the standard model\n",
    "    lgbm = LGBMClassifier()\n",
    "    lgbm.fit(train_X,train_y)\n",
    "    pred = lgbm.predict_proba(test_X)\n",
    "    auc = roc_auc_score(test_y,pred,multi_class='ovo',average='macro')\n",
    "    # Create the resampled model\n",
    "    resample_lgbm = LGBMClassifier()\n",
    "    resample_X, resample_y = ros.fit_resample(train_X,train_y)\n",
    "    resample_lgbm.fit(resample_X, resample_y)\n",
    "    resample_pred = resample_lgbm.predict_proba(test_X)\n",
    "    resample_auc = roc_auc_score(test_y,resample_pred,multi_class='ovr',average='macro')\n",
    "    res.append([auc, resample_auc])"
   ]
  },
  {
   "cell_type": "markdown",
   "id": "forced-avenue",
   "metadata": {},
   "source": [
    "Create a dataframe with the AUC values using the Standard and Oversampled models"
   ]
  },
  {
   "cell_type": "code",
   "execution_count": 32,
   "id": "complicated-income",
   "metadata": {},
   "outputs": [],
   "source": [
    "res = np.array(res)\n",
    "res_df = pd.DataFrame(res,columns=[\"Standard\",\"Oversampled\"])"
   ]
  },
  {
   "cell_type": "code",
   "execution_count": 33,
   "id": "tribal-african",
   "metadata": {},
   "outputs": [
    {
     "data": {
      "text/html": [
       "<div>\n",
       "<style scoped>\n",
       "    .dataframe tbody tr th:only-of-type {\n",
       "        vertical-align: middle;\n",
       "    }\n",
       "\n",
       "    .dataframe tbody tr th {\n",
       "        vertical-align: top;\n",
       "    }\n",
       "\n",
       "    .dataframe thead th {\n",
       "        text-align: right;\n",
       "    }\n",
       "</style>\n",
       "<table border=\"1\" class=\"dataframe\">\n",
       "  <thead>\n",
       "    <tr style=\"text-align: right;\">\n",
       "      <th></th>\n",
       "      <th>Standard</th>\n",
       "      <th>Oversampled</th>\n",
       "    </tr>\n",
       "  </thead>\n",
       "  <tbody>\n",
       "    <tr>\n",
       "      <th>0</th>\n",
       "      <td>0.754473</td>\n",
       "      <td>0.786771</td>\n",
       "    </tr>\n",
       "    <tr>\n",
       "      <th>1</th>\n",
       "      <td>0.734688</td>\n",
       "      <td>0.764611</td>\n",
       "    </tr>\n",
       "    <tr>\n",
       "      <th>2</th>\n",
       "      <td>0.748104</td>\n",
       "      <td>0.784988</td>\n",
       "    </tr>\n",
       "    <tr>\n",
       "      <th>3</th>\n",
       "      <td>0.750127</td>\n",
       "      <td>0.782358</td>\n",
       "    </tr>\n",
       "    <tr>\n",
       "      <th>4</th>\n",
       "      <td>0.756903</td>\n",
       "      <td>0.788311</td>\n",
       "    </tr>\n",
       "  </tbody>\n",
       "</table>\n",
       "</div>"
      ],
      "text/plain": [
       "   Standard  Oversampled\n",
       "0  0.754473     0.786771\n",
       "1  0.734688     0.764611\n",
       "2  0.748104     0.784988\n",
       "3  0.750127     0.782358\n",
       "4  0.756903     0.788311"
      ]
     },
     "execution_count": 33,
     "metadata": {},
     "output_type": "execute_result"
    }
   ],
   "source": [
    "res_df.head()"
   ]
  },
  {
   "cell_type": "markdown",
   "id": "norman-tuning",
   "metadata": {},
   "source": [
    "Reformat the dataframe to combine the two columns in **res_df**"
   ]
  },
  {
   "cell_type": "code",
   "execution_count": 34,
   "id": "active-money",
   "metadata": {},
   "outputs": [
    {
     "data": {
      "text/html": [
       "<div>\n",
       "<style scoped>\n",
       "    .dataframe tbody tr th:only-of-type {\n",
       "        vertical-align: middle;\n",
       "    }\n",
       "\n",
       "    .dataframe tbody tr th {\n",
       "        vertical-align: top;\n",
       "    }\n",
       "\n",
       "    .dataframe thead th {\n",
       "        text-align: right;\n",
       "    }\n",
       "</style>\n",
       "<table border=\"1\" class=\"dataframe\">\n",
       "  <thead>\n",
       "    <tr style=\"text-align: right;\">\n",
       "      <th></th>\n",
       "      <th>Method</th>\n",
       "      <th>AUC</th>\n",
       "    </tr>\n",
       "  </thead>\n",
       "  <tbody>\n",
       "    <tr>\n",
       "      <th>0</th>\n",
       "      <td>Standard</td>\n",
       "      <td>0.754473</td>\n",
       "    </tr>\n",
       "    <tr>\n",
       "      <th>1</th>\n",
       "      <td>Standard</td>\n",
       "      <td>0.734688</td>\n",
       "    </tr>\n",
       "    <tr>\n",
       "      <th>2</th>\n",
       "      <td>Standard</td>\n",
       "      <td>0.748104</td>\n",
       "    </tr>\n",
       "    <tr>\n",
       "      <th>3</th>\n",
       "      <td>Standard</td>\n",
       "      <td>0.750127</td>\n",
       "    </tr>\n",
       "    <tr>\n",
       "      <th>4</th>\n",
       "      <td>Standard</td>\n",
       "      <td>0.756903</td>\n",
       "    </tr>\n",
       "    <tr>\n",
       "      <th>5</th>\n",
       "      <td>Standard</td>\n",
       "      <td>0.737540</td>\n",
       "    </tr>\n",
       "    <tr>\n",
       "      <th>6</th>\n",
       "      <td>Standard</td>\n",
       "      <td>0.758273</td>\n",
       "    </tr>\n",
       "    <tr>\n",
       "      <th>7</th>\n",
       "      <td>Standard</td>\n",
       "      <td>0.746824</td>\n",
       "    </tr>\n",
       "    <tr>\n",
       "      <th>8</th>\n",
       "      <td>Standard</td>\n",
       "      <td>0.766870</td>\n",
       "    </tr>\n",
       "    <tr>\n",
       "      <th>9</th>\n",
       "      <td>Standard</td>\n",
       "      <td>0.756476</td>\n",
       "    </tr>\n",
       "    <tr>\n",
       "      <th>10</th>\n",
       "      <td>Oversampled</td>\n",
       "      <td>0.786771</td>\n",
       "    </tr>\n",
       "    <tr>\n",
       "      <th>11</th>\n",
       "      <td>Oversampled</td>\n",
       "      <td>0.764611</td>\n",
       "    </tr>\n",
       "    <tr>\n",
       "      <th>12</th>\n",
       "      <td>Oversampled</td>\n",
       "      <td>0.784988</td>\n",
       "    </tr>\n",
       "    <tr>\n",
       "      <th>13</th>\n",
       "      <td>Oversampled</td>\n",
       "      <td>0.782358</td>\n",
       "    </tr>\n",
       "    <tr>\n",
       "      <th>14</th>\n",
       "      <td>Oversampled</td>\n",
       "      <td>0.788311</td>\n",
       "    </tr>\n",
       "    <tr>\n",
       "      <th>15</th>\n",
       "      <td>Oversampled</td>\n",
       "      <td>0.772825</td>\n",
       "    </tr>\n",
       "    <tr>\n",
       "      <th>16</th>\n",
       "      <td>Oversampled</td>\n",
       "      <td>0.779511</td>\n",
       "    </tr>\n",
       "    <tr>\n",
       "      <th>17</th>\n",
       "      <td>Oversampled</td>\n",
       "      <td>0.775384</td>\n",
       "    </tr>\n",
       "    <tr>\n",
       "      <th>18</th>\n",
       "      <td>Oversampled</td>\n",
       "      <td>0.792321</td>\n",
       "    </tr>\n",
       "    <tr>\n",
       "      <th>19</th>\n",
       "      <td>Oversampled</td>\n",
       "      <td>0.790699</td>\n",
       "    </tr>\n",
       "  </tbody>\n",
       "</table>\n",
       "</div>"
      ],
      "text/plain": [
       "         Method       AUC\n",
       "0      Standard  0.754473\n",
       "1      Standard  0.734688\n",
       "2      Standard  0.748104\n",
       "3      Standard  0.750127\n",
       "4      Standard  0.756903\n",
       "5      Standard  0.737540\n",
       "6      Standard  0.758273\n",
       "7      Standard  0.746824\n",
       "8      Standard  0.766870\n",
       "9      Standard  0.756476\n",
       "10  Oversampled  0.786771\n",
       "11  Oversampled  0.764611\n",
       "12  Oversampled  0.784988\n",
       "13  Oversampled  0.782358\n",
       "14  Oversampled  0.788311\n",
       "15  Oversampled  0.772825\n",
       "16  Oversampled  0.779511\n",
       "17  Oversampled  0.775384\n",
       "18  Oversampled  0.792321\n",
       "19  Oversampled  0.790699"
      ]
     },
     "execution_count": 34,
     "metadata": {},
     "output_type": "execute_result"
    }
   ],
   "source": [
    "melt_df = res_df.melt()\n",
    "melt_df.columns = [\"Method\",\"AUC\"]\n",
    "melt_df"
   ]
  },
  {
   "cell_type": "markdown",
   "id": "twenty-helen",
   "metadata": {},
   "source": [
    "Plot the AUC distributions for the Standard and Oversampled models as a kernel density estimate (KDE)"
   ]
  },
  {
   "cell_type": "code",
   "execution_count": 35,
   "id": "funky-vector",
   "metadata": {},
   "outputs": [
    {
     "data": {
      "image/png": "[encoded data removed]",
      "text/plain": [
       "<Figure size 720x720 with 1 Axes>"
      ]
     },
     "metadata": {},
     "output_type": "display_data"
    }
   ],
   "source": [
    "sns.set(rc={'figure.figsize': (10, 10)})\n",
    "sns.set_context('talk')\n",
    "sns.kdeplot(x=\"AUC\",hue=\"Method\",data=melt_df);"
   ]
  },
  {
   "cell_type": "markdown",
   "id": "martial-innocent",
   "metadata": {},
   "source": [
    "Another way of comparing the distributions is to use the plot_paired method available in the pingouin library. Note that the AUC for the Resampled method is always greater than that for the Standard method. "
   ]
  },
  {
   "cell_type": "code",
   "execution_count": 36,
   "id": "located-tyler",
   "metadata": {},
   "outputs": [],
   "source": [
    "from pingouin import wilcoxon, plot_paired"
   ]
  },
  {
   "cell_type": "code",
   "execution_count": 37,
   "id": "occupied-surgeon",
   "metadata": {},
   "outputs": [
    {
     "data": {
      "image/png": "[encoded data removed]",
      "text/plain": [
       "<Figure size 400x400 with 1 Axes>"
      ]
     },
     "metadata": {},
     "output_type": "display_data"
    }
   ],
   "source": [
    "melt_df['cycle'] = list(range(0,10))+list(range(0,10))\n",
    "plot_paired(data=melt_df,dv=\"AUC\",within=\"Method\",subject=\"cycle\");"
   ]
  },
  {
   "cell_type": "markdown",
   "id": "whole-syracuse",
   "metadata": {},
   "source": [
    "In order to compare distributions, we sometime perform a t-test.  However, a t-test assumes that the data is normally distributed. Since we can't make this assumption, we can use the Wilcoxon ranked sum test, which is the non-parametric equivalent to the t-test.  The pingouin library provides a convenient implementation in the **wilcoxon** function. As we can see from the p-value in the table below, the difference in the means of the distributions is statistically significant. "
   ]
  },
  {
   "cell_type": "code",
   "execution_count": 38,
   "id": "ordinary-termination",
   "metadata": {},
   "outputs": [
    {
     "data": {
      "text/html": [
       "<div>\n",
       "<style scoped>\n",
       "    .dataframe tbody tr th:only-of-type {\n",
       "        vertical-align: middle;\n",
       "    }\n",
       "\n",
       "    .dataframe tbody tr th {\n",
       "        vertical-align: top;\n",
       "    }\n",
       "\n",
       "    .dataframe thead th {\n",
       "        text-align: right;\n",
       "    }\n",
       "</style>\n",
       "<table border=\"1\" class=\"dataframe\">\n",
       "  <thead>\n",
       "    <tr style=\"text-align: right;\">\n",
       "      <th></th>\n",
       "      <th>W-val</th>\n",
       "      <th>alternative</th>\n",
       "      <th>p-val</th>\n",
       "      <th>RBC</th>\n",
       "      <th>CLES</th>\n",
       "    </tr>\n",
       "  </thead>\n",
       "  <tbody>\n",
       "    <tr>\n",
       "      <th>Wilcoxon</th>\n",
       "      <td>0.0</td>\n",
       "      <td>two-sided</td>\n",
       "      <td>0.001953</td>\n",
       "      <td>-1.0</td>\n",
       "      <td>0.01</td>\n",
       "    </tr>\n",
       "  </tbody>\n",
       "</table>\n",
       "</div>"
      ],
      "text/plain": [
       "          W-val alternative     p-val  RBC  CLES\n",
       "Wilcoxon    0.0   two-sided  0.001953 -1.0  0.01"
      ]
     },
     "execution_count": 38,
     "metadata": {},
     "output_type": "execute_result"
    }
   ],
   "source": [
    "wilcoxon(res_df.Standard,res_df.Oversampled)"
   ]
  },
  {
   "cell_type": "code",
   "execution_count": null,
   "id": "arabic-directive",
   "metadata": {},
   "outputs": [],
   "source": []
  }
 ],
 "metadata": {
  "kernelspec": {
   "display_name": "Python 3",
   "language": "python",
   "name": "python3"
  },
  "language_info": {
   "codemirror_mode": {
    "name": "ipython",
    "version": 3
   },
   "file_extension": ".py",
   "mimetype": "text/x-python",
   "name": "python",
   "nbconvert_exporter": "python",
   "pygments_lexer": "ipython3",
   "version": "3.9.1"
  }
 },
 "nbformat": 4,
 "nbformat_minor": 5
}
